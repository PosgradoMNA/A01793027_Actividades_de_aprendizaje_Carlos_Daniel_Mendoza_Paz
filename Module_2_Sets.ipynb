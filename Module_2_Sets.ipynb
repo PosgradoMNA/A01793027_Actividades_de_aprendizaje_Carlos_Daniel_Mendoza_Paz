{
  "nbformat": 4,
  "nbformat_minor": 0,
  "metadata": {
    "colab": {
      "provenance": [],
      "authorship_tag": "ABX9TyN9C2a3ca4KbR/jHgBOnTy1",
      "include_colab_link": true
    },
    "kernelspec": {
      "name": "python3",
      "display_name": "Python 3"
    },
    "language_info": {
      "name": "python"
    }
  },
  "cells": [
    {
      "cell_type": "markdown",
      "metadata": {
        "id": "view-in-github",
        "colab_type": "text"
      },
      "source": [
        "<a href=\"https://colab.research.google.com/github/PosgradoMNA/actividades-de-aprendizaje-Charles-CB/blob/main/Module_2_Sets.ipynb\" target=\"_parent\"><img src=\"https://colab.research.google.com/assets/colab-badge.svg\" alt=\"Open In Colab\"/></a>"
      ]
    },
    {
      "cell_type": "markdown",
      "source": [
        "# **Sets en Python**\n",
        "Los sets son un tipo de colección de datos por ende se pueden meter datos de diferentes tipos, int, float, string. A diferencia de las listas y tupples un set no tiene un indexado, solamente tienen una sola posición, y se declaran usando corchetes."
      ],
      "metadata": {
        "id": "sXsP6I6kRCUZ"
      }
    },
    {
      "cell_type": "code",
      "execution_count": 29,
      "metadata": {
        "id": "5vq3rtNrP4Sm",
        "outputId": "02e526dc-903d-4b3b-aa44-5249f0873d79",
        "colab": {
          "base_uri": "https://localhost:8080/"
        }
      },
      "outputs": [
        {
          "output_type": "execute_result",
          "data": {
            "text/plain": [
              "{'Disco', 'Hard Rock', 'Pop', 'R&B', 'Rock', 'Soul'}"
            ]
          },
          "metadata": {},
          "execution_count": 29
        }
      ],
      "source": [
        "Set1 = {\"Pop\", \"Rock\", \"Soul\", \"Hard Rock\", \"Rock\", \"R&B\", \"Rock\", \"Disco\"} #Cuando se crea la lista los elementos duplicados no estarán presentes, ejemplo la palabra rock\n",
        "Set1"
      ]
    },
    {
      "cell_type": "markdown",
      "source": [
        "Como convertir una lista en un set"
      ],
      "metadata": {
        "id": "FLO5zR2GTMZz"
      }
    },
    {
      "cell_type": "code",
      "source": [
        "album_list = [\"Michael Jackson\", \"Thriller\", \"Thriller\", 1982]"
      ],
      "metadata": {
        "id": "kqBk8JkLS9XY"
      },
      "execution_count": 30,
      "outputs": []
    },
    {
      "cell_type": "code",
      "source": [
        "album_set = set(album_list) #Aqui convertimos nuestra lista en un set, por ende los elementos duplicados se omitiran/eliminarán\n",
        "album_set"
      ],
      "metadata": {
        "id": "MKNus6vnTlon",
        "outputId": "43425134-9ad7-4a70-e4c7-7f7364d6082a",
        "colab": {
          "base_uri": "https://localhost:8080/"
        }
      },
      "execution_count": 31,
      "outputs": [
        {
          "output_type": "execute_result",
          "data": {
            "text/plain": [
              "{1982, 'Michael Jackson', 'Thriller'}"
            ]
          },
          "metadata": {},
          "execution_count": 31
        }
      ]
    },
    {
      "cell_type": "markdown",
      "source": [
        "Como agregar o eliminar un elemento a un set"
      ],
      "metadata": {
        "id": "wHUsmwooUkS_"
      }
    },
    {
      "cell_type": "code",
      "source": [
        "SetA = {\"Thriller\", \"Back in Black\", \"AC/DC\"} #Creamos el set"
      ],
      "metadata": {
        "id": "2lCl9dufU2G6"
      },
      "execution_count": 32,
      "outputs": []
    },
    {
      "cell_type": "code",
      "source": [
        "SetA.add(\"Limp Bizkit\") #Agregamos un elemento a la lista. Si lo intentaramos agregar nuevamente nada pasaría ya que no poemos tener elementos repetidos en un set\n",
        "SetA"
      ],
      "metadata": {
        "id": "OtUEy9YSVPwq",
        "outputId": "d454a701-6434-4a2f-bdb0-0664fe17c236",
        "colab": {
          "base_uri": "https://localhost:8080/"
        }
      },
      "execution_count": 33,
      "outputs": [
        {
          "output_type": "execute_result",
          "data": {
            "text/plain": [
              "{'AC/DC', 'Back in Black', 'Limp Bizkit', 'Thriller'}"
            ]
          },
          "metadata": {},
          "execution_count": 33
        }
      ]
    },
    {
      "cell_type": "code",
      "source": [
        "SetA.remove(\"Limp Bizkit\") #De esta forma vamos a eliminar el elemento del set\n",
        "SetA"
      ],
      "metadata": {
        "id": "V6Z3-NPBVdqW",
        "outputId": "cefdaadc-1542-4c50-ee90-0edfcc93d2ff",
        "colab": {
          "base_uri": "https://localhost:8080/"
        }
      },
      "execution_count": 34,
      "outputs": [
        {
          "output_type": "execute_result",
          "data": {
            "text/plain": [
              "{'AC/DC', 'Back in Black', 'Thriller'}"
            ]
          },
          "metadata": {},
          "execution_count": 34
        }
      ]
    },
    {
      "cell_type": "markdown",
      "source": [
        "Como verificar si un elemento se encuentra en el set"
      ],
      "metadata": {
        "id": "6_MZoZZDWQsK"
      }
    },
    {
      "cell_type": "code",
      "source": [
        "\"Thriller\" in SetA #De esta forma verificamos si un elmento se encuentra dentro de nuestro set"
      ],
      "metadata": {
        "id": "PgU8MghpWEuv",
        "outputId": "d095c7be-7e94-4e9b-a0d0-5b5ab5f21cca",
        "colab": {
          "base_uri": "https://localhost:8080/"
        }
      },
      "execution_count": 35,
      "outputs": [
        {
          "output_type": "execute_result",
          "data": {
            "text/plain": [
              "True"
            ]
          },
          "metadata": {},
          "execution_count": 35
        }
      ]
    },
    {
      "cell_type": "code",
      "source": [
        "\"Limp Bizkit\" in SetA #De esta forma verificamos si un elemento se encuentra dentro de nuestro set"
      ],
      "metadata": {
        "id": "U-yUMST6WpAk",
        "outputId": "a8393450-d0e3-4a96-861e-b2a3ff86c3ed",
        "colab": {
          "base_uri": "https://localhost:8080/"
        }
      },
      "execution_count": 36,
      "outputs": [
        {
          "output_type": "execute_result",
          "data": {
            "text/plain": [
              "False"
            ]
          },
          "metadata": {},
          "execution_count": 36
        }
      ]
    },
    {
      "cell_type": "markdown",
      "source": [
        "Como combinar dos sets. Esto es posible de hacer en Python"
      ],
      "metadata": {
        "id": "39HGgwLSXR5T"
      }
    },
    {
      "cell_type": "code",
      "source": [
        "Album_set_1 = {\"Thriller\", \"Back in Black\", \"AC/DC\"}\n",
        "Album_set_1"
      ],
      "metadata": {
        "id": "YNpQ58hPWut5",
        "outputId": "0cfa2564-1f7d-4fe6-e8f2-7f1876f964f5",
        "colab": {
          "base_uri": "https://localhost:8080/"
        }
      },
      "execution_count": 39,
      "outputs": [
        {
          "output_type": "execute_result",
          "data": {
            "text/plain": [
              "{'AC/DC', 'Back in Black', 'Thriller'}"
            ]
          },
          "metadata": {},
          "execution_count": 39
        }
      ]
    },
    {
      "cell_type": "code",
      "source": [
        "Album_set_2 = {\"Thriller\", \"Back in Black\", \"The Dark Side of the Moon\"}\n",
        "Album_set_2"
      ],
      "metadata": {
        "id": "YmyOxKjUX0Qa",
        "outputId": "f30f98e3-efd0-4001-af1f-c7ae669c88be",
        "colab": {
          "base_uri": "https://localhost:8080/"
        }
      },
      "execution_count": 44,
      "outputs": [
        {
          "output_type": "execute_result",
          "data": {
            "text/plain": [
              "{'Back in Black', 'The Dark Side of the Moon', 'Thriller'}"
            ]
          },
          "metadata": {},
          "execution_count": 44
        }
      ]
    },
    {
      "cell_type": "code",
      "source": [
        "Album_set_1 & Album_set_2 #De esta forma estaríamos combinando ambos de nuestros sets. Este nuevo set contendrá todos los elementos que se encuentren en amos sets"
      ],
      "metadata": {
        "id": "3sck6jGxYGeg",
        "outputId": "138346a0-03e0-43eb-c5f6-c9ca7e867904",
        "colab": {
          "base_uri": "https://localhost:8080/"
        }
      },
      "execution_count": 51,
      "outputs": [
        {
          "output_type": "execute_result",
          "data": {
            "text/plain": [
              "{'Back in Black', 'The Dark Side of the Moon', 'Thriller'}"
            ]
          },
          "metadata": {},
          "execution_count": 51
        }
      ]
    },
    {
      "cell_type": "markdown",
      "source": [
        "Como combinar dos sets, y que pasa una vez que estos se combinan.\n",
        "Cuando combinamos dos sets, solamente permaneceran los elementos que sean compartidos en ambos sets."
      ],
      "metadata": {
        "id": "rEOUZmJxc1B6"
      }
    },
    {
      "cell_type": "code",
      "source": [
        "SetUno = {\"Perro\", \"Aguila\", \"Pato\"}\n",
        "SetDos = {\"Perro\", \"Aguila\", \"Pato\", \"Gallo\"}"
      ],
      "metadata": {
        "id": "vp90P4lYc0an"
      },
      "execution_count": 58,
      "outputs": []
    },
    {
      "cell_type": "code",
      "source": [
        "SetTres = SetUno & SetDos\n",
        "SetTres"
      ],
      "metadata": {
        "id": "pJyOd_kPd9d7",
        "outputId": "23f227f8-056b-4440-83ec-a1fbe75ff9e9",
        "colab": {
          "base_uri": "https://localhost:8080/"
        }
      },
      "execution_count": 54,
      "outputs": [
        {
          "output_type": "execute_result",
          "data": {
            "text/plain": [
              "{'Aguila', 'Pato', 'Perro'}"
            ]
          },
          "metadata": {},
          "execution_count": 54
        }
      ]
    },
    {
      "cell_type": "code",
      "source": [
        "SetUno.union(SetDos) # De esta forma encontramos la union de ambos sets por ende tendremos todos los elementos de ambos. Sin embargo los elementos repetidos seguirán siendo omitidos"
      ],
      "metadata": {
        "id": "aNEr6MhifNOo",
        "outputId": "d2c851c8-0534-41ca-bf8e-92b55f1832dd",
        "colab": {
          "base_uri": "https://localhost:8080/"
        }
      },
      "execution_count": 60,
      "outputs": [
        {
          "output_type": "execute_result",
          "data": {
            "text/plain": [
              "{'Aguila', 'Gallo', 'Pato', 'Perro'}"
            ]
          },
          "metadata": {},
          "execution_count": 60
        }
      ]
    },
    {
      "cell_type": "markdown",
      "source": [
        "Como checar si un set es un subset"
      ],
      "metadata": {
        "id": "z0W_qeKVgEwD"
      }
    },
    {
      "cell_type": "code",
      "source": [
        "SetTres.issubset(SetUno) #Aqui validamos si SetUno es un subset de SetTres"
      ],
      "metadata": {
        "id": "AduPDLeZf677",
        "outputId": "1280281a-a1d2-4d01-bfdb-74c61bfebb0b",
        "colab": {
          "base_uri": "https://localhost:8080/"
        }
      },
      "execution_count": 62,
      "outputs": [
        {
          "output_type": "execute_result",
          "data": {
            "text/plain": [
              "True"
            ]
          },
          "metadata": {},
          "execution_count": 62
        }
      ]
    },
    {
      "cell_type": "code",
      "source": [
        "S={'A','B','C'}\n",
        "U={'A','Z','C'}"
      ],
      "metadata": {
        "id": "O08hU-t2gf08"
      },
      "execution_count": 64,
      "outputs": []
    },
    {
      "cell_type": "code",
      "source": [
        "S & U"
      ],
      "metadata": {
        "id": "Iev5P3KHhlnT",
        "outputId": "07736576-7a56-4b5d-abb7-0505ce153261",
        "colab": {
          "base_uri": "https://localhost:8080/"
        }
      },
      "execution_count": 66,
      "outputs": [
        {
          "output_type": "execute_result",
          "data": {
            "text/plain": [
              "{'A', 'C'}"
            ]
          },
          "metadata": {},
          "execution_count": 66
        }
      ]
    },
    {
      "cell_type": "markdown",
      "source": [
        "**Ecnontrar la union de los sets**"
      ],
      "metadata": {
        "id": "lyHEyyyOiFMl"
      }
    },
    {
      "cell_type": "code",
      "source": [
        "S.union(U)"
      ],
      "metadata": {
        "id": "oYb6BofpgpQ4",
        "outputId": "096035ac-078a-404a-b81e-9867580a757b",
        "colab": {
          "base_uri": "https://localhost:8080/"
        }
      },
      "execution_count": 68,
      "outputs": [
        {
          "output_type": "execute_result",
          "data": {
            "text/plain": [
              "{'A', 'B', 'C', 'Z'}"
            ]
          },
          "metadata": {},
          "execution_count": 68
        }
      ]
    },
    {
      "cell_type": "code",
      "source": [],
      "metadata": {
        "id": "lxOGWkGzgrhF"
      },
      "execution_count": null,
      "outputs": []
    }
  ]
}