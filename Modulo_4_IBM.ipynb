{
  "nbformat": 4,
  "nbformat_minor": 0,
  "metadata": {
    "colab": {
      "provenance": [],
      "collapsed_sections": [],
      "authorship_tag": "ABX9TyPwQXB2ekclL1MORTOWKXEv",
      "include_colab_link": true
    },
    "kernelspec": {
      "name": "python3",
      "display_name": "Python 3"
    },
    "language_info": {
      "name": "python"
    }
  },
  "cells": [
    {
      "cell_type": "markdown",
      "metadata": {
        "id": "view-in-github",
        "colab_type": "text"
      },
      "source": [
        "<a href=\"https://colab.research.google.com/github/PosgradoMNA/A01793027_Actividades_de_aprendizaje_Carlos_Daniel_Mendoza_Paz/blob/main/Modulo_4_IBM.ipynb\" target=\"_parent\"><img src=\"https://colab.research.google.com/assets/colab-badge.svg\" alt=\"Open In Colab\"/></a>"
      ]
    },
    {
      "cell_type": "markdown",
      "source": [
        "#**Modulo 4**\n",
        "##Semana 2 - Actividad 1: Python for Data Science (IBM)\n",
        "##Alumno: Carlos Daniel Mendoza Paz\n",
        "##Matricula: A01793027\n"
      ],
      "metadata": {
        "id": "kL8cFa4rA12p"
      }
    },
    {
      "cell_type": "markdown",
      "source": [
        "## **Reading files with open**"
      ],
      "metadata": {
        "id": "jwrLGv4WBS4r"
      }
    },
    {
      "cell_type": "markdown",
      "source": [
        "Utilizamos el comando Open para poder abribr algún archivo"
      ],
      "metadata": {
        "id": "3w0sNqhYnSoO"
      }
    },
    {
      "cell_type": "code",
      "source": [
        "example1 = \"example1.txt\"\n",
        "file1 = open(example1, \"r\"). #Aquí abrimos el archivo"
      ],
      "metadata": {
        "id": "o9MP5SRMnSoP"
      },
      "execution_count": null,
      "outputs": []
    },
    {
      "cell_type": "markdown",
      "source": [
        "Obtener el nombre del archivo"
      ],
      "metadata": {
        "id": "64LwG3eynZce"
      }
    },
    {
      "cell_type": "code",
      "source": [
        "file1.name"
      ],
      "metadata": {
        "colab": {
          "base_uri": "https://localhost:8080/",
          "height": 35
        },
        "id": "qR_kzIHindCa",
        "outputId": "250a43d7-d7f8-4b59-fd54-26d12e1275ad"
      },
      "execution_count": null,
      "outputs": [
        {
          "output_type": "execute_result",
          "data": {
            "text/plain": [
              "'example1.txt'"
            ],
            "application/vnd.google.colaboratory.intrinsic+json": {
              "type": "string"
            }
          },
          "metadata": {},
          "execution_count": 6
        }
      ]
    },
    {
      "cell_type": "markdown",
      "source": [
        "Obtener el modo del archivo"
      ],
      "metadata": {
        "id": "LzzZgSnDnp2c"
      }
    },
    {
      "cell_type": "code",
      "source": [
        "file1.mode"
      ],
      "metadata": {
        "colab": {
          "base_uri": "https://localhost:8080/",
          "height": 35
        },
        "id": "PS1_1VainlbX",
        "outputId": "8026a8d6-4b52-46ee-8b6d-eed32ae6b322"
      },
      "execution_count": null,
      "outputs": [
        {
          "output_type": "execute_result",
          "data": {
            "text/plain": [
              "'r'"
            ],
            "application/vnd.google.colaboratory.intrinsic+json": {
              "type": "string"
            }
          },
          "metadata": {},
          "execution_count": 9
        }
      ]
    },
    {
      "cell_type": "markdown",
      "source": [
        "Cerrar un archivo"
      ],
      "metadata": {
        "id": "HzCXkcN2JQlA"
      }
    },
    {
      "cell_type": "code",
      "source": [
        "File1.close() #Con este metodo podemos cerrar el archivo"
      ],
      "metadata": {
        "id": "-3Hp7IgCJAAG"
      },
      "execution_count": null,
      "outputs": []
    },
    {
      "cell_type": "markdown",
      "source": [
        "Leer el archivo y asignarselo a una variable"
      ],
      "metadata": {
        "id": "kmVGIZ49nxPm"
      }
    },
    {
      "cell_type": "code",
      "source": [
        "FileContent = file1.read()\n",
        "FileContent"
      ],
      "metadata": {
        "colab": {
          "base_uri": "https://localhost:8080/",
          "height": 35
        },
        "id": "sfcVx_J1nwgv",
        "outputId": "ab13a9d4-b8c9-4814-fbd5-cda5bd44ddc0"
      },
      "execution_count": null,
      "outputs": [
        {
          "output_type": "execute_result",
          "data": {
            "text/plain": [
              "''"
            ],
            "application/vnd.google.colaboratory.intrinsic+json": {
              "type": "string"
            }
          },
          "metadata": {},
          "execution_count": 13
        }
      ]
    },
    {
      "cell_type": "markdown",
      "source": [
        "Imprimir el archivo"
      ],
      "metadata": {
        "id": "gaBvQYlFpEcD"
      }
    },
    {
      "cell_type": "code",
      "source": [
        "print(FileContent)"
      ],
      "metadata": {
        "colab": {
          "base_uri": "https://localhost:8080/"
        },
        "id": "fcY20j9loppe",
        "outputId": "d7be531c-a4cf-4098-d272-72598a66e613"
      },
      "execution_count": null,
      "outputs": [
        {
          "output_type": "stream",
          "name": "stdout",
          "text": [
            "\n"
          ]
        }
      ]
    },
    {
      "cell_type": "markdown",
      "source": [
        "Ver el tipo de la variable\n"
      ],
      "metadata": {
        "id": "7GLOdeIPpPJ-"
      }
    },
    {
      "cell_type": "code",
      "source": [
        "type(FileContent)"
      ],
      "metadata": {
        "colab": {
          "base_uri": "https://localhost:8080/"
        },
        "id": "AKmGVoMMovRX",
        "outputId": "202ac720-9e98-43ec-dfcd-b7af73937737"
      },
      "execution_count": null,
      "outputs": [
        {
          "output_type": "execute_result",
          "data": {
            "text/plain": [
              "str"
            ]
          },
          "metadata": {},
          "execution_count": 16
        }
      ]
    },
    {
      "cell_type": "markdown",
      "source": [
        "**With statement**"
      ],
      "metadata": {
        "id": "tsAmFfnSnSoP"
      }
    },
    {
      "cell_type": "markdown",
      "source": [
        "Con este estatement es mucho mas sencillo, facil y rápido leer la información de un archivo ya que este lo va a abrir y despues automaticamente lo va a cerrar."
      ],
      "metadata": {
        "id": "LMI8MFvFJbD1"
      }
    },
    {
      "cell_type": "code",
      "source": [
        "#Con esta linea de codigo vamos a poder abrir el archivo para despues automaticamente poder cerrarlo\n",
        "with open(\"example1.txt\", \"r\") as File1:\n",
        "  file_stuff = File1.read() #Aqui leemos el archivo y se lo asignamos a la variable file_stuff\n",
        "\n",
        "  print(file_stuff) #Esta linea nos va asacar todos los valores que hay en el archivo\n",
        "\n",
        "print(File1.closed) #Ponemos esta linea para validar que efectivamente se haya cerrado el file debe ser \"True\"\n",
        "print(file_stuff) #Imprimimos la variable, esta es un string con todos los valores separados por \\n \n",
        " "
      ],
      "metadata": {
        "colab": {
          "base_uri": "https://localhost:8080/"
        },
        "id": "Vm6BkHhunSoP",
        "outputId": "9e9d0c0a-e075-4897-9a08-fb1875f908b6"
      },
      "execution_count": null,
      "outputs": [
        {
          "output_type": "stream",
          "name": "stdout",
          "text": [
            "This is line 1 \n",
            "This is line 2\n",
            "This is line 3\n",
            "True\n",
            "This is line 1 \n",
            "This is line 2\n",
            "This is line 3\n"
          ]
        }
      ]
    },
    {
      "cell_type": "markdown",
      "source": [
        "Estructura del with statement"
      ],
      "metadata": {
        "id": "weax1V_CqLCn"
      }
    },
    {
      "cell_type": "markdown",
      "source": [
        "![image.png](data:image/png;base64,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)"
      ],
      "metadata": {
        "id": "hwiCHDDiqOSC"
      }
    },
    {
      "cell_type": "markdown",
      "source": [
        "With statement y el metodo readlines()\n",
        "Con readlines() solamente vamos a leer una linea de todo el archivo"
      ],
      "metadata": {
        "id": "EFdWetlvKEWk"
      }
    },
    {
      "cell_type": "code",
      "source": [
        "with open(\"example1.txt\", \"r\") as File1:\n",
        "  file_stuff = File1.readlines()\n",
        "  print(file_stuff)"
      ],
      "metadata": {
        "colab": {
          "base_uri": "https://localhost:8080/"
        },
        "id": "soZXIT6cKSN2",
        "outputId": "ece89a91-1129-4455-bf9c-3285627dfbac"
      },
      "execution_count": 2,
      "outputs": [
        {
          "output_type": "stream",
          "name": "stdout",
          "text": [
            "['This is line 1 \\n', 'This is line 2\\n', 'This is line 3']\n"
          ]
        }
      ]
    },
    {
      "cell_type": "markdown",
      "source": [
        "Leer solamente cuatro caracteres del archivo"
      ],
      "metadata": {
        "id": "p8ycmKgRqS79"
      }
    },
    {
      "cell_type": "code",
      "source": [
        "#Seria lo mismo que en la celda anterior, solamente en los parentesis agregaríamos el numero de caracters a leer\n",
        "with open(example1, \"r\") as file1:\n",
        "    print(file1.read(4))  #Aqui le decimos que solo nos lea los primeros cuatro caracteres"
      ],
      "metadata": {
        "colab": {
          "base_uri": "https://localhost:8080/"
        },
        "id": "_y3HkcTkqNgG",
        "outputId": "116ca5c7-36e7-4359-ccb5-dd0f82d86b3c"
      },
      "execution_count": null,
      "outputs": [
        {
          "output_type": "stream",
          "name": "stdout",
          "text": [
            "This\n"
          ]
        }
      ]
    },
    {
      "cell_type": "markdown",
      "source": [
        "Leer varios caracteres"
      ],
      "metadata": {
        "id": "HQwX_iztqvLA"
      }
    },
    {
      "cell_type": "code",
      "source": [
        "with open(\"example1.txt\", \"r\") as file1:\n",
        "    print(file1.read(4))\n",
        "    print(file1.read(4))\n",
        "    print(file1.read(7))\n",
        "    print(file1.read(15))\n",
        "    \n",
        "##print(file1.read(2))##  #Si dejamos esta linea me va a mandar un error ya que no podemos leer fuera del with"
      ],
      "metadata": {
        "colab": {
          "base_uri": "https://localhost:8080/"
        },
        "id": "LiC720avqlDf",
        "outputId": "3149c2ee-26ca-463b-b487-636d77857858"
      },
      "execution_count": 7,
      "outputs": [
        {
          "output_type": "stream",
          "name": "stdout",
          "text": [
            "This\n",
            " is \n",
            "line 1 \n",
            "\n",
            "This is line 2\n"
          ]
        }
      ]
    },
    {
      "cell_type": "markdown",
      "source": [
        "Como se observa en la siguiente imagen, si empezamos a leer carcter por caracter, el programa va a empezar a contar de donde se quedo.\n",
        "Por ejemplo primero leimos los primeros cuatro, despues otros cuatro, por eso es que los siguientes cuatro es _is_ "
      ],
      "metadata": {
        "id": "E2FU0HsDrCAL"
      }
    },
    {
      "cell_type": "markdown",
      "source": [
        "![image.png](data:image/png;base64,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)"
      ],
      "metadata": {
        "id": "sVRnNHFqrRqh"
      }
    },
    {
      "cell_type": "markdown",
      "source": [
        "En este ejemplo vamos a leer una serie de lineas diferentes a las anteriores que ya habíamos leido"
      ],
      "metadata": {
        "id": "dfL_cMUCsQW-"
      }
    },
    {
      "cell_type": "code",
      "source": [
        "with open(example1, \"r\") as file1:\n",
        "    print(file1.read(16))\n",
        "    print(file1.read(5))\n",
        "    print(file1.read(9))"
      ],
      "metadata": {
        "colab": {
          "base_uri": "https://localhost:8080/"
        },
        "id": "yHrP6thxqxWS",
        "outputId": "814f9d88-d9bb-4554-a777-6f10722aedd3"
      },
      "execution_count": null,
      "outputs": [
        {
          "output_type": "stream",
          "name": "stdout",
          "text": [
            "This is line 1 \n",
            "\n",
            "This \n",
            "is line 2\n"
          ]
        }
      ]
    },
    {
      "cell_type": "markdown",
      "source": [
        "Metodo readline() lo usamos para leer una sola linea a la vez de el archivo"
      ],
      "metadata": {
        "id": "S7utWFEZsdT4"
      }
    },
    {
      "cell_type": "code",
      "source": [
        "with open(\"example1.txt\", \"r\") as file1:\n",
        "    print(\"first line: \" + file1.readline())"
      ],
      "metadata": {
        "colab": {
          "base_uri": "https://localhost:8080/"
        },
        "id": "4TK-NJAdshLb",
        "outputId": "df471a17-2fd9-42f9-e5e1-53e8b92032a2"
      },
      "execution_count": 11,
      "outputs": [
        {
          "output_type": "stream",
          "name": "stdout",
          "text": [
            "first line: This is line 1 \n",
            "\n"
          ]
        }
      ]
    },
    {
      "cell_type": "markdown",
      "source": [
        "Ahora vamos a intentar pasarle un argumento a readline(), el número que le pongamos dentro será el número de caracteres que nos va a imprimir.\n",
        "Si ese numero es mayor al tamaño de la cadena, todo el excedente nos lo imprimirá como espacios."
      ],
      "metadata": {
        "id": "jnSd2xQIszOu"
      }
    },
    {
      "cell_type": "code",
      "source": [
        "with open(example1, \"r\") as file1:\n",
        "    print(file1.readline(40)) # Si el número que le pasemos aquí excede el numero de caracteres de la cadena no pasa nada simplementr imprimirá toda la cadena completa y el resto lo pondra en espacios\n",
        "    print(file1.read(20)) # Returns the next 20 chars"
      ],
      "metadata": {
        "colab": {
          "base_uri": "https://localhost:8080/"
        },
        "id": "eaOqEr9Ls9Ci",
        "outputId": "b7c9c14e-41c3-4dd1-f48f-7811c1aa249e"
      },
      "execution_count": null,
      "outputs": [
        {
          "output_type": "stream",
          "name": "stdout",
          "text": [
            "This is line 1 \n",
            "\n",
            "This is line 2\n",
            "This \n"
          ]
        }
      ]
    },
    {
      "cell_type": "markdown",
      "source": [
        "Como iterar entre cada una de las lineas del archivo"
      ],
      "metadata": {
        "id": "q0DmQg08uTwR"
      }
    },
    {
      "cell_type": "code",
      "source": [
        "#Iterate through the lines\n",
        "\n",
        "with open(\"example1.txt\",\"r\") as file1:\n",
        "        i = 0;  #Inicializamos nuestra vasiable iterativa a 0\n",
        "        for line in file1:  #iniciamos el ciclo for que iterará cada una de las lineas del archivo\n",
        "            print(\"Iteración\", str(i), \": \", line)  #Imprimimos el valor de cada linea del archivo así como su iteración\n",
        "\n",
        "#En la última linea debemos de converir el valor de i en un string por ende usamos str()"
      ],
      "metadata": {
        "colab": {
          "base_uri": "https://localhost:8080/"
        },
        "id": "rjyOcRIntVQQ",
        "outputId": "e024d282-151f-44c1-c5ab-24c9541a1948"
      },
      "execution_count": 13,
      "outputs": [
        {
          "output_type": "stream",
          "name": "stdout",
          "text": [
            "Iteración 0 :  This is line 1 \n",
            "\n",
            "Iteración 0 :  This is line 2\n",
            "\n",
            "Iteración 0 :  This is line 3\n"
          ]
        }
      ]
    },
    {
      "cell_type": "markdown",
      "source": [
        "Guardar el contenido del archivo como una lista en una variable del tipo list"
      ],
      "metadata": {
        "id": "vkHTDY7wu7Y6"
      }
    },
    {
      "cell_type": "code",
      "source": [
        "with open(\"example1.txt\", \"r\") as file1:\n",
        "    FileasList = file1.readlines()\n",
        "    "
      ],
      "metadata": {
        "id": "9fO4Qp6putMd"
      },
      "execution_count": 14,
      "outputs": []
    },
    {
      "cell_type": "code",
      "source": [
        "#Imprimimos la variable para ver la lista que hemos guardado\n",
        "FileasList[0]"
      ],
      "metadata": {
        "colab": {
          "base_uri": "https://localhost:8080/",
          "height": 35
        },
        "id": "2XfYECghvKxu",
        "outputId": "2be34dee-a5a7-4099-8034-ef25abff94c7"
      },
      "execution_count": 15,
      "outputs": [
        {
          "output_type": "execute_result",
          "data": {
            "text/plain": [
              "'This is line 1 \\n'"
            ],
            "application/vnd.google.colaboratory.intrinsic+json": {
              "type": "string"
            }
          },
          "metadata": {},
          "execution_count": 15
        }
      ]
    },
    {
      "cell_type": "code",
      "source": [
        "FileasList[1]"
      ],
      "metadata": {
        "colab": {
          "base_uri": "https://localhost:8080/",
          "height": 35
        },
        "id": "md5bmPRbvWsN",
        "outputId": "82277b91-2ea1-4958-ff58-0a8a88e6fac2"
      },
      "execution_count": 16,
      "outputs": [
        {
          "output_type": "execute_result",
          "data": {
            "text/plain": [
              "'This is line 2\\n'"
            ],
            "application/vnd.google.colaboratory.intrinsic+json": {
              "type": "string"
            }
          },
          "metadata": {},
          "execution_count": 16
        }
      ]
    },
    {
      "cell_type": "code",
      "source": [
        "FileasList[2]"
      ],
      "metadata": {
        "colab": {
          "base_uri": "https://localhost:8080/",
          "height": 35
        },
        "id": "qHoNfFtSvgE0",
        "outputId": "98eb8a96-b43b-4937-e79a-5c7f7edf92fa"
      },
      "execution_count": 17,
      "outputs": [
        {
          "output_type": "execute_result",
          "data": {
            "text/plain": [
              "'This is line 3'"
            ],
            "application/vnd.google.colaboratory.intrinsic+json": {
              "type": "string"
            }
          },
          "metadata": {},
          "execution_count": 17
        }
      ]
    },
    {
      "cell_type": "markdown",
      "source": [
        "##**Writing Files with Open**##"
      ],
      "metadata": {
        "id": "wWIWpb6iMozy"
      }
    },
    {
      "cell_type": "markdown",
      "source": [
        "Abrir el archivo"
      ],
      "metadata": {
        "id": "wViriMbVPGU2"
      }
    },
    {
      "cell_type": "code",
      "source": [
        "File1 = open(\"example3.txt\", \"w\") #Si no ponemos el path, entonces el archivo será creado dentro google colab\n"
      ],
      "metadata": {
        "id": "rYMz3AcpOwNu"
      },
      "execution_count": 27,
      "outputs": []
    },
    {
      "cell_type": "markdown",
      "source": [
        "Usamos el with statement"
      ],
      "metadata": {
        "id": "P4OG2bvJPlI0"
      }
    },
    {
      "cell_type": "code",
      "source": [
        "with open(\"example3.txt\", \"w\") as File1:\n",
        "  File1.write(\"This is line AB\\n\")\n",
        "  File1.write(\"This is line AC\\n\")"
      ],
      "metadata": {
        "id": "-oC2f-3nPc0s"
      },
      "execution_count": 31,
      "outputs": []
    },
    {
      "cell_type": "markdown",
      "source": [
        "Vamos a escribir cada uno de los elementos que hay en la lista dentro del archivo .txt"
      ],
      "metadata": {
        "id": "BKDhpCW_T60K"
      }
    },
    {
      "cell_type": "code",
      "source": [
        "Lines = [\"This is line A\\n\", \"This is line B\\n\", \"This is line C\\n\"] #Creamos la lista\n",
        "with open(\"example3.txt\", \"w\") as File1:\n",
        "\n",
        "  for line in Lines: #Con este for vamos a recorrer la lista\n",
        "    File1.write(line) #Cada elemento que recorramos en la lista lo vamos a escribir en el archivo\n",
        "    \n",
        "  \n"
      ],
      "metadata": {
        "id": "Py2TvIaqQC57"
      },
      "execution_count": 41,
      "outputs": []
    },
    {
      "cell_type": "markdown",
      "source": [
        "Vamos usar el commando append \"a\" con este vamos a poder seguir agragando elementos al archivo.\n"
      ],
      "metadata": {
        "id": "5feQvQ70ULFD"
      }
    },
    {
      "cell_type": "code",
      "source": [
        "with open(\"example3.txt\", \"a\") as File1: #Aquí cambiamos el \"w\" por el \"a\" para poder seguir agregando elementos\n",
        "  File1.write(\"This is line D\\n\")\n",
        "  File1.write(\"This is line E\\n\")\n"
      ],
      "metadata": {
        "id": "Kf8GUzhmUF4z"
      },
      "execution_count": 42,
      "outputs": []
    },
    {
      "cell_type": "markdown",
      "source": [
        "Copiar un archivo a otro archivo"
      ],
      "metadata": {
        "id": "oVaA81DBVB7M"
      }
    },
    {
      "cell_type": "code",
      "source": [
        "with open(\"example3.txt\", \"r\") as readfile:    #Abrimos el archivo que queremos copiar\n",
        "  with open(\"example4.txt\", \"w\") as writefile: #Creamos el with para crear el archivo nuevo al que vamos a pegar los valores\n",
        "    for line in readfile:  #Hacemos el bucle para poder recorrer los valores que tiene el archivo de origen\n",
        "      \n",
        "      writefile.write(line) #Excribimos cada uno de los valores al nuevo archivo"
      ],
      "metadata": {
        "id": "m2gskXW-VE9q"
      },
      "execution_count": 46,
      "outputs": []
    },
    {
      "cell_type": "markdown",
      "source": [
        "##**Pandas Loading Data**##"
      ],
      "metadata": {
        "id": "EBa6jCVXrdSR"
      }
    },
    {
      "cell_type": "markdown",
      "source": [
        "Esta es una libreria muy utilizada para el análisis de datos"
      ],
      "metadata": {
        "id": "a4UJJhXYrprP"
      }
    },
    {
      "cell_type": "markdown",
      "source": [
        "Esta librería tiene diferentes clases y funciones de las que podemos hechar mano para el análisis de datos.\n",
        "Funciones/Clases de la libreria\n",
        "* read_csv()\n",
        "* Series()\n",
        "* DataFrame\n",
        "* values\n",
        "\n"
      ],
      "metadata": {
        "id": "L5g-rfgasDCL"
      }
    },
    {
      "cell_type": "code",
      "source": [
        "import pandas #Aqui importamos la librería\n",
        "csv_path = \"file1.csv\" #creamos una variable llamada path, la cual llevará el path del archivo a leer\n",
        "df = pandas.read_csv(csv_path) #df significa data frame, puede ser cualquier otra palabara también. Aquí leemos el archivo.csv"
      ],
      "metadata": {
        "id": "ZEPNv7GiV6sY"
      },
      "execution_count": 49,
      "outputs": []
    },
    {
      "cell_type": "markdown",
      "source": [
        "Creamos un archivo CSV con el uso de with statement, para que la siguiente linea de código de pandas no me de error.\n",
        "Ese archivo que estamos creando se estaría guardando dentro de colab."
      ],
      "metadata": {
        "id": "1e7Ax0eeu61x"
      }
    },
    {
      "cell_type": "code",
      "source": [
        "with open(\"file1.csv\", \"w\") as File1:\n",
        "  File1.write(\"Hola como estas\")\n"
      ],
      "metadata": {
        "id": "-dMe1xFpugzF"
      },
      "execution_count": 72,
      "outputs": []
    },
    {
      "cell_type": "code",
      "source": [
        "import pandas as pd #Aquí le ponemos pd para evitar escribir pandas cada vez que queramos mandar llamar una fnción de la librería. Le podemos poner cualquiere otra palabra (es solo un identificador)\n",
        "csv_path = \"file1.csv\"\n",
        "dataframe = pd.read_csv(csv_path) #Aqui solo ponemos pd para mandar llamar la librería y poder usar la función\n",
        "df.head()\n",
        "\n"
      ],
      "metadata": {
        "colab": {
          "base_uri": "https://localhost:8080/",
          "height": 49
        },
        "id": "eCiQ_f2esvvR",
        "outputId": "8951f82c-2db2-4444-a72a-d9a2972f5a30"
      },
      "execution_count": 73,
      "outputs": [
        {
          "output_type": "execute_result",
          "data": {
            "text/plain": [
              "Empty DataFrame\n",
              "Columns: [Hola]\n",
              "Index: []"
            ],
            "text/html": [
              "\n",
              "  <div id=\"df-f84842c2-bff8-4dba-9c75-5d1328742a41\">\n",
              "    <div class=\"colab-df-container\">\n",
              "      <div>\n",
              "<style scoped>\n",
              "    .dataframe tbody tr th:only-of-type {\n",
              "        vertical-align: middle;\n",
              "    }\n",
              "\n",
              "    .dataframe tbody tr th {\n",
              "        vertical-align: top;\n",
              "    }\n",
              "\n",
              "    .dataframe thead th {\n",
              "        text-align: right;\n",
              "    }\n",
              "</style>\n",
              "<table border=\"1\" class=\"dataframe\">\n",
              "  <thead>\n",
              "    <tr style=\"text-align: right;\">\n",
              "      <th></th>\n",
              "      <th>Hola</th>\n",
              "    </tr>\n",
              "  </thead>\n",
              "  <tbody>\n",
              "  </tbody>\n",
              "</table>\n",
              "</div>\n",
              "      <button class=\"colab-df-convert\" onclick=\"convertToInteractive('df-f84842c2-bff8-4dba-9c75-5d1328742a41')\"\n",
              "              title=\"Convert this dataframe to an interactive table.\"\n",
              "              style=\"display:none;\">\n",
              "        \n",
              "  <svg xmlns=\"http://www.w3.org/2000/svg\" height=\"24px\"viewBox=\"0 0 24 24\"\n",
              "       width=\"24px\">\n",
              "    <path d=\"M0 0h24v24H0V0z\" fill=\"none\"/>\n",
              "    <path d=\"M18.56 5.44l.94 2.06.94-2.06 2.06-.94-2.06-.94-.94-2.06-.94 2.06-2.06.94zm-11 1L8.5 8.5l.94-2.06 2.06-.94-2.06-.94L8.5 2.5l-.94 2.06-2.06.94zm10 10l.94 2.06.94-2.06 2.06-.94-2.06-.94-.94-2.06-.94 2.06-2.06.94z\"/><path d=\"M17.41 7.96l-1.37-1.37c-.4-.4-.92-.59-1.43-.59-.52 0-1.04.2-1.43.59L10.3 9.45l-7.72 7.72c-.78.78-.78 2.05 0 2.83L4 21.41c.39.39.9.59 1.41.59.51 0 1.02-.2 1.41-.59l7.78-7.78 2.81-2.81c.8-.78.8-2.07 0-2.86zM5.41 20L4 18.59l7.72-7.72 1.47 1.35L5.41 20z\"/>\n",
              "  </svg>\n",
              "      </button>\n",
              "      \n",
              "  <style>\n",
              "    .colab-df-container {\n",
              "      display:flex;\n",
              "      flex-wrap:wrap;\n",
              "      gap: 12px;\n",
              "    }\n",
              "\n",
              "    .colab-df-convert {\n",
              "      background-color: #E8F0FE;\n",
              "      border: none;\n",
              "      border-radius: 50%;\n",
              "      cursor: pointer;\n",
              "      display: none;\n",
              "      fill: #1967D2;\n",
              "      height: 32px;\n",
              "      padding: 0 0 0 0;\n",
              "      width: 32px;\n",
              "    }\n",
              "\n",
              "    .colab-df-convert:hover {\n",
              "      background-color: #E2EBFA;\n",
              "      box-shadow: 0px 1px 2px rgba(60, 64, 67, 0.3), 0px 1px 3px 1px rgba(60, 64, 67, 0.15);\n",
              "      fill: #174EA6;\n",
              "    }\n",
              "\n",
              "    [theme=dark] .colab-df-convert {\n",
              "      background-color: #3B4455;\n",
              "      fill: #D2E3FC;\n",
              "    }\n",
              "\n",
              "    [theme=dark] .colab-df-convert:hover {\n",
              "      background-color: #434B5C;\n",
              "      box-shadow: 0px 1px 3px 1px rgba(0, 0, 0, 0.15);\n",
              "      filter: drop-shadow(0px 1px 2px rgba(0, 0, 0, 0.3));\n",
              "      fill: #FFFFFF;\n",
              "    }\n",
              "  </style>\n",
              "\n",
              "      <script>\n",
              "        const buttonEl =\n",
              "          document.querySelector('#df-f84842c2-bff8-4dba-9c75-5d1328742a41 button.colab-df-convert');\n",
              "        buttonEl.style.display =\n",
              "          google.colab.kernel.accessAllowed ? 'block' : 'none';\n",
              "\n",
              "        async function convertToInteractive(key) {\n",
              "          const element = document.querySelector('#df-f84842c2-bff8-4dba-9c75-5d1328742a41');\n",
              "          const dataTable =\n",
              "            await google.colab.kernel.invokeFunction('convertToInteractive',\n",
              "                                                     [key], {});\n",
              "          if (!dataTable) return;\n",
              "\n",
              "          const docLinkHtml = 'Like what you see? Visit the ' +\n",
              "            '<a target=\"_blank\" href=https://colab.research.google.com/notebooks/data_table.ipynb>data table notebook</a>'\n",
              "            + ' to learn more about interactive tables.';\n",
              "          element.innerHTML = '';\n",
              "          dataTable['output_type'] = 'display_data';\n",
              "          await google.colab.output.renderOutput(dataTable, element);\n",
              "          const docLink = document.createElement('div');\n",
              "          docLink.innerHTML = docLinkHtml;\n",
              "          element.appendChild(docLink);\n",
              "        }\n",
              "      </script>\n",
              "    </div>\n",
              "  </div>\n",
              "  "
            ]
          },
          "metadata": {},
          "execution_count": 73
        }
      ]
    },
    {
      "cell_type": "markdown",
      "source": [
        "Ahora cargué un archivo csv sobre precios de casas en egipto para ver como trabaja la librería de pandas"
      ],
      "metadata": {
        "id": "PalbAb_DzR9G"
      }
    },
    {
      "cell_type": "code",
      "source": [
        "import pandas as pd\n",
        "csv_path = \"Egypt_Houses_Price.csv\"\n",
        "df = pd.read_csv(csv_path)\n",
        "df.head()"
      ],
      "metadata": {
        "colab": {
          "base_uri": "https://localhost:8080/",
          "height": 206
        },
        "id": "QxnvAL-3vD7T",
        "outputId": "a278fcee-9c9a-4ac7-93bb-2201090d29ad"
      },
      "execution_count": 75,
      "outputs": [
        {
          "output_type": "execute_result",
          "data": {
            "text/plain": [
              "        Type    Price Bedrooms Bathrooms   Area Furnished   Level Compound  \\\n",
              "0     Duplex  4000000      3.0       3.0  400.0        No       7  Unknown   \n",
              "1  Apartment  4000000      3.0       3.0  160.0        No     10+  Unknown   \n",
              "2  Apartment  2250000      3.0       2.0  165.0        No       1  Unknown   \n",
              "3  Apartment  1900000      3.0       2.0  230.0        No      10  Unknown   \n",
              "4  Apartment  5800000      2.0       3.0  160.0        No  Ground  Eastown   \n",
              "\n",
              "  Payment_Option  Delivery_Date  Delivery_Term                    City  \n",
              "0           Cash  Ready to move       Finished               Nasr City  \n",
              "1           Cash  Ready to move       Finished             Camp Caesar  \n",
              "2           Cash  Ready to move       Finished                   Smoha  \n",
              "3           Cash  Ready to move       Finished               Nasr City  \n",
              "4           Cash  Ready to move  Semi Finished  New Cairo - El Tagamoa  "
            ],
            "text/html": [
              "\n",
              "  <div id=\"df-7366194c-203d-4b07-971d-0bbc37e5d4bd\">\n",
              "    <div class=\"colab-df-container\">\n",
              "      <div>\n",
              "<style scoped>\n",
              "    .dataframe tbody tr th:only-of-type {\n",
              "        vertical-align: middle;\n",
              "    }\n",
              "\n",
              "    .dataframe tbody tr th {\n",
              "        vertical-align: top;\n",
              "    }\n",
              "\n",
              "    .dataframe thead th {\n",
              "        text-align: right;\n",
              "    }\n",
              "</style>\n",
              "<table border=\"1\" class=\"dataframe\">\n",
              "  <thead>\n",
              "    <tr style=\"text-align: right;\">\n",
              "      <th></th>\n",
              "      <th>Type</th>\n",
              "      <th>Price</th>\n",
              "      <th>Bedrooms</th>\n",
              "      <th>Bathrooms</th>\n",
              "      <th>Area</th>\n",
              "      <th>Furnished</th>\n",
              "      <th>Level</th>\n",
              "      <th>Compound</th>\n",
              "      <th>Payment_Option</th>\n",
              "      <th>Delivery_Date</th>\n",
              "      <th>Delivery_Term</th>\n",
              "      <th>City</th>\n",
              "    </tr>\n",
              "  </thead>\n",
              "  <tbody>\n",
              "    <tr>\n",
              "      <th>0</th>\n",
              "      <td>Duplex</td>\n",
              "      <td>4000000</td>\n",
              "      <td>3.0</td>\n",
              "      <td>3.0</td>\n",
              "      <td>400.0</td>\n",
              "      <td>No</td>\n",
              "      <td>7</td>\n",
              "      <td>Unknown</td>\n",
              "      <td>Cash</td>\n",
              "      <td>Ready to move</td>\n",
              "      <td>Finished</td>\n",
              "      <td>Nasr City</td>\n",
              "    </tr>\n",
              "    <tr>\n",
              "      <th>1</th>\n",
              "      <td>Apartment</td>\n",
              "      <td>4000000</td>\n",
              "      <td>3.0</td>\n",
              "      <td>3.0</td>\n",
              "      <td>160.0</td>\n",
              "      <td>No</td>\n",
              "      <td>10+</td>\n",
              "      <td>Unknown</td>\n",
              "      <td>Cash</td>\n",
              "      <td>Ready to move</td>\n",
              "      <td>Finished</td>\n",
              "      <td>Camp Caesar</td>\n",
              "    </tr>\n",
              "    <tr>\n",
              "      <th>2</th>\n",
              "      <td>Apartment</td>\n",
              "      <td>2250000</td>\n",
              "      <td>3.0</td>\n",
              "      <td>2.0</td>\n",
              "      <td>165.0</td>\n",
              "      <td>No</td>\n",
              "      <td>1</td>\n",
              "      <td>Unknown</td>\n",
              "      <td>Cash</td>\n",
              "      <td>Ready to move</td>\n",
              "      <td>Finished</td>\n",
              "      <td>Smoha</td>\n",
              "    </tr>\n",
              "    <tr>\n",
              "      <th>3</th>\n",
              "      <td>Apartment</td>\n",
              "      <td>1900000</td>\n",
              "      <td>3.0</td>\n",
              "      <td>2.0</td>\n",
              "      <td>230.0</td>\n",
              "      <td>No</td>\n",
              "      <td>10</td>\n",
              "      <td>Unknown</td>\n",
              "      <td>Cash</td>\n",
              "      <td>Ready to move</td>\n",
              "      <td>Finished</td>\n",
              "      <td>Nasr City</td>\n",
              "    </tr>\n",
              "    <tr>\n",
              "      <th>4</th>\n",
              "      <td>Apartment</td>\n",
              "      <td>5800000</td>\n",
              "      <td>2.0</td>\n",
              "      <td>3.0</td>\n",
              "      <td>160.0</td>\n",
              "      <td>No</td>\n",
              "      <td>Ground</td>\n",
              "      <td>Eastown</td>\n",
              "      <td>Cash</td>\n",
              "      <td>Ready to move</td>\n",
              "      <td>Semi Finished</td>\n",
              "      <td>New Cairo - El Tagamoa</td>\n",
              "    </tr>\n",
              "  </tbody>\n",
              "</table>\n",
              "</div>\n",
              "      <button class=\"colab-df-convert\" onclick=\"convertToInteractive('df-7366194c-203d-4b07-971d-0bbc37e5d4bd')\"\n",
              "              title=\"Convert this dataframe to an interactive table.\"\n",
              "              style=\"display:none;\">\n",
              "        \n",
              "  <svg xmlns=\"http://www.w3.org/2000/svg\" height=\"24px\"viewBox=\"0 0 24 24\"\n",
              "       width=\"24px\">\n",
              "    <path d=\"M0 0h24v24H0V0z\" fill=\"none\"/>\n",
              "    <path d=\"M18.56 5.44l.94 2.06.94-2.06 2.06-.94-2.06-.94-.94-2.06-.94 2.06-2.06.94zm-11 1L8.5 8.5l.94-2.06 2.06-.94-2.06-.94L8.5 2.5l-.94 2.06-2.06.94zm10 10l.94 2.06.94-2.06 2.06-.94-2.06-.94-.94-2.06-.94 2.06-2.06.94z\"/><path d=\"M17.41 7.96l-1.37-1.37c-.4-.4-.92-.59-1.43-.59-.52 0-1.04.2-1.43.59L10.3 9.45l-7.72 7.72c-.78.78-.78 2.05 0 2.83L4 21.41c.39.39.9.59 1.41.59.51 0 1.02-.2 1.41-.59l7.78-7.78 2.81-2.81c.8-.78.8-2.07 0-2.86zM5.41 20L4 18.59l7.72-7.72 1.47 1.35L5.41 20z\"/>\n",
              "  </svg>\n",
              "      </button>\n",
              "      \n",
              "  <style>\n",
              "    .colab-df-container {\n",
              "      display:flex;\n",
              "      flex-wrap:wrap;\n",
              "      gap: 12px;\n",
              "    }\n",
              "\n",
              "    .colab-df-convert {\n",
              "      background-color: #E8F0FE;\n",
              "      border: none;\n",
              "      border-radius: 50%;\n",
              "      cursor: pointer;\n",
              "      display: none;\n",
              "      fill: #1967D2;\n",
              "      height: 32px;\n",
              "      padding: 0 0 0 0;\n",
              "      width: 32px;\n",
              "    }\n",
              "\n",
              "    .colab-df-convert:hover {\n",
              "      background-color: #E2EBFA;\n",
              "      box-shadow: 0px 1px 2px rgba(60, 64, 67, 0.3), 0px 1px 3px 1px rgba(60, 64, 67, 0.15);\n",
              "      fill: #174EA6;\n",
              "    }\n",
              "\n",
              "    [theme=dark] .colab-df-convert {\n",
              "      background-color: #3B4455;\n",
              "      fill: #D2E3FC;\n",
              "    }\n",
              "\n",
              "    [theme=dark] .colab-df-convert:hover {\n",
              "      background-color: #434B5C;\n",
              "      box-shadow: 0px 1px 3px 1px rgba(0, 0, 0, 0.15);\n",
              "      filter: drop-shadow(0px 1px 2px rgba(0, 0, 0, 0.3));\n",
              "      fill: #FFFFFF;\n",
              "    }\n",
              "  </style>\n",
              "\n",
              "      <script>\n",
              "        const buttonEl =\n",
              "          document.querySelector('#df-7366194c-203d-4b07-971d-0bbc37e5d4bd button.colab-df-convert');\n",
              "        buttonEl.style.display =\n",
              "          google.colab.kernel.accessAllowed ? 'block' : 'none';\n",
              "\n",
              "        async function convertToInteractive(key) {\n",
              "          const element = document.querySelector('#df-7366194c-203d-4b07-971d-0bbc37e5d4bd');\n",
              "          const dataTable =\n",
              "            await google.colab.kernel.invokeFunction('convertToInteractive',\n",
              "                                                     [key], {});\n",
              "          if (!dataTable) return;\n",
              "\n",
              "          const docLinkHtml = 'Like what you see? Visit the ' +\n",
              "            '<a target=\"_blank\" href=https://colab.research.google.com/notebooks/data_table.ipynb>data table notebook</a>'\n",
              "            + ' to learn more about interactive tables.';\n",
              "          element.innerHTML = '';\n",
              "          dataTable['output_type'] = 'display_data';\n",
              "          await google.colab.output.renderOutput(dataTable, element);\n",
              "          const docLink = document.createElement('div');\n",
              "          docLink.innerHTML = docLinkHtml;\n",
              "          element.appendChild(docLink);\n",
              "        }\n",
              "      </script>\n",
              "    </div>\n",
              "  </div>\n",
              "  "
            ]
          },
          "metadata": {},
          "execution_count": 75
        }
      ]
    },
    {
      "cell_type": "markdown",
      "source": [
        "Ahora intentemos visualizar un archivo con extensión .xlsx usando la librería de pandas\n",
        "\n"
      ],
      "metadata": {
        "id": "0nsq_-zqz2FW"
      }
    },
    {
      "cell_type": "code",
      "source": [
        "import pandas as pd\n",
        "xlsx_path = \"action_movie.xlsx\" #Aquí la variable que guardará el path del archivo la nombraremos diferente.\n",
        "df = pd.read_excel(xlsx_path) #con este asignamos lo que leamos del archivo a la varibale df\n",
        "df.head() #Aquí mostramos los datos que tiene nuestra variable\n"
      ],
      "metadata": {
        "colab": {
          "base_uri": "https://localhost:8080/",
          "height": 206
        },
        "id": "LWOPVS_QzXyR",
        "outputId": "f5fc66fb-c777-4d29-e2ca-a743a517ca4f"
      },
      "execution_count": 81,
      "outputs": [
        {
          "output_type": "execute_result",
          "data": {
            "text/plain": [
              "   Unnamed: 0                 Movie title Released Year  ImDb Rating\n",
              "0           0      Thor: Love and Thunder        (2022)          6.4\n",
              "1           1           Top Gun: Maverick        (2022)          8.4\n",
              "2           2  Brahmastra Part One: Shiva        (2022)          5.6\n",
              "3           3              The Woman King        (2022)          6.1\n",
              "4           4             End of the Road   (II) (2022)          4.7"
            ],
            "text/html": [
              "\n",
              "  <div id=\"df-29aaa913-5e2a-4dff-8fc8-dc1d573b5acc\">\n",
              "    <div class=\"colab-df-container\">\n",
              "      <div>\n",
              "<style scoped>\n",
              "    .dataframe tbody tr th:only-of-type {\n",
              "        vertical-align: middle;\n",
              "    }\n",
              "\n",
              "    .dataframe tbody tr th {\n",
              "        vertical-align: top;\n",
              "    }\n",
              "\n",
              "    .dataframe thead th {\n",
              "        text-align: right;\n",
              "    }\n",
              "</style>\n",
              "<table border=\"1\" class=\"dataframe\">\n",
              "  <thead>\n",
              "    <tr style=\"text-align: right;\">\n",
              "      <th></th>\n",
              "      <th>Unnamed: 0</th>\n",
              "      <th>Movie title</th>\n",
              "      <th>Released Year</th>\n",
              "      <th>ImDb Rating</th>\n",
              "    </tr>\n",
              "  </thead>\n",
              "  <tbody>\n",
              "    <tr>\n",
              "      <th>0</th>\n",
              "      <td>0</td>\n",
              "      <td>Thor: Love and Thunder</td>\n",
              "      <td>(2022)</td>\n",
              "      <td>6.4</td>\n",
              "    </tr>\n",
              "    <tr>\n",
              "      <th>1</th>\n",
              "      <td>1</td>\n",
              "      <td>Top Gun: Maverick</td>\n",
              "      <td>(2022)</td>\n",
              "      <td>8.4</td>\n",
              "    </tr>\n",
              "    <tr>\n",
              "      <th>2</th>\n",
              "      <td>2</td>\n",
              "      <td>Brahmastra Part One: Shiva</td>\n",
              "      <td>(2022)</td>\n",
              "      <td>5.6</td>\n",
              "    </tr>\n",
              "    <tr>\n",
              "      <th>3</th>\n",
              "      <td>3</td>\n",
              "      <td>The Woman King</td>\n",
              "      <td>(2022)</td>\n",
              "      <td>6.1</td>\n",
              "    </tr>\n",
              "    <tr>\n",
              "      <th>4</th>\n",
              "      <td>4</td>\n",
              "      <td>End of the Road</td>\n",
              "      <td>(II) (2022)</td>\n",
              "      <td>4.7</td>\n",
              "    </tr>\n",
              "  </tbody>\n",
              "</table>\n",
              "</div>\n",
              "      <button class=\"colab-df-convert\" onclick=\"convertToInteractive('df-29aaa913-5e2a-4dff-8fc8-dc1d573b5acc')\"\n",
              "              title=\"Convert this dataframe to an interactive table.\"\n",
              "              style=\"display:none;\">\n",
              "        \n",
              "  <svg xmlns=\"http://www.w3.org/2000/svg\" height=\"24px\"viewBox=\"0 0 24 24\"\n",
              "       width=\"24px\">\n",
              "    <path d=\"M0 0h24v24H0V0z\" fill=\"none\"/>\n",
              "    <path d=\"M18.56 5.44l.94 2.06.94-2.06 2.06-.94-2.06-.94-.94-2.06-.94 2.06-2.06.94zm-11 1L8.5 8.5l.94-2.06 2.06-.94-2.06-.94L8.5 2.5l-.94 2.06-2.06.94zm10 10l.94 2.06.94-2.06 2.06-.94-2.06-.94-.94-2.06-.94 2.06-2.06.94z\"/><path d=\"M17.41 7.96l-1.37-1.37c-.4-.4-.92-.59-1.43-.59-.52 0-1.04.2-1.43.59L10.3 9.45l-7.72 7.72c-.78.78-.78 2.05 0 2.83L4 21.41c.39.39.9.59 1.41.59.51 0 1.02-.2 1.41-.59l7.78-7.78 2.81-2.81c.8-.78.8-2.07 0-2.86zM5.41 20L4 18.59l7.72-7.72 1.47 1.35L5.41 20z\"/>\n",
              "  </svg>\n",
              "      </button>\n",
              "      \n",
              "  <style>\n",
              "    .colab-df-container {\n",
              "      display:flex;\n",
              "      flex-wrap:wrap;\n",
              "      gap: 12px;\n",
              "    }\n",
              "\n",
              "    .colab-df-convert {\n",
              "      background-color: #E8F0FE;\n",
              "      border: none;\n",
              "      border-radius: 50%;\n",
              "      cursor: pointer;\n",
              "      display: none;\n",
              "      fill: #1967D2;\n",
              "      height: 32px;\n",
              "      padding: 0 0 0 0;\n",
              "      width: 32px;\n",
              "    }\n",
              "\n",
              "    .colab-df-convert:hover {\n",
              "      background-color: #E2EBFA;\n",
              "      box-shadow: 0px 1px 2px rgba(60, 64, 67, 0.3), 0px 1px 3px 1px rgba(60, 64, 67, 0.15);\n",
              "      fill: #174EA6;\n",
              "    }\n",
              "\n",
              "    [theme=dark] .colab-df-convert {\n",
              "      background-color: #3B4455;\n",
              "      fill: #D2E3FC;\n",
              "    }\n",
              "\n",
              "    [theme=dark] .colab-df-convert:hover {\n",
              "      background-color: #434B5C;\n",
              "      box-shadow: 0px 1px 3px 1px rgba(0, 0, 0, 0.15);\n",
              "      filter: drop-shadow(0px 1px 2px rgba(0, 0, 0, 0.3));\n",
              "      fill: #FFFFFF;\n",
              "    }\n",
              "  </style>\n",
              "\n",
              "      <script>\n",
              "        const buttonEl =\n",
              "          document.querySelector('#df-29aaa913-5e2a-4dff-8fc8-dc1d573b5acc button.colab-df-convert');\n",
              "        buttonEl.style.display =\n",
              "          google.colab.kernel.accessAllowed ? 'block' : 'none';\n",
              "\n",
              "        async function convertToInteractive(key) {\n",
              "          const element = document.querySelector('#df-29aaa913-5e2a-4dff-8fc8-dc1d573b5acc');\n",
              "          const dataTable =\n",
              "            await google.colab.kernel.invokeFunction('convertToInteractive',\n",
              "                                                     [key], {});\n",
              "          if (!dataTable) return;\n",
              "\n",
              "          const docLinkHtml = 'Like what you see? Visit the ' +\n",
              "            '<a target=\"_blank\" href=https://colab.research.google.com/notebooks/data_table.ipynb>data table notebook</a>'\n",
              "            + ' to learn more about interactive tables.';\n",
              "          element.innerHTML = '';\n",
              "          dataTable['output_type'] = 'display_data';\n",
              "          await google.colab.output.renderOutput(dataTable, element);\n",
              "          const docLink = document.createElement('div');\n",
              "          docLink.innerHTML = docLinkHtml;\n",
              "          element.appendChild(docLink);\n",
              "        }\n",
              "      </script>\n",
              "    </div>\n",
              "  </div>\n",
              "  "
            ]
          },
          "metadata": {},
          "execution_count": 81
        }
      ]
    },
    {
      "cell_type": "markdown",
      "source": [
        "También podemos crear un diccionario en python y utilizarlo como dataframe"
      ],
      "metadata": {
        "id": "6FjMQRis2ZJY"
      }
    },
    {
      "cell_type": "code",
      "source": [
        "songs = {\"Album\" :[\"Thriller\", \"Back in Black\", \"The Dark Side of the Moon\", \"The Bodyguard\", \"Bat Out of Hell\"],\n",
        "         \"Released\": [1982,1980,1973,1992,1977],\n",
        "         \"Length\": [\"00:42:19\",\"00:42:11\", \"00:42:49\",\"00:57:44\", \"00:46:33\"]}\n",
        "songs_frame = pd.DataFrame(songs)\n",
        "songs_frame.head()\n"
      ],
      "metadata": {
        "colab": {
          "base_uri": "https://localhost:8080/",
          "height": 206
        },
        "id": "UX_qAwYa14GM",
        "outputId": "e813bfc8-8fd5-49fd-af85-5111060117b4"
      },
      "execution_count": 88,
      "outputs": [
        {
          "output_type": "execute_result",
          "data": {
            "text/plain": [
              "                       Album  Released    Length\n",
              "0                   Thriller      1982  00:42:19\n",
              "1              Back in Black      1980  00:42:11\n",
              "2  The Dark Side of the Moon      1973  00:42:49\n",
              "3              The Bodyguard      1992  00:57:44\n",
              "4            Bat Out of Hell      1977  00:46:33"
            ],
            "text/html": [
              "\n",
              "  <div id=\"df-85c9c022-a960-4c0b-aae6-fdea1a680d81\">\n",
              "    <div class=\"colab-df-container\">\n",
              "      <div>\n",
              "<style scoped>\n",
              "    .dataframe tbody tr th:only-of-type {\n",
              "        vertical-align: middle;\n",
              "    }\n",
              "\n",
              "    .dataframe tbody tr th {\n",
              "        vertical-align: top;\n",
              "    }\n",
              "\n",
              "    .dataframe thead th {\n",
              "        text-align: right;\n",
              "    }\n",
              "</style>\n",
              "<table border=\"1\" class=\"dataframe\">\n",
              "  <thead>\n",
              "    <tr style=\"text-align: right;\">\n",
              "      <th></th>\n",
              "      <th>Album</th>\n",
              "      <th>Released</th>\n",
              "      <th>Length</th>\n",
              "    </tr>\n",
              "  </thead>\n",
              "  <tbody>\n",
              "    <tr>\n",
              "      <th>0</th>\n",
              "      <td>Thriller</td>\n",
              "      <td>1982</td>\n",
              "      <td>00:42:19</td>\n",
              "    </tr>\n",
              "    <tr>\n",
              "      <th>1</th>\n",
              "      <td>Back in Black</td>\n",
              "      <td>1980</td>\n",
              "      <td>00:42:11</td>\n",
              "    </tr>\n",
              "    <tr>\n",
              "      <th>2</th>\n",
              "      <td>The Dark Side of the Moon</td>\n",
              "      <td>1973</td>\n",
              "      <td>00:42:49</td>\n",
              "    </tr>\n",
              "    <tr>\n",
              "      <th>3</th>\n",
              "      <td>The Bodyguard</td>\n",
              "      <td>1992</td>\n",
              "      <td>00:57:44</td>\n",
              "    </tr>\n",
              "    <tr>\n",
              "      <th>4</th>\n",
              "      <td>Bat Out of Hell</td>\n",
              "      <td>1977</td>\n",
              "      <td>00:46:33</td>\n",
              "    </tr>\n",
              "  </tbody>\n",
              "</table>\n",
              "</div>\n",
              "      <button class=\"colab-df-convert\" onclick=\"convertToInteractive('df-85c9c022-a960-4c0b-aae6-fdea1a680d81')\"\n",
              "              title=\"Convert this dataframe to an interactive table.\"\n",
              "              style=\"display:none;\">\n",
              "        \n",
              "  <svg xmlns=\"http://www.w3.org/2000/svg\" height=\"24px\"viewBox=\"0 0 24 24\"\n",
              "       width=\"24px\">\n",
              "    <path d=\"M0 0h24v24H0V0z\" fill=\"none\"/>\n",
              "    <path d=\"M18.56 5.44l.94 2.06.94-2.06 2.06-.94-2.06-.94-.94-2.06-.94 2.06-2.06.94zm-11 1L8.5 8.5l.94-2.06 2.06-.94-2.06-.94L8.5 2.5l-.94 2.06-2.06.94zm10 10l.94 2.06.94-2.06 2.06-.94-2.06-.94-.94-2.06-.94 2.06-2.06.94z\"/><path d=\"M17.41 7.96l-1.37-1.37c-.4-.4-.92-.59-1.43-.59-.52 0-1.04.2-1.43.59L10.3 9.45l-7.72 7.72c-.78.78-.78 2.05 0 2.83L4 21.41c.39.39.9.59 1.41.59.51 0 1.02-.2 1.41-.59l7.78-7.78 2.81-2.81c.8-.78.8-2.07 0-2.86zM5.41 20L4 18.59l7.72-7.72 1.47 1.35L5.41 20z\"/>\n",
              "  </svg>\n",
              "      </button>\n",
              "      \n",
              "  <style>\n",
              "    .colab-df-container {\n",
              "      display:flex;\n",
              "      flex-wrap:wrap;\n",
              "      gap: 12px;\n",
              "    }\n",
              "\n",
              "    .colab-df-convert {\n",
              "      background-color: #E8F0FE;\n",
              "      border: none;\n",
              "      border-radius: 50%;\n",
              "      cursor: pointer;\n",
              "      display: none;\n",
              "      fill: #1967D2;\n",
              "      height: 32px;\n",
              "      padding: 0 0 0 0;\n",
              "      width: 32px;\n",
              "    }\n",
              "\n",
              "    .colab-df-convert:hover {\n",
              "      background-color: #E2EBFA;\n",
              "      box-shadow: 0px 1px 2px rgba(60, 64, 67, 0.3), 0px 1px 3px 1px rgba(60, 64, 67, 0.15);\n",
              "      fill: #174EA6;\n",
              "    }\n",
              "\n",
              "    [theme=dark] .colab-df-convert {\n",
              "      background-color: #3B4455;\n",
              "      fill: #D2E3FC;\n",
              "    }\n",
              "\n",
              "    [theme=dark] .colab-df-convert:hover {\n",
              "      background-color: #434B5C;\n",
              "      box-shadow: 0px 1px 3px 1px rgba(0, 0, 0, 0.15);\n",
              "      filter: drop-shadow(0px 1px 2px rgba(0, 0, 0, 0.3));\n",
              "      fill: #FFFFFF;\n",
              "    }\n",
              "  </style>\n",
              "\n",
              "      <script>\n",
              "        const buttonEl =\n",
              "          document.querySelector('#df-85c9c022-a960-4c0b-aae6-fdea1a680d81 button.colab-df-convert');\n",
              "        buttonEl.style.display =\n",
              "          google.colab.kernel.accessAllowed ? 'block' : 'none';\n",
              "\n",
              "        async function convertToInteractive(key) {\n",
              "          const element = document.querySelector('#df-85c9c022-a960-4c0b-aae6-fdea1a680d81');\n",
              "          const dataTable =\n",
              "            await google.colab.kernel.invokeFunction('convertToInteractive',\n",
              "                                                     [key], {});\n",
              "          if (!dataTable) return;\n",
              "\n",
              "          const docLinkHtml = 'Like what you see? Visit the ' +\n",
              "            '<a target=\"_blank\" href=https://colab.research.google.com/notebooks/data_table.ipynb>data table notebook</a>'\n",
              "            + ' to learn more about interactive tables.';\n",
              "          element.innerHTML = '';\n",
              "          dataTable['output_type'] = 'display_data';\n",
              "          await google.colab.output.renderOutput(dataTable, element);\n",
              "          const docLink = document.createElement('div');\n",
              "          docLink.innerHTML = docLinkHtml;\n",
              "          element.appendChild(docLink);\n",
              "        }\n",
              "      </script>\n",
              "    </div>\n",
              "  </div>\n",
              "  "
            ]
          },
          "metadata": {},
          "execution_count": 88
        }
      ]
    },
    {
      "cell_type": "markdown",
      "source": [
        "Crear un data frame de una sola columna de la tabla que acabamos de crear"
      ],
      "metadata": {
        "id": "8ze4CNxD4oXR"
      }
    },
    {
      "cell_type": "code",
      "source": [
        "x = songs_frame[['Length']]\n",
        "x"
      ],
      "metadata": {
        "colab": {
          "base_uri": "https://localhost:8080/",
          "height": 206
        },
        "id": "iGBJLM_94e5E",
        "outputId": "2ce26108-7136-4220-fff3-94d850663fd7"
      },
      "execution_count": 92,
      "outputs": [
        {
          "output_type": "execute_result",
          "data": {
            "text/plain": [
              "     Length\n",
              "0  00:42:19\n",
              "1  00:42:11\n",
              "2  00:42:49\n",
              "3  00:57:44\n",
              "4  00:46:33"
            ],
            "text/html": [
              "\n",
              "  <div id=\"df-99b8b848-0b72-4884-8678-e013cbc08ae0\">\n",
              "    <div class=\"colab-df-container\">\n",
              "      <div>\n",
              "<style scoped>\n",
              "    .dataframe tbody tr th:only-of-type {\n",
              "        vertical-align: middle;\n",
              "    }\n",
              "\n",
              "    .dataframe tbody tr th {\n",
              "        vertical-align: top;\n",
              "    }\n",
              "\n",
              "    .dataframe thead th {\n",
              "        text-align: right;\n",
              "    }\n",
              "</style>\n",
              "<table border=\"1\" class=\"dataframe\">\n",
              "  <thead>\n",
              "    <tr style=\"text-align: right;\">\n",
              "      <th></th>\n",
              "      <th>Length</th>\n",
              "    </tr>\n",
              "  </thead>\n",
              "  <tbody>\n",
              "    <tr>\n",
              "      <th>0</th>\n",
              "      <td>00:42:19</td>\n",
              "    </tr>\n",
              "    <tr>\n",
              "      <th>1</th>\n",
              "      <td>00:42:11</td>\n",
              "    </tr>\n",
              "    <tr>\n",
              "      <th>2</th>\n",
              "      <td>00:42:49</td>\n",
              "    </tr>\n",
              "    <tr>\n",
              "      <th>3</th>\n",
              "      <td>00:57:44</td>\n",
              "    </tr>\n",
              "    <tr>\n",
              "      <th>4</th>\n",
              "      <td>00:46:33</td>\n",
              "    </tr>\n",
              "  </tbody>\n",
              "</table>\n",
              "</div>\n",
              "      <button class=\"colab-df-convert\" onclick=\"convertToInteractive('df-99b8b848-0b72-4884-8678-e013cbc08ae0')\"\n",
              "              title=\"Convert this dataframe to an interactive table.\"\n",
              "              style=\"display:none;\">\n",
              "        \n",
              "  <svg xmlns=\"http://www.w3.org/2000/svg\" height=\"24px\"viewBox=\"0 0 24 24\"\n",
              "       width=\"24px\">\n",
              "    <path d=\"M0 0h24v24H0V0z\" fill=\"none\"/>\n",
              "    <path d=\"M18.56 5.44l.94 2.06.94-2.06 2.06-.94-2.06-.94-.94-2.06-.94 2.06-2.06.94zm-11 1L8.5 8.5l.94-2.06 2.06-.94-2.06-.94L8.5 2.5l-.94 2.06-2.06.94zm10 10l.94 2.06.94-2.06 2.06-.94-2.06-.94-.94-2.06-.94 2.06-2.06.94z\"/><path d=\"M17.41 7.96l-1.37-1.37c-.4-.4-.92-.59-1.43-.59-.52 0-1.04.2-1.43.59L10.3 9.45l-7.72 7.72c-.78.78-.78 2.05 0 2.83L4 21.41c.39.39.9.59 1.41.59.51 0 1.02-.2 1.41-.59l7.78-7.78 2.81-2.81c.8-.78.8-2.07 0-2.86zM5.41 20L4 18.59l7.72-7.72 1.47 1.35L5.41 20z\"/>\n",
              "  </svg>\n",
              "      </button>\n",
              "      \n",
              "  <style>\n",
              "    .colab-df-container {\n",
              "      display:flex;\n",
              "      flex-wrap:wrap;\n",
              "      gap: 12px;\n",
              "    }\n",
              "\n",
              "    .colab-df-convert {\n",
              "      background-color: #E8F0FE;\n",
              "      border: none;\n",
              "      border-radius: 50%;\n",
              "      cursor: pointer;\n",
              "      display: none;\n",
              "      fill: #1967D2;\n",
              "      height: 32px;\n",
              "      padding: 0 0 0 0;\n",
              "      width: 32px;\n",
              "    }\n",
              "\n",
              "    .colab-df-convert:hover {\n",
              "      background-color: #E2EBFA;\n",
              "      box-shadow: 0px 1px 2px rgba(60, 64, 67, 0.3), 0px 1px 3px 1px rgba(60, 64, 67, 0.15);\n",
              "      fill: #174EA6;\n",
              "    }\n",
              "\n",
              "    [theme=dark] .colab-df-convert {\n",
              "      background-color: #3B4455;\n",
              "      fill: #D2E3FC;\n",
              "    }\n",
              "\n",
              "    [theme=dark] .colab-df-convert:hover {\n",
              "      background-color: #434B5C;\n",
              "      box-shadow: 0px 1px 3px 1px rgba(0, 0, 0, 0.15);\n",
              "      filter: drop-shadow(0px 1px 2px rgba(0, 0, 0, 0.3));\n",
              "      fill: #FFFFFF;\n",
              "    }\n",
              "  </style>\n",
              "\n",
              "      <script>\n",
              "        const buttonEl =\n",
              "          document.querySelector('#df-99b8b848-0b72-4884-8678-e013cbc08ae0 button.colab-df-convert');\n",
              "        buttonEl.style.display =\n",
              "          google.colab.kernel.accessAllowed ? 'block' : 'none';\n",
              "\n",
              "        async function convertToInteractive(key) {\n",
              "          const element = document.querySelector('#df-99b8b848-0b72-4884-8678-e013cbc08ae0');\n",
              "          const dataTable =\n",
              "            await google.colab.kernel.invokeFunction('convertToInteractive',\n",
              "                                                     [key], {});\n",
              "          if (!dataTable) return;\n",
              "\n",
              "          const docLinkHtml = 'Like what you see? Visit the ' +\n",
              "            '<a target=\"_blank\" href=https://colab.research.google.com/notebooks/data_table.ipynb>data table notebook</a>'\n",
              "            + ' to learn more about interactive tables.';\n",
              "          element.innerHTML = '';\n",
              "          dataTable['output_type'] = 'display_data';\n",
              "          await google.colab.output.renderOutput(dataTable, element);\n",
              "          const docLink = document.createElement('div');\n",
              "          docLink.innerHTML = docLinkHtml;\n",
              "          element.appendChild(docLink);\n",
              "        }\n",
              "      </script>\n",
              "    </div>\n",
              "  </div>\n",
              "  "
            ]
          },
          "metadata": {},
          "execution_count": 92
        }
      ]
    },
    {
      "cell_type": "markdown",
      "source": [
        "Crear otro data frame de otra columan de la tabla que acabamos de crear"
      ],
      "metadata": {
        "id": "HQwI8UY95J-0"
      }
    },
    {
      "cell_type": "code",
      "source": [
        "x = songs_frame[[\"Album\"]] \n",
        "x"
      ],
      "metadata": {
        "colab": {
          "base_uri": "https://localhost:8080/",
          "height": 206
        },
        "id": "yWfY23c95NgB",
        "outputId": "a941e69b-f69a-4010-b755-083b168665b2"
      },
      "execution_count": 96,
      "outputs": [
        {
          "output_type": "execute_result",
          "data": {
            "text/plain": [
              "                       Album\n",
              "0                   Thriller\n",
              "1              Back in Black\n",
              "2  The Dark Side of the Moon\n",
              "3              The Bodyguard\n",
              "4            Bat Out of Hell"
            ],
            "text/html": [
              "\n",
              "  <div id=\"df-a3da450f-6469-491f-9857-6a0814d54863\">\n",
              "    <div class=\"colab-df-container\">\n",
              "      <div>\n",
              "<style scoped>\n",
              "    .dataframe tbody tr th:only-of-type {\n",
              "        vertical-align: middle;\n",
              "    }\n",
              "\n",
              "    .dataframe tbody tr th {\n",
              "        vertical-align: top;\n",
              "    }\n",
              "\n",
              "    .dataframe thead th {\n",
              "        text-align: right;\n",
              "    }\n",
              "</style>\n",
              "<table border=\"1\" class=\"dataframe\">\n",
              "  <thead>\n",
              "    <tr style=\"text-align: right;\">\n",
              "      <th></th>\n",
              "      <th>Album</th>\n",
              "    </tr>\n",
              "  </thead>\n",
              "  <tbody>\n",
              "    <tr>\n",
              "      <th>0</th>\n",
              "      <td>Thriller</td>\n",
              "    </tr>\n",
              "    <tr>\n",
              "      <th>1</th>\n",
              "      <td>Back in Black</td>\n",
              "    </tr>\n",
              "    <tr>\n",
              "      <th>2</th>\n",
              "      <td>The Dark Side of the Moon</td>\n",
              "    </tr>\n",
              "    <tr>\n",
              "      <th>3</th>\n",
              "      <td>The Bodyguard</td>\n",
              "    </tr>\n",
              "    <tr>\n",
              "      <th>4</th>\n",
              "      <td>Bat Out of Hell</td>\n",
              "    </tr>\n",
              "  </tbody>\n",
              "</table>\n",
              "</div>\n",
              "      <button class=\"colab-df-convert\" onclick=\"convertToInteractive('df-a3da450f-6469-491f-9857-6a0814d54863')\"\n",
              "              title=\"Convert this dataframe to an interactive table.\"\n",
              "              style=\"display:none;\">\n",
              "        \n",
              "  <svg xmlns=\"http://www.w3.org/2000/svg\" height=\"24px\"viewBox=\"0 0 24 24\"\n",
              "       width=\"24px\">\n",
              "    <path d=\"M0 0h24v24H0V0z\" fill=\"none\"/>\n",
              "    <path d=\"M18.56 5.44l.94 2.06.94-2.06 2.06-.94-2.06-.94-.94-2.06-.94 2.06-2.06.94zm-11 1L8.5 8.5l.94-2.06 2.06-.94-2.06-.94L8.5 2.5l-.94 2.06-2.06.94zm10 10l.94 2.06.94-2.06 2.06-.94-2.06-.94-.94-2.06-.94 2.06-2.06.94z\"/><path d=\"M17.41 7.96l-1.37-1.37c-.4-.4-.92-.59-1.43-.59-.52 0-1.04.2-1.43.59L10.3 9.45l-7.72 7.72c-.78.78-.78 2.05 0 2.83L4 21.41c.39.39.9.59 1.41.59.51 0 1.02-.2 1.41-.59l7.78-7.78 2.81-2.81c.8-.78.8-2.07 0-2.86zM5.41 20L4 18.59l7.72-7.72 1.47 1.35L5.41 20z\"/>\n",
              "  </svg>\n",
              "      </button>\n",
              "      \n",
              "  <style>\n",
              "    .colab-df-container {\n",
              "      display:flex;\n",
              "      flex-wrap:wrap;\n",
              "      gap: 12px;\n",
              "    }\n",
              "\n",
              "    .colab-df-convert {\n",
              "      background-color: #E8F0FE;\n",
              "      border: none;\n",
              "      border-radius: 50%;\n",
              "      cursor: pointer;\n",
              "      display: none;\n",
              "      fill: #1967D2;\n",
              "      height: 32px;\n",
              "      padding: 0 0 0 0;\n",
              "      width: 32px;\n",
              "    }\n",
              "\n",
              "    .colab-df-convert:hover {\n",
              "      background-color: #E2EBFA;\n",
              "      box-shadow: 0px 1px 2px rgba(60, 64, 67, 0.3), 0px 1px 3px 1px rgba(60, 64, 67, 0.15);\n",
              "      fill: #174EA6;\n",
              "    }\n",
              "\n",
              "    [theme=dark] .colab-df-convert {\n",
              "      background-color: #3B4455;\n",
              "      fill: #D2E3FC;\n",
              "    }\n",
              "\n",
              "    [theme=dark] .colab-df-convert:hover {\n",
              "      background-color: #434B5C;\n",
              "      box-shadow: 0px 1px 3px 1px rgba(0, 0, 0, 0.15);\n",
              "      filter: drop-shadow(0px 1px 2px rgba(0, 0, 0, 0.3));\n",
              "      fill: #FFFFFF;\n",
              "    }\n",
              "  </style>\n",
              "\n",
              "      <script>\n",
              "        const buttonEl =\n",
              "          document.querySelector('#df-a3da450f-6469-491f-9857-6a0814d54863 button.colab-df-convert');\n",
              "        buttonEl.style.display =\n",
              "          google.colab.kernel.accessAllowed ? 'block' : 'none';\n",
              "\n",
              "        async function convertToInteractive(key) {\n",
              "          const element = document.querySelector('#df-a3da450f-6469-491f-9857-6a0814d54863');\n",
              "          const dataTable =\n",
              "            await google.colab.kernel.invokeFunction('convertToInteractive',\n",
              "                                                     [key], {});\n",
              "          if (!dataTable) return;\n",
              "\n",
              "          const docLinkHtml = 'Like what you see? Visit the ' +\n",
              "            '<a target=\"_blank\" href=https://colab.research.google.com/notebooks/data_table.ipynb>data table notebook</a>'\n",
              "            + ' to learn more about interactive tables.';\n",
              "          element.innerHTML = '';\n",
              "          dataTable['output_type'] = 'display_data';\n",
              "          await google.colab.output.renderOutput(dataTable, element);\n",
              "          const docLink = document.createElement('div');\n",
              "          docLink.innerHTML = docLinkHtml;\n",
              "          element.appendChild(docLink);\n",
              "        }\n",
              "      </script>\n",
              "    </div>\n",
              "  </div>\n",
              "  "
            ]
          },
          "metadata": {},
          "execution_count": 96
        }
      ]
    },
    {
      "cell_type": "markdown",
      "source": [
        "Dataframe que contiene tine dos columnas de la tabla\n",
        "\n",
        "\n"
      ],
      "metadata": {
        "id": "0HFTonUB5ios"
      }
    },
    {
      "cell_type": "code",
      "source": [
        "x = songs_frame[[\"Album\", \"Released\"]] \n",
        "x"
      ],
      "metadata": {
        "colab": {
          "base_uri": "https://localhost:8080/",
          "height": 206
        },
        "id": "pBxVnMNh5h6U",
        "outputId": "5afc5569-52b3-488c-b0e8-bc26c563e258"
      },
      "execution_count": 97,
      "outputs": [
        {
          "output_type": "execute_result",
          "data": {
            "text/plain": [
              "                       Album  Released\n",
              "0                   Thriller      1982\n",
              "1              Back in Black      1980\n",
              "2  The Dark Side of the Moon      1973\n",
              "3              The Bodyguard      1992\n",
              "4            Bat Out of Hell      1977"
            ],
            "text/html": [
              "\n",
              "  <div id=\"df-35be133b-7c9f-483a-a4b0-e49bb1e0165b\">\n",
              "    <div class=\"colab-df-container\">\n",
              "      <div>\n",
              "<style scoped>\n",
              "    .dataframe tbody tr th:only-of-type {\n",
              "        vertical-align: middle;\n",
              "    }\n",
              "\n",
              "    .dataframe tbody tr th {\n",
              "        vertical-align: top;\n",
              "    }\n",
              "\n",
              "    .dataframe thead th {\n",
              "        text-align: right;\n",
              "    }\n",
              "</style>\n",
              "<table border=\"1\" class=\"dataframe\">\n",
              "  <thead>\n",
              "    <tr style=\"text-align: right;\">\n",
              "      <th></th>\n",
              "      <th>Album</th>\n",
              "      <th>Released</th>\n",
              "    </tr>\n",
              "  </thead>\n",
              "  <tbody>\n",
              "    <tr>\n",
              "      <th>0</th>\n",
              "      <td>Thriller</td>\n",
              "      <td>1982</td>\n",
              "    </tr>\n",
              "    <tr>\n",
              "      <th>1</th>\n",
              "      <td>Back in Black</td>\n",
              "      <td>1980</td>\n",
              "    </tr>\n",
              "    <tr>\n",
              "      <th>2</th>\n",
              "      <td>The Dark Side of the Moon</td>\n",
              "      <td>1973</td>\n",
              "    </tr>\n",
              "    <tr>\n",
              "      <th>3</th>\n",
              "      <td>The Bodyguard</td>\n",
              "      <td>1992</td>\n",
              "    </tr>\n",
              "    <tr>\n",
              "      <th>4</th>\n",
              "      <td>Bat Out of Hell</td>\n",
              "      <td>1977</td>\n",
              "    </tr>\n",
              "  </tbody>\n",
              "</table>\n",
              "</div>\n",
              "      <button class=\"colab-df-convert\" onclick=\"convertToInteractive('df-35be133b-7c9f-483a-a4b0-e49bb1e0165b')\"\n",
              "              title=\"Convert this dataframe to an interactive table.\"\n",
              "              style=\"display:none;\">\n",
              "        \n",
              "  <svg xmlns=\"http://www.w3.org/2000/svg\" height=\"24px\"viewBox=\"0 0 24 24\"\n",
              "       width=\"24px\">\n",
              "    <path d=\"M0 0h24v24H0V0z\" fill=\"none\"/>\n",
              "    <path d=\"M18.56 5.44l.94 2.06.94-2.06 2.06-.94-2.06-.94-.94-2.06-.94 2.06-2.06.94zm-11 1L8.5 8.5l.94-2.06 2.06-.94-2.06-.94L8.5 2.5l-.94 2.06-2.06.94zm10 10l.94 2.06.94-2.06 2.06-.94-2.06-.94-.94-2.06-.94 2.06-2.06.94z\"/><path d=\"M17.41 7.96l-1.37-1.37c-.4-.4-.92-.59-1.43-.59-.52 0-1.04.2-1.43.59L10.3 9.45l-7.72 7.72c-.78.78-.78 2.05 0 2.83L4 21.41c.39.39.9.59 1.41.59.51 0 1.02-.2 1.41-.59l7.78-7.78 2.81-2.81c.8-.78.8-2.07 0-2.86zM5.41 20L4 18.59l7.72-7.72 1.47 1.35L5.41 20z\"/>\n",
              "  </svg>\n",
              "      </button>\n",
              "      \n",
              "  <style>\n",
              "    .colab-df-container {\n",
              "      display:flex;\n",
              "      flex-wrap:wrap;\n",
              "      gap: 12px;\n",
              "    }\n",
              "\n",
              "    .colab-df-convert {\n",
              "      background-color: #E8F0FE;\n",
              "      border: none;\n",
              "      border-radius: 50%;\n",
              "      cursor: pointer;\n",
              "      display: none;\n",
              "      fill: #1967D2;\n",
              "      height: 32px;\n",
              "      padding: 0 0 0 0;\n",
              "      width: 32px;\n",
              "    }\n",
              "\n",
              "    .colab-df-convert:hover {\n",
              "      background-color: #E2EBFA;\n",
              "      box-shadow: 0px 1px 2px rgba(60, 64, 67, 0.3), 0px 1px 3px 1px rgba(60, 64, 67, 0.15);\n",
              "      fill: #174EA6;\n",
              "    }\n",
              "\n",
              "    [theme=dark] .colab-df-convert {\n",
              "      background-color: #3B4455;\n",
              "      fill: #D2E3FC;\n",
              "    }\n",
              "\n",
              "    [theme=dark] .colab-df-convert:hover {\n",
              "      background-color: #434B5C;\n",
              "      box-shadow: 0px 1px 3px 1px rgba(0, 0, 0, 0.15);\n",
              "      filter: drop-shadow(0px 1px 2px rgba(0, 0, 0, 0.3));\n",
              "      fill: #FFFFFF;\n",
              "    }\n",
              "  </style>\n",
              "\n",
              "      <script>\n",
              "        const buttonEl =\n",
              "          document.querySelector('#df-35be133b-7c9f-483a-a4b0-e49bb1e0165b button.colab-df-convert');\n",
              "        buttonEl.style.display =\n",
              "          google.colab.kernel.accessAllowed ? 'block' : 'none';\n",
              "\n",
              "        async function convertToInteractive(key) {\n",
              "          const element = document.querySelector('#df-35be133b-7c9f-483a-a4b0-e49bb1e0165b');\n",
              "          const dataTable =\n",
              "            await google.colab.kernel.invokeFunction('convertToInteractive',\n",
              "                                                     [key], {});\n",
              "          if (!dataTable) return;\n",
              "\n",
              "          const docLinkHtml = 'Like what you see? Visit the ' +\n",
              "            '<a target=\"_blank\" href=https://colab.research.google.com/notebooks/data_table.ipynb>data table notebook</a>'\n",
              "            + ' to learn more about interactive tables.';\n",
              "          element.innerHTML = '';\n",
              "          dataTable['output_type'] = 'display_data';\n",
              "          await google.colab.output.renderOutput(dataTable, element);\n",
              "          const docLink = document.createElement('div');\n",
              "          docLink.innerHTML = docLinkHtml;\n",
              "          element.appendChild(docLink);\n",
              "        }\n",
              "      </script>\n",
              "    </div>\n",
              "  </div>\n",
              "  "
            ]
          },
          "metadata": {},
          "execution_count": 97
        }
      ]
    },
    {
      "cell_type": "markdown",
      "source": [
        "Seleccionar solo ciertos filas y columnas del DataFrame y asignarlos a una variable, para crear un nuevo dataframe"
      ],
      "metadata": {
        "id": "Gs57WleR8Prg"
      }
    },
    {
      "cell_type": "code",
      "source": [
        "songs_frame.iloc[1,1]:'1982'\n"
      ],
      "metadata": {
        "id": "V4shNaZ15pCi"
      },
      "execution_count": 126,
      "outputs": []
    },
    {
      "cell_type": "code",
      "source": [
        "songs_frame.iloc[1,1]:'1982'\n",
        "                    #Filas #Columnas\n",
        "z = songs_frame.iloc[0:2, 0:3] #Con esta linea podemos seleccionar cierto numero de filas y columnas a extraer del dataframe\n",
        "z"
      ],
      "metadata": {
        "colab": {
          "base_uri": "https://localhost:8080/",
          "height": 112
        },
        "id": "ZGiSBWfc8X2t",
        "outputId": "7f1313da-8bfc-444d-dd3a-73123b3d8a87"
      },
      "execution_count": 127,
      "outputs": [
        {
          "output_type": "execute_result",
          "data": {
            "text/plain": [
              "           Album  Released    Length\n",
              "0       Thriller      1982  00:42:19\n",
              "1  Back in Black      1980  00:42:11"
            ],
            "text/html": [
              "\n",
              "  <div id=\"df-0040dadf-3738-40c3-a5db-0acce74ec479\">\n",
              "    <div class=\"colab-df-container\">\n",
              "      <div>\n",
              "<style scoped>\n",
              "    .dataframe tbody tr th:only-of-type {\n",
              "        vertical-align: middle;\n",
              "    }\n",
              "\n",
              "    .dataframe tbody tr th {\n",
              "        vertical-align: top;\n",
              "    }\n",
              "\n",
              "    .dataframe thead th {\n",
              "        text-align: right;\n",
              "    }\n",
              "</style>\n",
              "<table border=\"1\" class=\"dataframe\">\n",
              "  <thead>\n",
              "    <tr style=\"text-align: right;\">\n",
              "      <th></th>\n",
              "      <th>Album</th>\n",
              "      <th>Released</th>\n",
              "      <th>Length</th>\n",
              "    </tr>\n",
              "  </thead>\n",
              "  <tbody>\n",
              "    <tr>\n",
              "      <th>0</th>\n",
              "      <td>Thriller</td>\n",
              "      <td>1982</td>\n",
              "      <td>00:42:19</td>\n",
              "    </tr>\n",
              "    <tr>\n",
              "      <th>1</th>\n",
              "      <td>Back in Black</td>\n",
              "      <td>1980</td>\n",
              "      <td>00:42:11</td>\n",
              "    </tr>\n",
              "  </tbody>\n",
              "</table>\n",
              "</div>\n",
              "      <button class=\"colab-df-convert\" onclick=\"convertToInteractive('df-0040dadf-3738-40c3-a5db-0acce74ec479')\"\n",
              "              title=\"Convert this dataframe to an interactive table.\"\n",
              "              style=\"display:none;\">\n",
              "        \n",
              "  <svg xmlns=\"http://www.w3.org/2000/svg\" height=\"24px\"viewBox=\"0 0 24 24\"\n",
              "       width=\"24px\">\n",
              "    <path d=\"M0 0h24v24H0V0z\" fill=\"none\"/>\n",
              "    <path d=\"M18.56 5.44l.94 2.06.94-2.06 2.06-.94-2.06-.94-.94-2.06-.94 2.06-2.06.94zm-11 1L8.5 8.5l.94-2.06 2.06-.94-2.06-.94L8.5 2.5l-.94 2.06-2.06.94zm10 10l.94 2.06.94-2.06 2.06-.94-2.06-.94-.94-2.06-.94 2.06-2.06.94z\"/><path d=\"M17.41 7.96l-1.37-1.37c-.4-.4-.92-.59-1.43-.59-.52 0-1.04.2-1.43.59L10.3 9.45l-7.72 7.72c-.78.78-.78 2.05 0 2.83L4 21.41c.39.39.9.59 1.41.59.51 0 1.02-.2 1.41-.59l7.78-7.78 2.81-2.81c.8-.78.8-2.07 0-2.86zM5.41 20L4 18.59l7.72-7.72 1.47 1.35L5.41 20z\"/>\n",
              "  </svg>\n",
              "      </button>\n",
              "      \n",
              "  <style>\n",
              "    .colab-df-container {\n",
              "      display:flex;\n",
              "      flex-wrap:wrap;\n",
              "      gap: 12px;\n",
              "    }\n",
              "\n",
              "    .colab-df-convert {\n",
              "      background-color: #E8F0FE;\n",
              "      border: none;\n",
              "      border-radius: 50%;\n",
              "      cursor: pointer;\n",
              "      display: none;\n",
              "      fill: #1967D2;\n",
              "      height: 32px;\n",
              "      padding: 0 0 0 0;\n",
              "      width: 32px;\n",
              "    }\n",
              "\n",
              "    .colab-df-convert:hover {\n",
              "      background-color: #E2EBFA;\n",
              "      box-shadow: 0px 1px 2px rgba(60, 64, 67, 0.3), 0px 1px 3px 1px rgba(60, 64, 67, 0.15);\n",
              "      fill: #174EA6;\n",
              "    }\n",
              "\n",
              "    [theme=dark] .colab-df-convert {\n",
              "      background-color: #3B4455;\n",
              "      fill: #D2E3FC;\n",
              "    }\n",
              "\n",
              "    [theme=dark] .colab-df-convert:hover {\n",
              "      background-color: #434B5C;\n",
              "      box-shadow: 0px 1px 3px 1px rgba(0, 0, 0, 0.15);\n",
              "      filter: drop-shadow(0px 1px 2px rgba(0, 0, 0, 0.3));\n",
              "      fill: #FFFFFF;\n",
              "    }\n",
              "  </style>\n",
              "\n",
              "      <script>\n",
              "        const buttonEl =\n",
              "          document.querySelector('#df-0040dadf-3738-40c3-a5db-0acce74ec479 button.colab-df-convert');\n",
              "        buttonEl.style.display =\n",
              "          google.colab.kernel.accessAllowed ? 'block' : 'none';\n",
              "\n",
              "        async function convertToInteractive(key) {\n",
              "          const element = document.querySelector('#df-0040dadf-3738-40c3-a5db-0acce74ec479');\n",
              "          const dataTable =\n",
              "            await google.colab.kernel.invokeFunction('convertToInteractive',\n",
              "                                                     [key], {});\n",
              "          if (!dataTable) return;\n",
              "\n",
              "          const docLinkHtml = 'Like what you see? Visit the ' +\n",
              "            '<a target=\"_blank\" href=https://colab.research.google.com/notebooks/data_table.ipynb>data table notebook</a>'\n",
              "            + ' to learn more about interactive tables.';\n",
              "          element.innerHTML = '';\n",
              "          dataTable['output_type'] = 'display_data';\n",
              "          await google.colab.output.renderOutput(dataTable, element);\n",
              "          const docLink = document.createElement('div');\n",
              "          docLink.innerHTML = docLinkHtml;\n",
              "          element.appendChild(docLink);\n",
              "        }\n",
              "      </script>\n",
              "    </div>\n",
              "  </div>\n",
              "  "
            ]
          },
          "metadata": {},
          "execution_count": 127
        }
      ]
    },
    {
      "cell_type": "markdown",
      "source": [
        "Como utilizar el metodo unique() en pandas para que solo te muestre los valores unicos de una cierta columna de un dataframe"
      ],
      "metadata": {
        "id": "u7KPcEix_1BW"
      }
    },
    {
      "cell_type": "code",
      "source": [
        "#Así es como se ve la columan antes de aplicar el metodo unique()\n",
        "songs_frame['Released']"
      ],
      "metadata": {
        "colab": {
          "base_uri": "https://localhost:8080/"
        },
        "id": "SfsIdWr-_TCc",
        "outputId": "af175234-f174-479f-9dc4-6aec01dea2df"
      },
      "execution_count": 136,
      "outputs": [
        {
          "output_type": "execute_result",
          "data": {
            "text/plain": [
              "0    1982\n",
              "1    1980\n",
              "2    1973\n",
              "3    1992\n",
              "4    1977\n",
              "Name: Released, dtype: int64"
            ]
          },
          "metadata": {},
          "execution_count": 136
        }
      ]
    },
    {
      "cell_type": "code",
      "source": [
        "#Así es como se ve despues de aplicar el metodo unique() en la columna release"
      ],
      "metadata": {
        "id": "wPVBhs71Aj1a"
      },
      "execution_count": 137,
      "outputs": []
    },
    {
      "cell_type": "code",
      "source": [
        "songs_frame['Released'].unique()"
      ],
      "metadata": {
        "colab": {
          "base_uri": "https://localhost:8080/"
        },
        "id": "FbfuOfJXArsJ",
        "outputId": "77f623d5-c1ed-436f-dd45-7226a45ee6f0"
      },
      "execution_count": 140,
      "outputs": [
        {
          "output_type": "execute_result",
          "data": {
            "text/plain": [
              "array([1982, 1980, 1973, 1992, 1977])"
            ]
          },
          "metadata": {},
          "execution_count": 140
        }
      ]
    },
    {
      "cell_type": "markdown",
      "source": [
        "Vamos a buscar todas las canciones hechas despues de 1979, después seleccionar las correspondientes. Para ello vamos a ver cuales cumplen la condición entonces se convertitrán en booleans"
      ],
      "metadata": {
        "id": "gvXirBwJBGQW"
      }
    },
    {
      "cell_type": "code",
      "source": [
        "songs_frame['Released']>=1980 #Este resultado lo vamos a guardar en otra variable"
      ],
      "metadata": {
        "colab": {
          "base_uri": "https://localhost:8080/"
        },
        "id": "b0FBWUemA-Wn",
        "outputId": "c7aefdab-5aff-4b4f-afeb-61c463093def"
      },
      "execution_count": 143,
      "outputs": [
        {
          "output_type": "execute_result",
          "data": {
            "text/plain": [
              "0     True\n",
              "1     True\n",
              "2    False\n",
              "3     True\n",
              "4    False\n",
              "Name: Released, dtype: bool"
            ]
          },
          "metadata": {},
          "execution_count": 143
        }
      ]
    },
    {
      "cell_type": "code",
      "source": [
        "df1 = songs_frame[songs_frame['Released']>=1980] #De esta forma obtendremos todos los valores True que nos había arrojado la lista anterior\n",
        "df1"
      ],
      "metadata": {
        "colab": {
          "base_uri": "https://localhost:8080/",
          "height": 143
        },
        "id": "SYtJnjVABrdy",
        "outputId": "5fff70b4-0b64-453e-e920-cf491762372e"
      },
      "execution_count": 147,
      "outputs": [
        {
          "output_type": "execute_result",
          "data": {
            "text/plain": [
              "           Album  Released    Length\n",
              "0       Thriller      1982  00:42:19\n",
              "1  Back in Black      1980  00:42:11\n",
              "3  The Bodyguard      1992  00:57:44"
            ],
            "text/html": [
              "\n",
              "  <div id=\"df-d88fa96c-748c-4861-be86-07633ec57db3\">\n",
              "    <div class=\"colab-df-container\">\n",
              "      <div>\n",
              "<style scoped>\n",
              "    .dataframe tbody tr th:only-of-type {\n",
              "        vertical-align: middle;\n",
              "    }\n",
              "\n",
              "    .dataframe tbody tr th {\n",
              "        vertical-align: top;\n",
              "    }\n",
              "\n",
              "    .dataframe thead th {\n",
              "        text-align: right;\n",
              "    }\n",
              "</style>\n",
              "<table border=\"1\" class=\"dataframe\">\n",
              "  <thead>\n",
              "    <tr style=\"text-align: right;\">\n",
              "      <th></th>\n",
              "      <th>Album</th>\n",
              "      <th>Released</th>\n",
              "      <th>Length</th>\n",
              "    </tr>\n",
              "  </thead>\n",
              "  <tbody>\n",
              "    <tr>\n",
              "      <th>0</th>\n",
              "      <td>Thriller</td>\n",
              "      <td>1982</td>\n",
              "      <td>00:42:19</td>\n",
              "    </tr>\n",
              "    <tr>\n",
              "      <th>1</th>\n",
              "      <td>Back in Black</td>\n",
              "      <td>1980</td>\n",
              "      <td>00:42:11</td>\n",
              "    </tr>\n",
              "    <tr>\n",
              "      <th>3</th>\n",
              "      <td>The Bodyguard</td>\n",
              "      <td>1992</td>\n",
              "      <td>00:57:44</td>\n",
              "    </tr>\n",
              "  </tbody>\n",
              "</table>\n",
              "</div>\n",
              "      <button class=\"colab-df-convert\" onclick=\"convertToInteractive('df-d88fa96c-748c-4861-be86-07633ec57db3')\"\n",
              "              title=\"Convert this dataframe to an interactive table.\"\n",
              "              style=\"display:none;\">\n",
              "        \n",
              "  <svg xmlns=\"http://www.w3.org/2000/svg\" height=\"24px\"viewBox=\"0 0 24 24\"\n",
              "       width=\"24px\">\n",
              "    <path d=\"M0 0h24v24H0V0z\" fill=\"none\"/>\n",
              "    <path d=\"M18.56 5.44l.94 2.06.94-2.06 2.06-.94-2.06-.94-.94-2.06-.94 2.06-2.06.94zm-11 1L8.5 8.5l.94-2.06 2.06-.94-2.06-.94L8.5 2.5l-.94 2.06-2.06.94zm10 10l.94 2.06.94-2.06 2.06-.94-2.06-.94-.94-2.06-.94 2.06-2.06.94z\"/><path d=\"M17.41 7.96l-1.37-1.37c-.4-.4-.92-.59-1.43-.59-.52 0-1.04.2-1.43.59L10.3 9.45l-7.72 7.72c-.78.78-.78 2.05 0 2.83L4 21.41c.39.39.9.59 1.41.59.51 0 1.02-.2 1.41-.59l7.78-7.78 2.81-2.81c.8-.78.8-2.07 0-2.86zM5.41 20L4 18.59l7.72-7.72 1.47 1.35L5.41 20z\"/>\n",
              "  </svg>\n",
              "      </button>\n",
              "      \n",
              "  <style>\n",
              "    .colab-df-container {\n",
              "      display:flex;\n",
              "      flex-wrap:wrap;\n",
              "      gap: 12px;\n",
              "    }\n",
              "\n",
              "    .colab-df-convert {\n",
              "      background-color: #E8F0FE;\n",
              "      border: none;\n",
              "      border-radius: 50%;\n",
              "      cursor: pointer;\n",
              "      display: none;\n",
              "      fill: #1967D2;\n",
              "      height: 32px;\n",
              "      padding: 0 0 0 0;\n",
              "      width: 32px;\n",
              "    }\n",
              "\n",
              "    .colab-df-convert:hover {\n",
              "      background-color: #E2EBFA;\n",
              "      box-shadow: 0px 1px 2px rgba(60, 64, 67, 0.3), 0px 1px 3px 1px rgba(60, 64, 67, 0.15);\n",
              "      fill: #174EA6;\n",
              "    }\n",
              "\n",
              "    [theme=dark] .colab-df-convert {\n",
              "      background-color: #3B4455;\n",
              "      fill: #D2E3FC;\n",
              "    }\n",
              "\n",
              "    [theme=dark] .colab-df-convert:hover {\n",
              "      background-color: #434B5C;\n",
              "      box-shadow: 0px 1px 3px 1px rgba(0, 0, 0, 0.15);\n",
              "      filter: drop-shadow(0px 1px 2px rgba(0, 0, 0, 0.3));\n",
              "      fill: #FFFFFF;\n",
              "    }\n",
              "  </style>\n",
              "\n",
              "      <script>\n",
              "        const buttonEl =\n",
              "          document.querySelector('#df-d88fa96c-748c-4861-be86-07633ec57db3 button.colab-df-convert');\n",
              "        buttonEl.style.display =\n",
              "          google.colab.kernel.accessAllowed ? 'block' : 'none';\n",
              "\n",
              "        async function convertToInteractive(key) {\n",
              "          const element = document.querySelector('#df-d88fa96c-748c-4861-be86-07633ec57db3');\n",
              "          const dataTable =\n",
              "            await google.colab.kernel.invokeFunction('convertToInteractive',\n",
              "                                                     [key], {});\n",
              "          if (!dataTable) return;\n",
              "\n",
              "          const docLinkHtml = 'Like what you see? Visit the ' +\n",
              "            '<a target=\"_blank\" href=https://colab.research.google.com/notebooks/data_table.ipynb>data table notebook</a>'\n",
              "            + ' to learn more about interactive tables.';\n",
              "          element.innerHTML = '';\n",
              "          dataTable['output_type'] = 'display_data';\n",
              "          await google.colab.output.renderOutput(dataTable, element);\n",
              "          const docLink = document.createElement('div');\n",
              "          docLink.innerHTML = docLinkHtml;\n",
              "          element.appendChild(docLink);\n",
              "        }\n",
              "      </script>\n",
              "    </div>\n",
              "  </div>\n",
              "  "
            ]
          },
          "metadata": {},
          "execution_count": 147
        }
      ]
    },
    {
      "cell_type": "markdown",
      "source": [
        "Como guardar un nuevo dataframe\n"
      ],
      "metadata": {
        "id": "fxgXxC7jDAn7"
      }
    },
    {
      "cell_type": "code",
      "source": [
        "#Si executamos la siguiente linea de codigo estaríamos creando un nuevo archivo csv\n",
        "df1.to_csv(\"new_songes\")"
      ],
      "metadata": {
        "id": "uFFj8Lk6DC8B"
      },
      "execution_count": 149,
      "outputs": []
    }
  ]
}