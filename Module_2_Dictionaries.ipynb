{
  "nbformat": 4,
  "nbformat_minor": 0,
  "metadata": {
    "colab": {
      "provenance": [],
      "authorship_tag": "ABX9TyOJu/opBicUsntVAj8mtiBv",
      "include_colab_link": true
    },
    "kernelspec": {
      "name": "python3",
      "display_name": "Python 3"
    },
    "language_info": {
      "name": "python"
    }
  },
  "cells": [
    {
      "cell_type": "markdown",
      "metadata": {
        "id": "view-in-github",
        "colab_type": "text"
      },
      "source": [
        "<a href=\"https://colab.research.google.com/github/PosgradoMNA/actividades-de-aprendizaje-Charles-CB/blob/main/Module_2_Dictionaries.ipynb\" target=\"_parent\"><img src=\"https://colab.research.google.com/assets/colab-badge.svg\" alt=\"Open In Colab\"/></a>"
      ]
    },
    {
      "cell_type": "markdown",
      "source": [
        "# **Diccionarios**\n",
        "Los diccionarios en Python, son como una especie de lista, estos también guardan diferentes valores en diferentes posiciones con un index, a diferencia de ese index que se tienen en las listas, los diccionarios tienen algo equivalente a lo que se le llama \"Key\" cada una de ellas tiene un valor asignado y asi se puede accesar al valor, a través de la key."
      ],
      "metadata": {
        "id": "Kh4zq2NTwmc8"
      }
    },
    {
      "cell_type": "code",
      "source": [
        "DIC = {\"Animal1\": 'Perro', \"Animal2\": 'gato', \"Animal3\":'Perico', \"Animal4\":'Ballena'} #Declaramos el diciconario las \"key\" serían Animal1, Animal2..."
      ],
      "metadata": {
        "id": "Rh0pB2okxDQL"
      },
      "execution_count": 2,
      "outputs": []
    },
    {
      "cell_type": "code",
      "source": [
        "DIC[\"Animal3\"] #Sacamos el valor que tiene la llave \"Animal3\""
      ],
      "metadata": {
        "id": "L9z_vAaQxo8l",
        "outputId": "09b1d4bf-f0fa-4e86-d1da-11bbf70ff21d",
        "colab": {
          "base_uri": "https://localhost:8080/",
          "height": 37
        }
      },
      "execution_count": 7,
      "outputs": [
        {
          "output_type": "execute_result",
          "data": {
            "text/plain": [
              "'Perico'"
            ],
            "application/vnd.google.colaboratory.intrinsic+json": {
              "type": "string"
            }
          },
          "metadata": {},
          "execution_count": 7
        }
      ]
    },
    {
      "cell_type": "markdown",
      "source": [
        "**Como agregar un nuevo valor al diccionario**"
      ],
      "metadata": {
        "id": "h-posZyjym-N"
      }
    },
    {
      "cell_type": "code",
      "source": [
        "DIC[\"Animal5\"] = 'Aguila'\n",
        "DIC[\"Animal5\"]"
      ],
      "metadata": {
        "id": "ixSBT1mAydFt",
        "outputId": "47c4c744-bd2e-44a9-cab1-833dc22cbb3b",
        "colab": {
          "base_uri": "https://localhost:8080/",
          "height": 37
        }
      },
      "execution_count": 16,
      "outputs": [
        {
          "output_type": "execute_result",
          "data": {
            "text/plain": [
              "'Aguila'"
            ],
            "application/vnd.google.colaboratory.intrinsic+json": {
              "type": "string"
            }
          },
          "metadata": {},
          "execution_count": 16
        }
      ]
    },
    {
      "cell_type": "markdown",
      "source": [
        "**Como eliminar un valor del diccionario**"
      ],
      "metadata": {
        "id": "6VB5VvSfzWjF"
      }
    },
    {
      "cell_type": "code",
      "source": [
        "del(DIC[\"Animal5\"]) #Aqui eliminamos el valor que tiene la llave \"Animal5\""
      ],
      "metadata": {
        "id": "lUf2EjmFzVTW"
      },
      "execution_count": 17,
      "outputs": []
    },
    {
      "cell_type": "code",
      "source": [
        "DIC[\"Animal5\"] #Aqui obtendremos un error dado que ese valor ya fue eliminado en la linea anterior"
      ],
      "metadata": {
        "id": "NsQCVSXez-e7",
        "outputId": "bb234e1e-326f-42bf-e861-757c1ff54c9b",
        "colab": {
          "base_uri": "https://localhost:8080/",
          "height": 164
        }
      },
      "execution_count": 19,
      "outputs": [
        {
          "output_type": "error",
          "ename": "KeyError",
          "evalue": "ignored",
          "traceback": [
            "\u001b[0;31m---------------------------------------------------------------------------\u001b[0m",
            "\u001b[0;31mKeyError\u001b[0m                                  Traceback (most recent call last)",
            "\u001b[0;32m<ipython-input-19-accc4e4d09f1>\u001b[0m in \u001b[0;36m<module>\u001b[0;34m\u001b[0m\n\u001b[0;32m----> 1\u001b[0;31m \u001b[0mDIC\u001b[0m\u001b[0;34m[\u001b[0m\u001b[0;34m\"Animal5\"\u001b[0m\u001b[0;34m]\u001b[0m \u001b[0;31m#Aqui obtendremos un error dado que ese valor ya fue eliminado en la linea anterior\u001b[0m\u001b[0;34m\u001b[0m\u001b[0;34m\u001b[0m\u001b[0m\n\u001b[0m",
            "\u001b[0;31mKeyError\u001b[0m: 'Animal5'"
          ]
        }
      ]
    },
    {
      "cell_type": "markdown",
      "source": [
        "**Como buscar un elemento en un diccionario**"
      ],
      "metadata": {
        "id": "eNQ1i-1J0RAg"
      }
    },
    {
      "cell_type": "code",
      "source": [
        "\"Animal2\" in DIC #Aqui buscamos la llave Animal 2, para ver si esta dentro del diccionario"
      ],
      "metadata": {
        "id": "ZPnrwhkJ0LJP",
        "outputId": "5adcab03-4741-4e31-c2f9-51e9669a5dfb",
        "colab": {
          "base_uri": "https://localhost:8080/"
        }
      },
      "execution_count": 21,
      "outputs": [
        {
          "output_type": "execute_result",
          "data": {
            "text/plain": [
              "True"
            ]
          },
          "metadata": {},
          "execution_count": 21
        }
      ]
    },
    {
      "cell_type": "code",
      "source": [
        "\"Animal5\" in DIC #Aquí obtendremos False ya que ese valor ya fue borrado"
      ],
      "metadata": {
        "id": "KWszrvDJ0q-Y",
        "outputId": "adc528c4-01ec-4851-88b7-234a7f506883",
        "colab": {
          "base_uri": "https://localhost:8080/"
        }
      },
      "execution_count": 23,
      "outputs": [
        {
          "output_type": "execute_result",
          "data": {
            "text/plain": [
              "False"
            ]
          },
          "metadata": {},
          "execution_count": 23
        }
      ]
    },
    {
      "cell_type": "markdown",
      "source": [
        "**Como ver todas las llaves que tiene el dicionario**"
      ],
      "metadata": {
        "id": "XAwf3sJf1F-J"
      }
    },
    {
      "cell_type": "code",
      "source": [
        "DIC.keys()"
      ],
      "metadata": {
        "id": "_nJKqI_j1Njp",
        "outputId": "c4f5a07a-ef8d-45b0-d4a2-42cbce950fed",
        "colab": {
          "base_uri": "https://localhost:8080/"
        }
      },
      "execution_count": 25,
      "outputs": [
        {
          "output_type": "execute_result",
          "data": {
            "text/plain": [
              "dict_keys(['Animal1', 'Animal2', 'Animal3', 'Animal4'])"
            ]
          },
          "metadata": {},
          "execution_count": 25
        }
      ]
    },
    {
      "cell_type": "markdown",
      "source": [
        "**Como ver todos los valores que tiene el diccionario**"
      ],
      "metadata": {
        "id": "Xbp18Vk61zIi"
      }
    },
    {
      "cell_type": "code",
      "source": [
        "DIC.values()"
      ],
      "metadata": {
        "id": "MR1SKvjW13ZD",
        "outputId": "9ba718fc-a80d-4401-81e3-a753264b4717",
        "colab": {
          "base_uri": "https://localhost:8080/"
        }
      },
      "execution_count": 31,
      "outputs": [
        {
          "output_type": "execute_result",
          "data": {
            "text/plain": [
              "dict_values(['Perro', 'gato', 'Perico', 'Ballena'])"
            ]
          },
          "metadata": {},
          "execution_count": 31
        }
      ]
    },
    {
      "cell_type": "markdown",
      "source": [
        "**Quiz**"
      ],
      "metadata": {
        "id": "FSzDwJs63ZCX"
      }
    },
    {
      "cell_type": "code",
      "source": [
        "Lista = [\"a\", \"b\", \"c\"]\n",
        "Lista"
      ],
      "metadata": {
        "id": "npKPKWhm3X_M",
        "outputId": "1071d027-bf5d-47b5-aa03-32fd8d9807e0",
        "colab": {
          "base_uri": "https://localhost:8080/"
        }
      },
      "execution_count": 38,
      "outputs": [
        {
          "output_type": "execute_result",
          "data": {
            "text/plain": [
              "['a', 'b', 'c']"
            ]
          },
          "metadata": {},
          "execution_count": 38
        }
      ]
    },
    {
      "cell_type": "code",
      "source": [
        "Lista.append([\"c\",\"d\"])\n",
        "Lista"
      ],
      "metadata": {
        "id": "Zijr2NeR3pyi",
        "outputId": "8b7114e4-d4b7-4e17-8dce-d8c81390267c",
        "colab": {
          "base_uri": "https://localhost:8080/"
        }
      },
      "execution_count": 39,
      "outputs": [
        {
          "output_type": "execute_result",
          "data": {
            "text/plain": [
              "['a', 'b', 'c', ['c', 'd']]"
            ]
          },
          "metadata": {},
          "execution_count": 39
        }
      ]
    }
  ]
}