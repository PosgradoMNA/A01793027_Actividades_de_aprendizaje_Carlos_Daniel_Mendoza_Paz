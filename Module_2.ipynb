{
  "nbformat": 4,
  "nbformat_minor": 0,
  "metadata": {
    "colab": {
      "provenance": [],
      "authorship_tag": "ABX9TyPuN43gK4dOL6Vifkrm63Fw",
      "include_colab_link": true
    },
    "kernelspec": {
      "name": "python3",
      "display_name": "Python 3"
    },
    "language_info": {
      "name": "python"
    }
  },
  "cells": [
    {
      "cell_type": "markdown",
      "metadata": {
        "id": "view-in-github",
        "colab_type": "text"
      },
      "source": [
        "<a href=\"https://colab.research.google.com/github/PosgradoMNA/actividades-de-aprendizaje-Charles-CB/blob/main/Module_2.ipynb\" target=\"_parent\"><img src=\"https://colab.research.google.com/assets/colab-badge.svg\" alt=\"Open In Colab\"/></a>"
      ]
    },
    {
      "cell_type": "markdown",
      "source": [
        "# **Lists & Tuples**\n",
        "\n",
        "Los Tuples son secuencias ordenadas y se encuentran separadas por commas dentro de un parentesis. Se puede decir que es un tipo de variable en Python y puede almacenar diferentes tipos de datos como lo son string, int & float. Esto es parecido al Cluster que utilizamos en Labview."
      ],
      "metadata": {
        "id": "_ar17_tV47bJ"
      }
    },
    {
      "cell_type": "code",
      "source": [
        "Ratings = (10, 9, 6, 5, 10, 8, 9, 6, 2)\n",
        "type(Ratings)"
      ],
      "metadata": {
        "colab": {
          "base_uri": "https://localhost:8080/"
        },
        "id": "i7ISPfab5HXg",
        "outputId": "33e8b901-aff7-4c99-bcbf-80be01288327"
      },
      "execution_count": 2,
      "outputs": [
        {
          "output_type": "execute_result",
          "data": {
            "text/plain": [
              "tuple"
            ]
          },
          "metadata": {},
          "execution_count": 2
        }
      ]
    },
    {
      "cell_type": "code",
      "source": [
        "tuple1 = (\"disco\", 10, 1.2)\n",
        "print(tuple1)"
      ],
      "metadata": {
        "colab": {
          "base_uri": "https://localhost:8080/"
        },
        "id": "LfS0dQFE781x",
        "outputId": "ef20e394-c0c8-4143-812b-38763dd7d1ad"
      },
      "execution_count": 5,
      "outputs": [
        {
          "output_type": "stream",
          "name": "stdout",
          "text": [
            "('disco', 10, 1.2)\n"
          ]
        }
      ]
    },
    {
      "cell_type": "code",
      "source": [
        "type(tuple1)"
      ],
      "metadata": {
        "colab": {
          "base_uri": "https://localhost:8080/"
        },
        "id": "c9C-95mK8xwo",
        "outputId": "4042eb12-f25e-4cdf-ce92-c52c31011723"
      },
      "execution_count": 7,
      "outputs": [
        {
          "output_type": "execute_result",
          "data": {
            "text/plain": [
              "tuple"
            ]
          },
          "metadata": {},
          "execution_count": 7
        }
      ]
    },
    {
      "cell_type": "markdown",
      "source": [
        "Las variables que contiene el Tuple también pueden ser accesadas o madarlas llamar a través de posiciones, justo como se muestra en el siguiente ejemplo."
      ],
      "metadata": {
        "id": "YGMzClCs9EKE"
      }
    },
    {
      "cell_type": "code",
      "source": [
        "print(tuple1[0]) #Mandamos imprimir la variable que se encuentra en la posición 1 del tuple"
      ],
      "metadata": {
        "colab": {
          "base_uri": "https://localhost:8080/"
        },
        "id": "5IlrW_qr9Mmb",
        "outputId": "0bbc0dbc-0905-4f32-8e75-690fdd7eace7"
      },
      "execution_count": 11,
      "outputs": [
        {
          "output_type": "stream",
          "name": "stdout",
          "text": [
            "disco\n"
          ]
        }
      ]
    },
    {
      "cell_type": "code",
      "source": [
        "tuple1[0]: \"disco\" #De esta forma accesamos al elemento \"disco\" que se encuentra dentro del tuple en la posición 0"
      ],
      "metadata": {
        "id": "KqDox77m9TyL"
      },
      "execution_count": 16,
      "outputs": []
    },
    {
      "cell_type": "markdown",
      "source": [
        "En Python también podemos utilizar indices negativos, por ejemplo para el tuple1 iniciarian nuestros indices negativos de la siguiente forma: -3, -2, -1"
      ],
      "metadata": {
        "id": "pH0Leska_CIG"
      }
    },
    {
      "cell_type": "code",
      "source": [
        "tuple1[-3] #Aquí estamos mandando llamar el primer valor que se encuentra en el idice 0 de lado de los positivos."
      ],
      "metadata": {
        "colab": {
          "base_uri": "https://localhost:8080/",
          "height": 37
        },
        "id": "zCaKItJ0_Sfh",
        "outputId": "8833eb4b-c2f6-4473-af45-bb075dbf018f"
      },
      "execution_count": 19,
      "outputs": [
        {
          "output_type": "execute_result",
          "data": {
            "text/plain": [
              "'disco'"
            ],
            "application/vnd.google.colaboratory.intrinsic+json": {
              "type": "string"
            }
          },
          "metadata": {},
          "execution_count": 19
        }
      ]
    },
    {
      "cell_type": "markdown",
      "source": [
        "Concatenar o conbinar tupples, justo como lo haciamos con los strings cuando los concatenabamos usando un signo mas."
      ],
      "metadata": {
        "id": "bBVWwONe_mOj"
      }
    },
    {
      "cell_type": "code",
      "source": [
        "tuple2 = tuple1 + (\"Hard Rock\", 10)\n",
        "print(tuple2)"
      ],
      "metadata": {
        "colab": {
          "base_uri": "https://localhost:8080/"
        },
        "id": "wIJ18Gpf_68j",
        "outputId": "9702073b-3fdd-4f79-d252-7f615ad8092c"
      },
      "execution_count": 21,
      "outputs": [
        {
          "output_type": "stream",
          "name": "stdout",
          "text": [
            "('disco', 10, 1.2, 'Hard Rock', 10)\n"
          ]
        }
      ]
    },
    {
      "cell_type": "markdown",
      "source": [
        "**Slicing tuples**"
      ],
      "metadata": {
        "id": "YZwiW3VwARJ9"
      }
    },
    {
      "cell_type": "markdown",
      "source": [
        "Podemos también rebanar, seccionar los tuples justo como lo haciamos con los strings, observe los siguiente ejemplos."
      ],
      "metadata": {
        "id": "e0TAn_3rAZki"
      }
    },
    {
      "cell_type": "code",
      "source": [
        "tuple2[0:3]"
      ],
      "metadata": {
        "colab": {
          "base_uri": "https://localhost:8080/"
        },
        "id": "Z-Zas3vlAYBc",
        "outputId": "6a841af6-4787-4358-833e-395c6f4be386"
      },
      "execution_count": 23,
      "outputs": [
        {
          "output_type": "execute_result",
          "data": {
            "text/plain": [
              "('disco', 10, 1.2)"
            ]
          },
          "metadata": {},
          "execution_count": 23
        }
      ]
    },
    {
      "cell_type": "code",
      "source": [
        "tuple2[3:5] #El ultimo indice es mucho mas grande que el total de elementos del tuple dado el hecho que el ultimo no cuenta por ende debemos incrementarlo en uno mas."
      ],
      "metadata": {
        "colab": {
          "base_uri": "https://localhost:8080/"
        },
        "id": "KOhTI7mdA4Nb",
        "outputId": "1d9bd157-27b7-41dd-9d31-222b5c8e4012"
      },
      "execution_count": 27,
      "outputs": [
        {
          "output_type": "execute_result",
          "data": {
            "text/plain": [
              "('Hard Rock', 10)"
            ]
          },
          "metadata": {},
          "execution_count": 27
        }
      ]
    },
    {
      "cell_type": "code",
      "source": [
        "len(tuple2) #También podemos utilizar el len command para saber el tamaño del tupple"
      ],
      "metadata": {
        "colab": {
          "base_uri": "https://localhost:8080/"
        },
        "id": "V6Jbxy2aBP5u",
        "outputId": "8c01b9dc-6466-465c-faab-048bf518865a"
      },
      "execution_count": 29,
      "outputs": [
        {
          "output_type": "execute_result",
          "data": {
            "text/plain": [
              "5"
            ]
          },
          "metadata": {},
          "execution_count": 29
        }
      ]
    },
    {
      "cell_type": "markdown",
      "source": [
        "Los tupples son inmutables por ende no pueden cambiar, observa el siguiente ejemplo. "
      ],
      "metadata": {
        "id": "NR0X4lC1CDd4"
      }
    },
    {
      "cell_type": "code",
      "source": [
        "Ratings = (10, 9, 6, 5, 10, 8, 9, 6, 2)\n",
        "Ratings1 = Ratings #No podemos hacer esto de que dos variables apunten a un solo tupple dado el caso de que los tuples son objetos inmutables "
      ],
      "metadata": {
        "id": "P1U2Lg6gCMyz"
      },
      "execution_count": 36,
      "outputs": []
    },
    {
      "cell_type": "code",
      "source": [
        "#Esto si sería correcto ya que estamos teniendo dos tupples diferentes\n",
        "Ratings = (10, 9, 6, 5, 10, 8, 9, 6, 2) #Este sería nuestro tupple 1\n",
        "Rating1 = (10,9,4,5) #Este sería nuestro tupple 2"
      ],
      "metadata": {
        "id": "oLSBSPALCTVv"
      },
      "execution_count": 38,
      "outputs": []
    },
    {
      "cell_type": "markdown",
      "source": [
        "Como podemos ordenar un tupple?"
      ],
      "metadata": {
        "id": "eWEWp4GgDtJc"
      }
    },
    {
      "cell_type": "code",
      "source": [
        "RatingsSorted = sorted(Ratings)\n",
        "RatingsSorted"
      ],
      "metadata": {
        "colab": {
          "base_uri": "https://localhost:8080/"
        },
        "id": "wcdjG2ajDf_g",
        "outputId": "f244ada4-e87a-47a3-a600-1ad894d4cdb8"
      },
      "execution_count": 40,
      "outputs": [
        {
          "output_type": "execute_result",
          "data": {
            "text/plain": [
              "[2, 5, 6, 6, 8, 9, 9, 10, 10]"
            ]
          },
          "metadata": {},
          "execution_count": 40
        }
      ]
    },
    {
      "cell_type": "markdown",
      "source": [
        "Tuples dentro de Tuples es posible. Este es un tipo de variable mas compleja a lo que se le conoce como Nesting o anidado"
      ],
      "metadata": {
        "id": "mASFrebeEUpy"
      }
    },
    {
      "cell_type": "code",
      "source": [
        "NT = (1, 2, (\"pop\", \"rock\"), (3, 4), (\"disco\", (1, 2)))\n",
        "NT"
      ],
      "metadata": {
        "colab": {
          "base_uri": "https://localhost:8080/"
        },
        "id": "TtAYSG2aEDUU",
        "outputId": "cb91b29e-fb76-48c8-9141-48604779c6ae"
      },
      "execution_count": 43,
      "outputs": [
        {
          "output_type": "execute_result",
          "data": {
            "text/plain": [
              "(1, 2, ('pop', 'rock'), (3, 4), ('disco', (1, 2)))"
            ]
          },
          "metadata": {},
          "execution_count": 43
        }
      ]
    },
    {
      "cell_type": "code",
      "source": [
        "NT[4][1][0] #Los indexados funcionan como un arbol primer vemos los ramales principales y despues los secundarios y terciarios. Entre mas ramas haya hay que poner mas corchetes"
      ],
      "metadata": {
        "colab": {
          "base_uri": "https://localhost:8080/"
        },
        "id": "dNs5DWuJFXs0",
        "outputId": "0db8e87b-3bcc-445b-cc0c-608bbc4269a6"
      },
      "execution_count": 55,
      "outputs": [
        {
          "output_type": "execute_result",
          "data": {
            "text/plain": [
              "1"
            ]
          },
          "metadata": {},
          "execution_count": 55
        }
      ]
    },
    {
      "cell_type": "markdown",
      "source": [
        "**Lists**\n",
        "Este tipo de datos también es muy popular en Python. Las listas se encierran entre corchetes no entre parentesis como los tupples o nested datas. A diferencia de los tuples, las listas si son mutables."
      ],
      "metadata": {
        "id": "gOwDIClRGeNo"
      }
    },
    {
      "cell_type": "code",
      "source": [
        "L = [\"Michael Jackson\", 10.1, 1982] #Al parecer en las listas también se pueden guardar diferentes tipos de datos \n",
        "L"
      ],
      "metadata": {
        "colab": {
          "base_uri": "https://localhost:8080/"
        },
        "id": "HzP1QjMSG_nN",
        "outputId": "e075a622-3cf3-4d02-bcc6-92afa5d276a7"
      },
      "execution_count": 57,
      "outputs": [
        {
          "output_type": "execute_result",
          "data": {
            "text/plain": [
              "['Michael Jackson', 10.1, 1982]"
            ]
          },
          "metadata": {},
          "execution_count": 57
        }
      ]
    },
    {
      "cell_type": "code",
      "source": [
        "NestList = [\"Michael Jackson\", 10.1, 1982, [1, 2], (\"A\",1)]\n",
        "NestList[3][0]"
      ],
      "metadata": {
        "colab": {
          "base_uri": "https://localhost:8080/"
        },
        "id": "A4VtkV_RHsb3",
        "outputId": "bada9d35-f166-48b7-f820-908964ef3cbe"
      },
      "execution_count": 66,
      "outputs": [
        {
          "output_type": "execute_result",
          "data": {
            "text/plain": [
              "1"
            ]
          },
          "metadata": {},
          "execution_count": 66
        }
      ]
    },
    {
      "cell_type": "markdown",
      "source": [
        "Como acceder a un elemento de una lista"
      ],
      "metadata": {
        "id": "c0gcSxK_JN_o"
      }
    },
    {
      "cell_type": "code",
      "source": [
        "L[0]: 'Michael Jackson'"
      ],
      "metadata": {
        "colab": {
          "base_uri": "https://localhost:8080/"
        },
        "id": "3APTBFpYJNWh",
        "outputId": "ad276234-f6ad-45cc-92bb-233401ee346d"
      },
      "execution_count": 73,
      "outputs": [
        {
          "output_type": "stream",
          "name": "stdout",
          "text": [
            "10.1\n"
          ]
        }
      ]
    },
    {
      "cell_type": "markdown",
      "source": [
        "También podemos utilizar indices negativos, como lo veniamos haciendo con los tupples. "
      ],
      "metadata": {
        "id": "3sBGV3qZKFTz"
      }
    },
    {
      "cell_type": "code",
      "source": [
        "L[-3]"
      ],
      "metadata": {
        "colab": {
          "base_uri": "https://localhost:8080/",
          "height": 37
        },
        "id": "ECsmGBzsKD3C",
        "outputId": "6af9a147-4857-4ee5-a064-e5a68db60718"
      },
      "execution_count": 75,
      "outputs": [
        {
          "output_type": "execute_result",
          "data": {
            "text/plain": [
              "'Michael Jackson'"
            ],
            "application/vnd.google.colaboratory.intrinsic+json": {
              "type": "string"
            }
          },
          "metadata": {},
          "execution_count": 75
        }
      ]
    },
    {
      "cell_type": "code",
      "source": [
        "L[-2]"
      ],
      "metadata": {
        "colab": {
          "base_uri": "https://localhost:8080/"
        },
        "id": "9eX_JcRvKdPt",
        "outputId": "2307d288-f370-441f-823c-ee7d3d5d2041"
      },
      "execution_count": 76,
      "outputs": [
        {
          "output_type": "execute_result",
          "data": {
            "text/plain": [
              "10.1"
            ]
          },
          "metadata": {},
          "execution_count": 76
        }
      ]
    },
    {
      "cell_type": "markdown",
      "source": [
        "También podemos aplicar slicing en las listas. Si es que queremos mas de un solo valor. Vesase el ejemplo debajo."
      ],
      "metadata": {
        "id": "FaihK8DXKl0O"
      }
    },
    {
      "cell_type": "code",
      "source": [
        "L[0:3]"
      ],
      "metadata": {
        "colab": {
          "base_uri": "https://localhost:8080/"
        },
        "id": "PzxQdWuMKr4i",
        "outputId": "ccdbe9bd-d2dd-4f6e-c714-f21f167e9908"
      },
      "execution_count": 79,
      "outputs": [
        {
          "output_type": "execute_result",
          "data": {
            "text/plain": [
              "['Michael Jackson', 10.1, 1982]"
            ]
          },
          "metadata": {},
          "execution_count": 79
        }
      ]
    },
    {
      "cell_type": "markdown",
      "source": [
        "También podemos concatenar las listas, justo como lo hacíamos con los tuples"
      ],
      "metadata": {
        "id": "iZ7hCpwHLJyc"
      }
    },
    {
      "cell_type": "code",
      "source": [
        "L1 = L + [\"pop\", 10]\n",
        "L1"
      ],
      "metadata": {
        "colab": {
          "base_uri": "https://localhost:8080/"
        },
        "id": "MYoC0X0hLPKJ",
        "outputId": "40c29cdb-6fe7-4cbc-fae1-7c1df84e0324"
      },
      "execution_count": 80,
      "outputs": [
        {
          "output_type": "execute_result",
          "data": {
            "text/plain": [
              "['Michael Jackson', 10.1, 1982, 'pop', 10]"
            ]
          },
          "metadata": {},
          "execution_count": 80
        }
      ]
    },
    {
      "cell_type": "markdown",
      "source": [
        "Las listas si son mutables por ende si podemos cambiarlas. En el sig ejemplo vamos agregar mas elementos a una lista en vez de crear una nueva."
      ],
      "metadata": {
        "id": "soXX-tEtLn7v"
      }
    },
    {
      "cell_type": "code",
      "source": [
        "L.extend([\"rock\", 100])\n",
        "L"
      ],
      "metadata": {
        "colab": {
          "base_uri": "https://localhost:8080/"
        },
        "id": "0NcptJn6LwJ9",
        "outputId": "96cc6f72-74c7-4839-ce76-688c619c18b6"
      },
      "execution_count": 86,
      "outputs": [
        {
          "output_type": "execute_result",
          "data": {
            "text/plain": [
              "['Michael Jackson',\n",
              " 10.1,\n",
              " 1982,\n",
              " 'pop',\n",
              " 10,\n",
              " 'pop',\n",
              " 10,\n",
              " 'rock',\n",
              " 100,\n",
              " ['Regeton', 20],\n",
              " 'rock',\n",
              " 100]"
            ]
          },
          "metadata": {},
          "execution_count": 86
        }
      ]
    },
    {
      "cell_type": "code",
      "source": [
        "L.append([\"Regeton\", 20])\n",
        "L"
      ],
      "metadata": {
        "colab": {
          "base_uri": "https://localhost:8080/"
        },
        "id": "X-a6JTUgL5YR",
        "outputId": "b2e546ee-cd6c-480b-9039-f4056a164c1a"
      },
      "execution_count": 85,
      "outputs": [
        {
          "output_type": "execute_result",
          "data": {
            "text/plain": [
              "['Michael Jackson',\n",
              " 10.1,\n",
              " 1982,\n",
              " 'pop',\n",
              " 10,\n",
              " 'pop',\n",
              " 10,\n",
              " 'rock',\n",
              " 100,\n",
              " ['Regeton', 20]]"
            ]
          },
          "metadata": {},
          "execution_count": 85
        }
      ]
    },
    {
      "cell_type": "markdown",
      "source": [
        "Remplazar un elemento de una lista\n"
      ],
      "metadata": {
        "id": "mziiaNaBN_8L"
      }
    },
    {
      "cell_type": "code",
      "source": [
        "A = [\"Disco\", 10, 1.2]"
      ],
      "metadata": {
        "id": "ef7vOYkdOCCw"
      },
      "execution_count": 99,
      "outputs": []
    },
    {
      "cell_type": "code",
      "source": [
        "A[0]"
      ],
      "metadata": {
        "colab": {
          "base_uri": "https://localhost:8080/",
          "height": 37
        },
        "id": "yZ9XwegEON2u",
        "outputId": "0e387577-dc6d-4116-f062-e6a242ced805"
      },
      "execution_count": 100,
      "outputs": [
        {
          "output_type": "execute_result",
          "data": {
            "text/plain": [
              "'Disco'"
            ],
            "application/vnd.google.colaboratory.intrinsic+json": {
              "type": "string"
            }
          },
          "metadata": {},
          "execution_count": 100
        }
      ]
    },
    {
      "cell_type": "code",
      "source": [
        "A[0] = \"Hard Rock\"\n",
        "A"
      ],
      "metadata": {
        "colab": {
          "base_uri": "https://localhost:8080/"
        },
        "id": "_WNyQ5FnOR3j",
        "outputId": "dc8be7da-d918-43be-ab59-7c896b6beb19"
      },
      "execution_count": 101,
      "outputs": [
        {
          "output_type": "execute_result",
          "data": {
            "text/plain": [
              "['Hard Rock', 10, 1.2]"
            ]
          },
          "metadata": {},
          "execution_count": 101
        }
      ]
    },
    {
      "cell_type": "markdown",
      "source": [
        "Eliminar un elemento de una lista."
      ],
      "metadata": {
        "id": "y-bcA-_FOgLM"
      }
    },
    {
      "cell_type": "code",
      "source": [
        "del(A[0])\n",
        "A"
      ],
      "metadata": {
        "colab": {
          "base_uri": "https://localhost:8080/"
        },
        "id": "zSg4AqzsOdHn",
        "outputId": "8710a216-7aa3-4dda-bff1-be6df443292d"
      },
      "execution_count": 103,
      "outputs": [
        {
          "output_type": "execute_result",
          "data": {
            "text/plain": [
              "[1.2]"
            ]
          },
          "metadata": {},
          "execution_count": 103
        }
      ]
    },
    {
      "cell_type": "markdown",
      "source": [
        "Convertir un string a una lista."
      ],
      "metadata": {
        "id": "XHzjf5hwPCPY"
      }
    },
    {
      "cell_type": "code",
      "source": [
        "\"Hard Rock\".split()\n"
      ],
      "metadata": {
        "colab": {
          "base_uri": "https://localhost:8080/"
        },
        "id": "AXx6pzljPBbM",
        "outputId": "799c91b8-9516-4712-b61c-ddf531f0cf48"
      },
      "execution_count": 107,
      "outputs": [
        {
          "output_type": "execute_result",
          "data": {
            "text/plain": [
              "['Hard', 'Rock']"
            ]
          },
          "metadata": {},
          "execution_count": 107
        }
      ]
    },
    {
      "cell_type": "markdown",
      "source": [
        "Usar la funcíon split para separar caracteres delimitados por algo, example una comma."
      ],
      "metadata": {
        "id": "YcU4MnrcPiJS"
      }
    },
    {
      "cell_type": "code",
      "source": [
        "\"A, B, C, D\".split(\",\")"
      ],
      "metadata": {
        "colab": {
          "base_uri": "https://localhost:8080/"
        },
        "id": "l1E6KJ5OPhJu",
        "outputId": "50d27f66-f8e8-41fb-a995-023309a83d94"
      },
      "execution_count": 109,
      "outputs": [
        {
          "output_type": "execute_result",
          "data": {
            "text/plain": [
              "['A', 'B', 'C', 'D']"
            ]
          },
          "metadata": {},
          "execution_count": 109
        }
      ]
    },
    {
      "cell_type": "markdown",
      "source": [
        "Dado el hecho de que las listas si son mutable, en pocas palabras podemos decir que eso se llama Aliasing. Si apuntamos dos variables hacia el mismo objeto y desde cualquiera de esas variables realizamos un cambio. Este se verá reflejado en todas las variables que lo apunten."
      ],
      "metadata": {
        "id": "eKGri2bfQSwp"
      }
    },
    {
      "cell_type": "code",
      "source": [
        "Lista = [\"Hard Rock\", 10, 1.2] # Aqui creamos la lista"
      ],
      "metadata": {
        "id": "ef1ItPmhP6Sa"
      },
      "execution_count": 118,
      "outputs": []
    },
    {
      "cell_type": "code",
      "source": [
        "Lista1 = Lista #Igualamos ambas listas, las asignamos a un mismo objeto\n",
        "Lista1"
      ],
      "metadata": {
        "colab": {
          "base_uri": "https://localhost:8080/"
        },
        "id": "vc5vrwdWQ5nt",
        "outputId": "7766f9d0-3ac5-49e9-b379-e65b48f25ebc"
      },
      "execution_count": 119,
      "outputs": [
        {
          "output_type": "execute_result",
          "data": {
            "text/plain": [
              "['Hard Rock', 10, 1.2]"
            ]
          },
          "metadata": {},
          "execution_count": 119
        }
      ]
    },
    {
      "cell_type": "code",
      "source": [
        "Lista[0] = \"Banana\" #Cambiamos un valor de la lista desde ota variable. El cambio se verá reflejado en ambas.\n",
        "Lista1"
      ],
      "metadata": {
        "colab": {
          "base_uri": "https://localhost:8080/"
        },
        "id": "4mcFQPnMRBT2",
        "outputId": "4e4f93df-7433-4b84-87a6-5fc1e2a0fd5c"
      },
      "execution_count": 120,
      "outputs": [
        {
          "output_type": "execute_result",
          "data": {
            "text/plain": [
              "['Banana', 10, 1.2]"
            ]
          },
          "metadata": {},
          "execution_count": 120
        }
      ]
    },
    {
      "cell_type": "markdown",
      "source": [
        "**Como clonar una lista**"
      ],
      "metadata": {
        "id": "PrJkk67fRl81"
      }
    },
    {
      "cell_type": "code",
      "source": [
        "Lista3 = [\"Hard Rock\", 10, 1.2]\n",
        "Lista3"
      ],
      "metadata": {
        "colab": {
          "base_uri": "https://localhost:8080/"
        },
        "id": "HOayF6IGRpPK",
        "outputId": "f06049c1-72ef-49ea-a1c0-668fe940f437"
      },
      "execution_count": 122,
      "outputs": [
        {
          "output_type": "execute_result",
          "data": {
            "text/plain": [
              "['Hard Rock', 10, 1.2]"
            ]
          },
          "metadata": {},
          "execution_count": 122
        }
      ]
    },
    {
      "cell_type": "code",
      "source": [
        "Lista4 = Lista3[:] #Aqui estamos clonando la lista\n",
        "Lista4"
      ],
      "metadata": {
        "colab": {
          "base_uri": "https://localhost:8080/"
        },
        "id": "v-DYotMfR1HY",
        "outputId": "eaad55e6-70ba-44da-9e72-4235864be0ac"
      },
      "execution_count": 124,
      "outputs": [
        {
          "output_type": "execute_result",
          "data": {
            "text/plain": [
              "['Hard Rock', 10, 1.2]"
            ]
          },
          "metadata": {},
          "execution_count": 124
        }
      ]
    },
    {
      "cell_type": "markdown",
      "source": [
        "Question 1"
      ],
      "metadata": {
        "id": "yKY6f0dWSNcu"
      }
    },
    {
      "cell_type": "code",
      "source": [
        "A=(0,1,2,3)\n",
        "A[-1]"
      ],
      "metadata": {
        "colab": {
          "base_uri": "https://localhost:8080/"
        },
        "id": "F0ppVb8pSPYV",
        "outputId": "90539957-ee9e-4710-c07b-994f78f05181"
      },
      "execution_count": 131,
      "outputs": [
        {
          "output_type": "execute_result",
          "data": {
            "text/plain": [
              "3"
            ]
          },
          "metadata": {},
          "execution_count": 131
        }
      ]
    },
    {
      "cell_type": "code",
      "source": [
        "B=[\"a\",\"b\",\"c\"]\n",
        "B[1:]"
      ],
      "metadata": {
        "colab": {
          "base_uri": "https://localhost:8080/"
        },
        "id": "GQUeXXuQS-fE",
        "outputId": "2ef7e3b9-09cc-490f-ad37-ce562676cd6c"
      },
      "execution_count": 132,
      "outputs": [
        {
          "output_type": "execute_result",
          "data": {
            "text/plain": [
              "['b', 'c']"
            ]
          },
          "metadata": {},
          "execution_count": 132
        }
      ]
    },
    {
      "cell_type": "markdown",
      "source": [
        "# Sets"
      ],
      "metadata": {
        "id": "KuPInetBUI3p"
      }
    },
    {
      "cell_type": "code",
      "source": [],
      "metadata": {
        "id": "eIqKjZCMUM9_"
      },
      "execution_count": null,
      "outputs": []
    }
  ]
}