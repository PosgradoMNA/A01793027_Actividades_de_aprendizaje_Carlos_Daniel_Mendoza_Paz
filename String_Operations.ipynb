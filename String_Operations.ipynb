{
  "nbformat": 4,
  "nbformat_minor": 0,
  "metadata": {
    "colab": {
      "provenance": [],
      "authorship_tag": "ABX9TyNL2UUO1HHrJFh7fryfsprN",
      "include_colab_link": true
    },
    "kernelspec": {
      "name": "python3",
      "display_name": "Python 3"
    },
    "language_info": {
      "name": "python"
    }
  },
  "cells": [
    {
      "cell_type": "markdown",
      "metadata": {
        "id": "view-in-github",
        "colab_type": "text"
      },
      "source": [
        "<a href=\"https://colab.research.google.com/github/PosgradoMNA/actividades-de-aprendizaje-Charles-CB/blob/main/String_Operations.ipynb\" target=\"_parent\"><img src=\"https://colab.research.google.com/assets/colab-badge.svg\" alt=\"Open In Colab\"/></a>"
      ]
    },
    {
      "cell_type": "markdown",
      "source": [
        "**Operaciones con Strings**"
      ],
      "metadata": {
        "id": "-8SpvEBjh6hz"
      }
    },
    {
      "cell_type": "code",
      "execution_count": 24,
      "metadata": {
        "id": "KCtI4riIgrN1"
      },
      "outputs": [],
      "source": [
        "name = \"Michael Jackson \""
      ]
    },
    {
      "cell_type": "markdown",
      "source": [
        "**Sacamos las letras de la cadena, las que van del 0 al 4**"
      ],
      "metadata": {
        "id": "i6WkNAUhjuxV"
      }
    },
    {
      "cell_type": "code",
      "source": [
        "name[0:4]"
      ],
      "metadata": {
        "id": "QJjc5y-siRXb",
        "outputId": "f827223c-ba25-49a6-9544-b5e6adfcd0e2",
        "colab": {
          "base_uri": "https://localhost:8080/",
          "height": 37
        }
      },
      "execution_count": 6,
      "outputs": [
        {
          "output_type": "execute_result",
          "data": {
            "text/plain": [
              "'Mich'"
            ],
            "application/vnd.google.colaboratory.intrinsic+json": {
              "type": "string"
            }
          },
          "metadata": {},
          "execution_count": 6
        }
      ]
    },
    {
      "cell_type": "markdown",
      "source": [
        "**Sacamos las letras que van del 8 al 12**"
      ],
      "metadata": {
        "id": "JN1t3CEyj6sk"
      }
    },
    {
      "cell_type": "code",
      "source": [
        "name[8:12]"
      ],
      "metadata": {
        "id": "QOxvu93yi1dN",
        "outputId": "904ef439-caf3-473b-97ec-0518e177e889",
        "colab": {
          "base_uri": "https://localhost:8080/",
          "height": 37
        }
      },
      "execution_count": 8,
      "outputs": [
        {
          "output_type": "execute_result",
          "data": {
            "text/plain": [
              "'Jack'"
            ],
            "application/vnd.google.colaboratory.intrinsic+json": {
              "type": "string"
            }
          },
          "metadata": {},
          "execution_count": 8
        }
      ]
    },
    {
      "cell_type": "markdown",
      "source": [
        "**Sacamos las letras cada dos posiciones, uno si uno no**"
      ],
      "metadata": {
        "id": "dJky2RB2qB8F"
      }
    },
    {
      "cell_type": "code",
      "source": [
        "name[::2]"
      ],
      "metadata": {
        "id": "mzFp4i4AqLGa",
        "outputId": "e929bcf0-f1b6-4fc1-fe6f-2e823f7de0df",
        "colab": {
          "base_uri": "https://localhost:8080/",
          "height": 37
        }
      },
      "execution_count": 9,
      "outputs": [
        {
          "output_type": "execute_result",
          "data": {
            "text/plain": [
              "'McalJcsn'"
            ],
            "application/vnd.google.colaboratory.intrinsic+json": {
              "type": "string"
            }
          },
          "metadata": {},
          "execution_count": 9
        }
      ]
    },
    {
      "cell_type": "markdown",
      "source": [
        "**Sacamos el total de caracteres que tiene la cadena**"
      ],
      "metadata": {
        "id": "pr_beffUqalI"
      }
    },
    {
      "cell_type": "code",
      "source": [
        "len(\"Michael Jackson \")"
      ],
      "metadata": {
        "id": "GqgE6jYAqVcg",
        "outputId": "72fcbcc2-7152-48ce-ce7f-f098f82acf83",
        "colab": {
          "base_uri": "https://localhost:8080/"
        }
      },
      "execution_count": 22,
      "outputs": [
        {
          "output_type": "execute_result",
          "data": {
            "text/plain": [
              "16"
            ]
          },
          "metadata": {},
          "execution_count": 22
        }
      ]
    },
    {
      "cell_type": "markdown",
      "source": [
        "**Agregamos o concatenamos cadenas de texto**"
      ],
      "metadata": {
        "id": "AY_78R1XtvKY"
      }
    },
    {
      "cell_type": "code",
      "source": [
        "statement = name + \" is the best\""
      ],
      "metadata": {
        "id": "YDvwG8Y8qmU0"
      },
      "execution_count": 14,
      "outputs": []
    },
    {
      "cell_type": "code",
      "source": [
        "print(statement)"
      ],
      "metadata": {
        "id": "ZREF6xcRsAn6",
        "outputId": "f364544b-f463-416b-941c-fdcb3cfa466d",
        "colab": {
          "base_uri": "https://localhost:8080/"
        }
      },
      "execution_count": 15,
      "outputs": [
        {
          "output_type": "stream",
          "name": "stdout",
          "text": [
            "Michael Jackson is the best\n"
          ]
        }
      ]
    },
    {
      "cell_type": "markdown",
      "source": [
        "**Tuples. Se pueden multiplicar las cadenas de texto por # número de veces**"
      ],
      "metadata": {
        "id": "pWPleKK3sXvM"
      }
    },
    {
      "cell_type": "code",
      "source": [
        "print(name * 3)"
      ],
      "metadata": {
        "id": "xrHyCQMMsEMQ",
        "outputId": "c87fe5fc-46df-47a6-e1e1-0cfb0e7650f7",
        "colab": {
          "base_uri": "https://localhost:8080/"
        }
      },
      "execution_count": 25,
      "outputs": [
        {
          "output_type": "stream",
          "name": "stdout",
          "text": [
            "Michael Jackson Michael Jackson Michael Jackson \n"
          ]
        }
      ]
    },
    {
      "cell_type": "code",
      "source": [
        "\"Carlos Daniel \" * 2"
      ],
      "metadata": {
        "id": "vEKpP3K1sseT",
        "outputId": "1b3d2d19-dfd4-4a20-bbe3-bd632caedc15",
        "colab": {
          "base_uri": "https://localhost:8080/",
          "height": 37
        }
      },
      "execution_count": 28,
      "outputs": [
        {
          "output_type": "execute_result",
          "data": {
            "text/plain": [
              "'Carlos Daniel Carlos Daniel '"
            ],
            "application/vnd.google.colaboratory.intrinsic+json": {
              "type": "string"
            }
          },
          "metadata": {},
          "execution_count": 28
        }
      ]
    },
    {
      "cell_type": "markdown",
      "source": [
        "**Salto de linea dentro de una cadena**"
      ],
      "metadata": {
        "id": "781R3riBuAI2"
      }
    },
    {
      "cell_type": "code",
      "source": [
        "print(\"Michael Jackson \\n is the best\")"
      ],
      "metadata": {
        "id": "lHetvXQFuI1O",
        "outputId": "5b829430-7c8d-4049-fd03-1d444c50fdd1",
        "colab": {
          "base_uri": "https://localhost:8080/"
        }
      },
      "execution_count": 30,
      "outputs": [
        {
          "output_type": "stream",
          "name": "stdout",
          "text": [
            "Michael Jackson \n",
            " is the best\n"
          ]
        }
      ]
    },
    {
      "cell_type": "markdown",
      "source": [
        "**Insertar una tabulación en una cadena**"
      ],
      "metadata": {
        "id": "GVtYVqhTubvN"
      }
    },
    {
      "cell_type": "code",
      "source": [
        "print(\"Michael Jackson \\t is the best\")"
      ],
      "metadata": {
        "id": "VJdMmWLDumRP",
        "outputId": "ce59bc5b-64b2-4d7c-c8b2-2d58f1eb17be",
        "colab": {
          "base_uri": "https://localhost:8080/"
        }
      },
      "execution_count": 31,
      "outputs": [
        {
          "output_type": "stream",
          "name": "stdout",
          "text": [
            "Michael Jackson \t is the best\n"
          ]
        }
      ]
    },
    {
      "cell_type": "markdown",
      "source": [
        "**Agregar una slide dentro de una cadena**"
      ],
      "metadata": {
        "id": "MMu_6FaiuyTs"
      }
    },
    {
      "cell_type": "code",
      "source": [
        "print(\"Michael Jackson \\\\ is the best\")"
      ],
      "metadata": {
        "id": "d0i3Z3y6u70o",
        "outputId": "c1dd6e5e-9400-4818-e380-2f38ff4a6c65",
        "colab": {
          "base_uri": "https://localhost:8080/"
        }
      },
      "execution_count": 33,
      "outputs": [
        {
          "output_type": "stream",
          "name": "stdout",
          "text": [
            "Michael Jackson \\ is the best\n"
          ]
        }
      ]
    },
    {
      "cell_type": "code",
      "source": [
        "print(r\"Michael Jackson \\ is the best\") #También se puede agregando una r al principio de la cadena"
      ],
      "metadata": {
        "id": "enySbiUavJEp",
        "outputId": "de81e2e2-65c6-4d20-e47a-06b7eb9555b2",
        "colab": {
          "base_uri": "https://localhost:8080/"
        }
      },
      "execution_count": 34,
      "outputs": [
        {
          "output_type": "stream",
          "name": "stdout",
          "text": [
            "Michael Jackson \\ is the best\n"
          ]
        }
      ]
    },
    {
      "cell_type": "markdown",
      "source": [
        "**Convertir a Mayusculas y Minusculas una cadena**"
      ],
      "metadata": {
        "id": "la_aekTOvtTA"
      }
    },
    {
      "cell_type": "code",
      "source": [
        "A = \"Thriller is the sixth studio album\""
      ],
      "metadata": {
        "id": "rfnMCjk5wA04"
      },
      "execution_count": 35,
      "outputs": []
    },
    {
      "cell_type": "code",
      "source": [
        "B = A.upper()\n",
        "print(B)"
      ],
      "metadata": {
        "id": "oqfuOj5zwM0w",
        "outputId": "6b0c4f0b-a378-4427-dc00-47ce9946bb80",
        "colab": {
          "base_uri": "https://localhost:8080/"
        }
      },
      "execution_count": 38,
      "outputs": [
        {
          "output_type": "stream",
          "name": "stdout",
          "text": [
            "THRILLER IS THE SIXTH STUDIO ALBUM\n"
          ]
        }
      ]
    },
    {
      "cell_type": "markdown",
      "source": [
        "**Method. Remplazar una sección de la cadena por alguna otra**"
      ],
      "metadata": {
        "id": "q5KP_Y_iwsiF"
      }
    },
    {
      "cell_type": "code",
      "source": [
        "A = \"Michael Jackson is the best\"\n",
        "B = A.replace(\"Michael\", \"Janet\")\n",
        "print(B)"
      ],
      "metadata": {
        "id": "s7nSoTtgwxXg",
        "outputId": "f0c5d2ec-e999-4abe-9505-38d2070feca7",
        "colab": {
          "base_uri": "https://localhost:8080/"
        }
      },
      "execution_count": 43,
      "outputs": [
        {
          "output_type": "stream",
          "name": "stdout",
          "text": [
            "Janet Jackson is the best\n"
          ]
        }
      ]
    },
    {
      "cell_type": "markdown",
      "source": [
        "**String. Stride. Este metodo te ayuda a buscar una cadena dentro de otra y te regresa la posicion donde la encontró (la posición del primer caracter)**"
      ],
      "metadata": {
        "id": "yoHL0iHhyFnh"
      }
    },
    {
      "cell_type": "code",
      "source": [
        "name.find(\"Daniel\") #Si la cadena no se encuentra dentro de la otra cadena, entonces nos arrojará un valor negativo -1"
      ],
      "metadata": {
        "id": "tR3DRi27yOWy",
        "outputId": "5eb751b9-ae31-455b-fb97-9fe7afedc8c4",
        "colab": {
          "base_uri": "https://localhost:8080/"
        }
      },
      "execution_count": 48,
      "outputs": [
        {
          "output_type": "execute_result",
          "data": {
            "text/plain": [
              "-1"
            ]
          },
          "metadata": {},
          "execution_count": 48
        }
      ]
    },
    {
      "cell_type": "markdown",
      "source": [
        "**Question 1**"
      ],
      "metadata": {
        "id": "6PqOaYYUzLO0"
      }
    },
    {
      "cell_type": "code",
      "source": [
        "Numbers = \"0123456\"\n",
        "Numbers[::2]"
      ],
      "metadata": {
        "id": "EQ81jdrdzPEM",
        "outputId": "2ad0ec97-629a-4553-a176-c40dec23e1c9",
        "colab": {
          "base_uri": "https://localhost:8080/",
          "height": 37
        }
      },
      "execution_count": 50,
      "outputs": [
        {
          "output_type": "execute_result",
          "data": {
            "text/plain": [
              "'0246'"
            ],
            "application/vnd.google.colaboratory.intrinsic+json": {
              "type": "string"
            }
          },
          "metadata": {},
          "execution_count": 50
        }
      ]
    },
    {
      "cell_type": "code",
      "source": [
        "\"0123456\".find('1')"
      ],
      "metadata": {
        "id": "oNPqsBUwzeU5",
        "outputId": "0c124480-212f-4575-cb50-8eca63d11fd9",
        "colab": {
          "base_uri": "https://localhost:8080/"
        }
      },
      "execution_count": 52,
      "outputs": [
        {
          "output_type": "execute_result",
          "data": {
            "text/plain": [
              "1"
            ]
          },
          "metadata": {},
          "execution_count": 52
        }
      ]
    },
    {
      "cell_type": "code",
      "source": [
        "3 + 2 * 2"
      ],
      "metadata": {
        "id": "zxF2JwlM0IHA",
        "outputId": "eb9343a0-b239-4da0-a2e2-807c07395c30",
        "colab": {
          "base_uri": "https://localhost:8080/"
        }
      },
      "execution_count": 55,
      "outputs": [
        {
          "output_type": "execute_result",
          "data": {
            "text/plain": [
              "7"
            ]
          },
          "metadata": {},
          "execution_count": 55
        }
      ]
    },
    {
      "cell_type": "code",
      "source": [
        "name = 'Lizz'\n",
        "print(name[0:2]) #Imprime solo Li porque el 2 no cuenta, entonces sería 0, 1 solamente"
      ],
      "metadata": {
        "id": "S1If6lJl0Ra4",
        "outputId": "6e6a8942-22bd-4b4b-d446-95893f602d58",
        "colab": {
          "base_uri": "https://localhost:8080/"
        }
      },
      "execution_count": 61,
      "outputs": [
        {
          "output_type": "stream",
          "name": "stdout",
          "text": [
            "Li\n"
          ]
        }
      ]
    },
    {
      "cell_type": "code",
      "source": [
        "var = '01234567'\n",
        "print(var[::2])"
      ],
      "metadata": {
        "id": "QA4v9kl90jPl",
        "outputId": "29d3309a-2984-4908-b058-923f07c8b753",
        "colab": {
          "base_uri": "https://localhost:8080/"
        }
      },
      "execution_count": 63,
      "outputs": [
        {
          "output_type": "stream",
          "name": "stdout",
          "text": [
            "0246\n"
          ]
        }
      ]
    },
    {
      "cell_type": "code",
      "source": [
        "'1'+'2'"
      ],
      "metadata": {
        "id": "deMPrzBd0z6L",
        "outputId": "2cab79b9-b30c-4e32-d360-bb6fd2a89176",
        "colab": {
          "base_uri": "https://localhost:8080/",
          "height": 37
        }
      },
      "execution_count": 64,
      "outputs": [
        {
          "output_type": "execute_result",
          "data": {
            "text/plain": [
              "'12'"
            ],
            "application/vnd.google.colaboratory.intrinsic+json": {
              "type": "string"
            }
          },
          "metadata": {},
          "execution_count": 64
        }
      ]
    },
    {
      "cell_type": "code",
      "source": [
        "myvar = 'hello'\n",
        "myvar = myvar.upper()\n",
        "print(myvar)"
      ],
      "metadata": {
        "id": "TzCppHz-075Q",
        "outputId": "a39c17e5-2c57-4735-9922-fdb401ed2c1d",
        "colab": {
          "base_uri": "https://localhost:8080/"
        }
      },
      "execution_count": 69,
      "outputs": [
        {
          "output_type": "stream",
          "name": "stdout",
          "text": [
            "HELLO\n"
          ]
        }
      ]
    },
    {
      "cell_type": "code",
      "source": [],
      "metadata": {
        "id": "HlbhwpCY1j3m"
      },
      "execution_count": null,
      "outputs": []
    }
  ]
}