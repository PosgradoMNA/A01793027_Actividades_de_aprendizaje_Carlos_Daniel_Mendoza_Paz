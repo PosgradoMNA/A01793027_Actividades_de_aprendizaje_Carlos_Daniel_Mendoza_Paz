{
  "nbformat": 4,
  "nbformat_minor": 0,
  "metadata": {
    "colab": {
      "provenance": [],
      "authorship_tag": "ABX9TyOVHDgh8KG2ufonWE8d6V7y",
      "include_colab_link": true
    },
    "kernelspec": {
      "name": "python3",
      "display_name": "Python 3"
    },
    "language_info": {
      "name": "python"
    }
  },
  "cells": [
    {
      "cell_type": "markdown",
      "metadata": {
        "id": "view-in-github",
        "colab_type": "text"
      },
      "source": [
        "<a href=\"https://colab.research.google.com/github/PosgradoMNA/actividades-de-aprendizaje-Charles-CB/blob/main/Semana_1_Actividad_2_Python_for_Data_Science_(IBM).ipynb\" target=\"_parent\"><img src=\"https://colab.research.google.com/assets/colab-badge.svg\" alt=\"Open In Colab\"/></a>"
      ]
    },
    {
      "cell_type": "markdown",
      "source": [
        "# **Module 1 Python Basics**"
      ],
      "metadata": {
        "id": "F1EjNKMRfxg5"
      }
    },
    {
      "cell_type": "markdown",
      "source": [
        "**Actividad 1 Hello World**"
      ],
      "metadata": {
        "id": "e60Qo-8HeViF"
      }
    },
    {
      "cell_type": "code",
      "source": [
        "print(\"Hello Python 101\")"
      ],
      "metadata": {
        "id": "RZCIkeJNeVH1",
        "outputId": "5f1e92ab-6c81-49ff-c71b-2fb49397eef1",
        "colab": {
          "base_uri": "https://localhost:8080/"
        }
      },
      "execution_count": null,
      "outputs": [
        {
          "output_type": "stream",
          "name": "stdout",
          "text": [
            "Hello Python 101\n"
          ]
        }
      ]
    },
    {
      "cell_type": "code",
      "source": [
        "print(\"Hello\\nWorld!\")"
      ],
      "metadata": {
        "id": "VWy568M-fsH_",
        "outputId": "5c0077eb-6030-432b-a228-b507ae1660cc",
        "colab": {
          "base_uri": "https://localhost:8080/"
        }
      },
      "execution_count": 1,
      "outputs": [
        {
          "output_type": "stream",
          "name": "stdout",
          "text": [
            "Hello\n",
            "World!\n"
          ]
        }
      ]
    },
    {
      "cell_type": "markdown",
      "source": [],
      "metadata": {
        "id": "_nhyE5o3g_88"
      }
    },
    {
      "cell_type": "code",
      "source": [],
      "metadata": {
        "id": "BfgCE2zng-Qx"
      },
      "execution_count": null,
      "outputs": []
    },
    {
      "cell_type": "markdown",
      "source": [
        "**Different Data Types**"
      ],
      "metadata": {
        "id": "Dj4zLne4i4RX"
      }
    },
    {
      "cell_type": "code",
      "execution_count": null,
      "metadata": {
        "id": "2SRcFJjugxU2",
        "outputId": "5b6af189-d3dd-443d-bba0-d2eb33b882fd",
        "colab": {
          "base_uri": "https://localhost:8080/"
        }
      },
      "outputs": [
        {
          "output_type": "execute_result",
          "data": {
            "text/plain": [
              "int"
            ]
          },
          "metadata": {},
          "execution_count": 3
        }
      ],
      "source": [
        "type(11)"
      ]
    },
    {
      "cell_type": "code",
      "source": [
        "type(21.21)"
      ],
      "metadata": {
        "id": "k0K6EC_HjF58",
        "outputId": "e1bb5e51-3a35-48eb-d6a9-4b5bade5ff81",
        "colab": {
          "base_uri": "https://localhost:8080/"
        }
      },
      "execution_count": null,
      "outputs": [
        {
          "output_type": "execute_result",
          "data": {
            "text/plain": [
              "float"
            ]
          },
          "metadata": {},
          "execution_count": 4
        }
      ]
    },
    {
      "cell_type": "code",
      "source": [
        "type(\"Hello Python\")"
      ],
      "metadata": {
        "id": "By6DLxCYjOHn",
        "outputId": "87b4616b-66a9-4cb0-fa67-eb8faf8bc437",
        "colab": {
          "base_uri": "https://localhost:8080/"
        }
      },
      "execution_count": null,
      "outputs": [
        {
          "output_type": "execute_result",
          "data": {
            "text/plain": [
              "str"
            ]
          },
          "metadata": {},
          "execution_count": 5
        }
      ]
    },
    {
      "cell_type": "markdown",
      "source": [
        "**Type Casting**"
      ],
      "metadata": {
        "id": "86MRJku0jY9q"
      }
    },
    {
      "cell_type": "code",
      "source": [
        "float(2)"
      ],
      "metadata": {
        "id": "vTwIqW88jcpC",
        "outputId": "a6c7ebbb-2c83-49ee-aaa8-091ba05c3683",
        "colab": {
          "base_uri": "https://localhost:8080/"
        }
      },
      "execution_count": null,
      "outputs": [
        {
          "output_type": "execute_result",
          "data": {
            "text/plain": [
              "2.0"
            ]
          },
          "metadata": {},
          "execution_count": 6
        }
      ]
    },
    {
      "cell_type": "code",
      "source": [
        "int(1.1)"
      ],
      "metadata": {
        "id": "91mEQEYcjqBI",
        "outputId": "877903e1-3de5-46bf-a589-713588d87006",
        "colab": {
          "base_uri": "https://localhost:8080/"
        }
      },
      "execution_count": null,
      "outputs": [
        {
          "output_type": "execute_result",
          "data": {
            "text/plain": [
              "1"
            ]
          },
          "metadata": {},
          "execution_count": 8
        }
      ]
    },
    {
      "cell_type": "code",
      "source": [
        "int(\"1\")"
      ],
      "metadata": {
        "id": "RHZT8AdfkA7U",
        "outputId": "dc3ddd86-4928-4389-ce68-02c58c416b6c",
        "colab": {
          "base_uri": "https://localhost:8080/"
        }
      },
      "execution_count": null,
      "outputs": [
        {
          "output_type": "execute_result",
          "data": {
            "text/plain": [
              "1"
            ]
          },
          "metadata": {},
          "execution_count": 9
        }
      ]
    },
    {
      "cell_type": "code",
      "source": [
        " int(\"A\") #Este debe mandar un error"
      ],
      "metadata": {
        "id": "l7gbMLtckEyR",
        "outputId": "7b3865de-72a9-4491-cdac-593b245615eb",
        "colab": {
          "base_uri": "https://localhost:8080/",
          "height": 164
        }
      },
      "execution_count": null,
      "outputs": [
        {
          "output_type": "error",
          "ename": "ValueError",
          "evalue": "ignored",
          "traceback": [
            "\u001b[0;31m---------------------------------------------------------------------------\u001b[0m",
            "\u001b[0;31mValueError\u001b[0m                                Traceback (most recent call last)",
            "\u001b[0;32m<ipython-input-11-51b62aeb0293>\u001b[0m in \u001b[0;36m<module>\u001b[0;34m\u001b[0m\n\u001b[0;32m----> 1\u001b[0;31m \u001b[0mint\u001b[0m\u001b[0;34m(\u001b[0m\u001b[0;34m\"A\"\u001b[0m\u001b[0;34m)\u001b[0m\u001b[0;34m\u001b[0m\u001b[0;34m\u001b[0m\u001b[0m\n\u001b[0m",
            "\u001b[0;31mValueError\u001b[0m: invalid literal for int() with base 10: 'A'"
          ]
        }
      ]
    },
    {
      "cell_type": "code",
      "source": [
        "str(1)"
      ],
      "metadata": {
        "id": "rjnR4dCVkJIp",
        "outputId": "39d0af1a-17b7-4946-fd9e-8c155647927d",
        "colab": {
          "base_uri": "https://localhost:8080/",
          "height": 37
        }
      },
      "execution_count": null,
      "outputs": [
        {
          "output_type": "execute_result",
          "data": {
            "text/plain": [
              "'1'"
            ],
            "application/vnd.google.colaboratory.intrinsic+json": {
              "type": "string"
            }
          },
          "metadata": {},
          "execution_count": 12
        }
      ]
    },
    {
      "cell_type": "code",
      "source": [
        "str(4.5)"
      ],
      "metadata": {
        "id": "A0ZQ9yIEkTIQ",
        "outputId": "25bea8f3-61a1-4820-92d6-f428489ad739",
        "colab": {
          "base_uri": "https://localhost:8080/",
          "height": 37
        }
      },
      "execution_count": null,
      "outputs": [
        {
          "output_type": "execute_result",
          "data": {
            "text/plain": [
              "'4.5'"
            ],
            "application/vnd.google.colaboratory.intrinsic+json": {
              "type": "string"
            }
          },
          "metadata": {},
          "execution_count": 13
        }
      ]
    },
    {
      "cell_type": "code",
      "source": [
        "type(True)"
      ],
      "metadata": {
        "id": "I6nnlnJHkYIm",
        "outputId": "b4591c9a-1297-489f-cf24-d7b0849f6da2",
        "colab": {
          "base_uri": "https://localhost:8080/"
        }
      },
      "execution_count": null,
      "outputs": [
        {
          "output_type": "execute_result",
          "data": {
            "text/plain": [
              "bool"
            ]
          },
          "metadata": {},
          "execution_count": 14
        }
      ]
    },
    {
      "cell_type": "code",
      "source": [
        " bool(1)\n",
        " "
      ],
      "metadata": {
        "id": "Hr4Xu0-ckffP",
        "outputId": "57067f11-548a-4b5a-93e5-e371e8ac7c5a",
        "colab": {
          "base_uri": "https://localhost:8080/"
        }
      },
      "execution_count": null,
      "outputs": [
        {
          "output_type": "execute_result",
          "data": {
            "text/plain": [
              "True"
            ]
          },
          "metadata": {},
          "execution_count": 16
        }
      ]
    },
    {
      "cell_type": "code",
      "source": [
        "bool(0)"
      ],
      "metadata": {
        "id": "DunD_pz2kred",
        "outputId": "80ae8fae-5819-4535-bedb-8aa7001be468",
        "colab": {
          "base_uri": "https://localhost:8080/"
        }
      },
      "execution_count": 2,
      "outputs": [
        {
          "output_type": "execute_result",
          "data": {
            "text/plain": [
              "False"
            ]
          },
          "metadata": {},
          "execution_count": 2
        }
      ]
    },
    {
      "cell_type": "markdown",
      "source": [
        "**Operaciones Matematicas**\n",
        "\n",
        "El orden estándar es el siguiente:\n",
        "Paréntesis.\n",
        "\n",
        "*   Parentesis\n",
        "*   Exponentes\n",
        "*   Multiplicación y División\n",
        "*   Suma y Resta"
      ],
      "metadata": {
        "id": "te7w1GaSiDFI"
      }
    },
    {
      "cell_type": "code",
      "source": [
        "#Suma\n",
        "43 + 60 + 16 + 41"
      ],
      "metadata": {
        "colab": {
          "base_uri": "https://localhost:8080/"
        },
        "id": "NNjWHJzYlDRk",
        "outputId": "786db1df-3574-4081-df56-a52ef97ce2eb"
      },
      "execution_count": 3,
      "outputs": [
        {
          "output_type": "execute_result",
          "data": {
            "text/plain": [
              "160"
            ]
          },
          "metadata": {},
          "execution_count": 3
        }
      ]
    },
    {
      "cell_type": "code",
      "source": [
        "#Resta\n",
        "50 - 60"
      ],
      "metadata": {
        "colab": {
          "base_uri": "https://localhost:8080/"
        },
        "id": "lQ2GOktSlI_H",
        "outputId": "3ff7fc5c-1c40-4c0e-e7ac-46d462f2ac3d"
      },
      "execution_count": 4,
      "outputs": [
        {
          "output_type": "execute_result",
          "data": {
            "text/plain": [
              "-10"
            ]
          },
          "metadata": {},
          "execution_count": 4
        }
      ]
    },
    {
      "cell_type": "code",
      "source": [
        "#Multiplicacion\n",
        "5*5"
      ],
      "metadata": {
        "colab": {
          "base_uri": "https://localhost:8080/"
        },
        "id": "P_kksPrzlNdC",
        "outputId": "1486d395-118c-4c85-894b-e5ba71b803c7"
      },
      "execution_count": 5,
      "outputs": [
        {
          "output_type": "execute_result",
          "data": {
            "text/plain": [
              "25"
            ]
          },
          "metadata": {},
          "execution_count": 5
        }
      ]
    },
    {
      "cell_type": "code",
      "source": [
        "#Division\n",
        "25/5"
      ],
      "metadata": {
        "colab": {
          "base_uri": "https://localhost:8080/"
        },
        "id": "_U68yoHSlR0V",
        "outputId": "88e5a899-add9-434f-cd79-a72a9a336481"
      },
      "execution_count": 6,
      "outputs": [
        {
          "output_type": "execute_result",
          "data": {
            "text/plain": [
              "5.0"
            ]
          },
          "metadata": {},
          "execution_count": 6
        }
      ]
    },
    {
      "cell_type": "code",
      "source": [
        "#Division decimal\n",
        "25/6"
      ],
      "metadata": {
        "colab": {
          "base_uri": "https://localhost:8080/"
        },
        "id": "mWZNYQN2lXUp",
        "outputId": "ede71cee-c13b-408f-cde4-835d118a343e"
      },
      "execution_count": 7,
      "outputs": [
        {
          "output_type": "execute_result",
          "data": {
            "text/plain": [
              "4.166666666666667"
            ]
          },
          "metadata": {},
          "execution_count": 7
        }
      ]
    },
    {
      "cell_type": "code",
      "source": [
        "#División redondeada\n",
        "25//6"
      ],
      "metadata": {
        "colab": {
          "base_uri": "https://localhost:8080/"
        },
        "id": "piqHSgYclecX",
        "outputId": "9214ce41-ef61-4aab-9e80-f20b53ae50e6"
      },
      "execution_count": 8,
      "outputs": [
        {
          "output_type": "execute_result",
          "data": {
            "text/plain": [
              "4"
            ]
          },
          "metadata": {},
          "execution_count": 8
        }
      ]
    },
    {
      "cell_type": "code",
      "source": [
        "#Orden de operaciónes\n",
        "2 * 60 + 30"
      ],
      "metadata": {
        "colab": {
          "base_uri": "https://localhost:8080/"
        },
        "id": "jOtWmTApl2O6",
        "outputId": "0b6fc5fd-aaaa-4ceb-80e2-87a9c7c3c097"
      },
      "execution_count": 9,
      "outputs": [
        {
          "output_type": "execute_result",
          "data": {
            "text/plain": [
              "150"
            ]
          },
          "metadata": {},
          "execution_count": 9
        }
      ]
    },
    {
      "cell_type": "code",
      "source": [
        "#Orden de operaciónes, primero se ejecuta la multiplicación, siempre sin importar el orden y despues la suma en este caso\n",
        "30 + 2 * 60"
      ],
      "metadata": {
        "colab": {
          "base_uri": "https://localhost:8080/"
        },
        "id": "aY58taAYmPc9",
        "outputId": "d692705f-d31e-47ce-8c8f-c09ab3277b89"
      },
      "execution_count": 11,
      "outputs": [
        {
          "output_type": "execute_result",
          "data": {
            "text/plain": [
              "150"
            ]
          },
          "metadata": {},
          "execution_count": 11
        }
      ]
    },
    {
      "cell_type": "code",
      "source": [
        "#Los parentesis se ejecutan primero que todas las demas operaciones\n",
        "(30 + 2) * 60"
      ],
      "metadata": {
        "colab": {
          "base_uri": "https://localhost:8080/"
        },
        "id": "_BQYqnXamS_n",
        "outputId": "8f4ce846-29f7-483f-bf0a-bc1babfa4980"
      },
      "execution_count": 12,
      "outputs": [
        {
          "output_type": "execute_result",
          "data": {
            "text/plain": [
              "1920"
            ]
          },
          "metadata": {},
          "execution_count": 12
        }
      ]
    },
    {
      "cell_type": "markdown",
      "source": [
        "**Variables**\n",
        "\n",
        "Una variable nos sirve para guardar una cierta información."
      ],
      "metadata": {
        "id": "C5lsde6Ir-by"
      }
    },
    {
      "cell_type": "code",
      "source": [
        "x = 43 + 60 + 16 + 41\n",
        "x"
      ],
      "metadata": {
        "colab": {
          "base_uri": "https://localhost:8080/"
        },
        "id": "vhM15s43sB_c",
        "outputId": "8299d10a-08fa-4f6d-b0da-3156de2ab1e5"
      },
      "execution_count": 15,
      "outputs": [
        {
          "output_type": "execute_result",
          "data": {
            "text/plain": [
              "160"
            ]
          },
          "metadata": {},
          "execution_count": 15
        }
      ]
    },
    {
      "cell_type": "code",
      "source": [
        "y = x / 60\n",
        "y"
      ],
      "metadata": {
        "colab": {
          "base_uri": "https://localhost:8080/"
        },
        "id": "2Dy8oVZBtBuo",
        "outputId": "b014ba6a-4bd1-4dea-f307-00b575c0f4d6"
      },
      "execution_count": 16,
      "outputs": [
        {
          "output_type": "execute_result",
          "data": {
            "text/plain": [
              "2.6666666666666665"
            ]
          },
          "metadata": {},
          "execution_count": 16
        }
      ]
    },
    {
      "cell_type": "code",
      "source": [
        "x = x / 60\n",
        "x"
      ],
      "metadata": {
        "colab": {
          "base_uri": "https://localhost:8080/"
        },
        "id": "Ie06HZ8ytG6x",
        "outputId": "d10e620c-d7a7-4e79-92ba-b4c1c4d336e4"
      },
      "execution_count": 18,
      "outputs": [
        {
          "output_type": "execute_result",
          "data": {
            "text/plain": [
              "0.04444444444444444"
            ]
          },
          "metadata": {},
          "execution_count": 18
        }
      ]
    },
    {
      "cell_type": "code",
      "source": [
        "Total_min = 43 + 42 + 57\n",
        "Total_min"
      ],
      "metadata": {
        "colab": {
          "base_uri": "https://localhost:8080/"
        },
        "id": "W7-IFykutJke",
        "outputId": "bb1b4a07-4ba3-4b96-aa05-8608937fb99c"
      },
      "execution_count": 19,
      "outputs": [
        {
          "output_type": "execute_result",
          "data": {
            "text/plain": [
              "142"
            ]
          },
          "metadata": {},
          "execution_count": 19
        }
      ]
    },
    {
      "cell_type": "code",
      "source": [
        "Total_hrs = Total_min / 60\n",
        "Total_hrs"
      ],
      "metadata": {
        "colab": {
          "base_uri": "https://localhost:8080/"
        },
        "id": "s0qQX-zUtVcv",
        "outputId": "b68912c1-a6fc-40c6-a722-7ff8b920d2d9"
      },
      "execution_count": 21,
      "outputs": [
        {
          "output_type": "execute_result",
          "data": {
            "text/plain": [
              "2.3666666666666667"
            ]
          },
          "metadata": {},
          "execution_count": 21
        }
      ]
    },
    {
      "cell_type": "markdown",
      "source": [
        "**String Operations**"
      ],
      "metadata": {
        "id": "GIFJtTLgtzAK"
      }
    },
    {
      "cell_type": "code",
      "execution_count": 23,
      "metadata": {
        "id": "KCtI4riIgrN1"
      },
      "outputs": [],
      "source": [
        "name = \"Michael Jackson \""
      ]
    },
    {
      "cell_type": "markdown",
      "source": [
        "Sacamos las letras de la cadena, las que van del 0 al 4"
      ],
      "metadata": {
        "id": "i6WkNAUhjuxV"
      }
    },
    {
      "cell_type": "code",
      "source": [
        "name[0:4]"
      ],
      "metadata": {
        "id": "QJjc5y-siRXb",
        "outputId": "f827223c-ba25-49a6-9544-b5e6adfcd0e2",
        "colab": {
          "base_uri": "https://localhost:8080/",
          "height": 37
        }
      },
      "execution_count": null,
      "outputs": [
        {
          "output_type": "execute_result",
          "data": {
            "text/plain": [
              "'Mich'"
            ],
            "application/vnd.google.colaboratory.intrinsic+json": {
              "type": "string"
            }
          },
          "metadata": {},
          "execution_count": 6
        }
      ]
    },
    {
      "cell_type": "markdown",
      "source": [
        "Slicing: Se le llama a cuando sacas mas de un dato. Sacamos las letras que van del 8 al 12."
      ],
      "metadata": {
        "id": "JN1t3CEyj6sk"
      }
    },
    {
      "cell_type": "code",
      "source": [
        "name[8:12]"
      ],
      "metadata": {
        "id": "QOxvu93yi1dN",
        "outputId": "904ef439-caf3-473b-97ec-0518e177e889",
        "colab": {
          "base_uri": "https://localhost:8080/",
          "height": 37
        }
      },
      "execution_count": null,
      "outputs": [
        {
          "output_type": "execute_result",
          "data": {
            "text/plain": [
              "'Jack'"
            ],
            "application/vnd.google.colaboratory.intrinsic+json": {
              "type": "string"
            }
          },
          "metadata": {},
          "execution_count": 8
        }
      ]
    },
    {
      "cell_type": "markdown",
      "source": [
        "Stride: Es cuando sacamos las letras cada dos posiciones, uno si uno no"
      ],
      "metadata": {
        "id": "dJky2RB2qB8F"
      }
    },
    {
      "cell_type": "code",
      "source": [
        "name[::2]"
      ],
      "metadata": {
        "id": "mzFp4i4AqLGa",
        "outputId": "e929bcf0-f1b6-4fc1-fe6f-2e823f7de0df",
        "colab": {
          "base_uri": "https://localhost:8080/",
          "height": 37
        }
      },
      "execution_count": null,
      "outputs": [
        {
          "output_type": "execute_result",
          "data": {
            "text/plain": [
              "'McalJcsn'"
            ],
            "application/vnd.google.colaboratory.intrinsic+json": {
              "type": "string"
            }
          },
          "metadata": {},
          "execution_count": 9
        }
      ]
    },
    {
      "cell_type": "markdown",
      "source": [
        "Slicing & Stride: También podemos sacar cada dos valores hasta cierta posicion de la cadena en este caso hasta el cuatro."
      ],
      "metadata": {
        "id": "qgRv-tznu_0y"
      }
    },
    {
      "cell_type": "code",
      "source": [
        "name[0:5:2]"
      ],
      "metadata": {
        "id": "zTuUAM0qu_LU",
        "outputId": "2aa2994f-dfc6-48a0-98aa-001e46eceb6d",
        "colab": {
          "base_uri": "https://localhost:8080/",
          "height": 37
        }
      },
      "execution_count": 24,
      "outputs": [
        {
          "output_type": "execute_result",
          "data": {
            "text/plain": [
              "'Mca'"
            ],
            "application/vnd.google.colaboratory.intrinsic+json": {
              "type": "string"
            }
          },
          "metadata": {},
          "execution_count": 24
        }
      ]
    },
    {
      "cell_type": "markdown",
      "source": [
        "Sacamos el total de caracteres que tiene la cadena"
      ],
      "metadata": {
        "id": "pr_beffUqalI"
      }
    },
    {
      "cell_type": "code",
      "source": [
        "len(\"Michael Jackson \")"
      ],
      "metadata": {
        "id": "GqgE6jYAqVcg",
        "outputId": "72fcbcc2-7152-48ce-ce7f-f098f82acf83",
        "colab": {
          "base_uri": "https://localhost:8080/"
        }
      },
      "execution_count": null,
      "outputs": [
        {
          "output_type": "execute_result",
          "data": {
            "text/plain": [
              "16"
            ]
          },
          "metadata": {},
          "execution_count": 22
        }
      ]
    },
    {
      "cell_type": "markdown",
      "source": [
        "Agregamos o concatenamos cadenas de texto"
      ],
      "metadata": {
        "id": "AY_78R1XtvKY"
      }
    },
    {
      "cell_type": "code",
      "source": [
        "statement = name + \" is the best\""
      ],
      "metadata": {
        "id": "YDvwG8Y8qmU0"
      },
      "execution_count": null,
      "outputs": []
    },
    {
      "cell_type": "code",
      "source": [
        "print(statement)"
      ],
      "metadata": {
        "id": "ZREF6xcRsAn6",
        "outputId": "f364544b-f463-416b-941c-fdcb3cfa466d",
        "colab": {
          "base_uri": "https://localhost:8080/"
        }
      },
      "execution_count": null,
      "outputs": [
        {
          "output_type": "stream",
          "name": "stdout",
          "text": [
            "Michael Jackson is the best\n"
          ]
        }
      ]
    },
    {
      "cell_type": "markdown",
      "source": [
        "**Tuples:** Se pueden multiplicar las cadenas de texto por # número de veces."
      ],
      "metadata": {
        "id": "pWPleKK3sXvM"
      }
    },
    {
      "cell_type": "code",
      "source": [
        "print(name * 3)"
      ],
      "metadata": {
        "id": "xrHyCQMMsEMQ",
        "outputId": "c87fe5fc-46df-47a6-e1e1-0cfb0e7650f7",
        "colab": {
          "base_uri": "https://localhost:8080/"
        }
      },
      "execution_count": null,
      "outputs": [
        {
          "output_type": "stream",
          "name": "stdout",
          "text": [
            "Michael Jackson Michael Jackson Michael Jackson \n"
          ]
        }
      ]
    },
    {
      "cell_type": "code",
      "source": [
        "\"Carlos Daniel \" * 2"
      ],
      "metadata": {
        "id": "vEKpP3K1sseT",
        "outputId": "1b3d2d19-dfd4-4a20-bbe3-bd632caedc15",
        "colab": {
          "base_uri": "https://localhost:8080/",
          "height": 37
        }
      },
      "execution_count": null,
      "outputs": [
        {
          "output_type": "execute_result",
          "data": {
            "text/plain": [
              "'Carlos Daniel Carlos Daniel '"
            ],
            "application/vnd.google.colaboratory.intrinsic+json": {
              "type": "string"
            }
          },
          "metadata": {},
          "execution_count": 28
        }
      ]
    },
    {
      "cell_type": "markdown",
      "source": [
        "Salto de linea dentro de una cadena"
      ],
      "metadata": {
        "id": "781R3riBuAI2"
      }
    },
    {
      "cell_type": "code",
      "source": [
        "print(\"Michael Jackson \\n is the best\")"
      ],
      "metadata": {
        "id": "lHetvXQFuI1O",
        "outputId": "5b829430-7c8d-4049-fd03-1d444c50fdd1",
        "colab": {
          "base_uri": "https://localhost:8080/"
        }
      },
      "execution_count": null,
      "outputs": [
        {
          "output_type": "stream",
          "name": "stdout",
          "text": [
            "Michael Jackson \n",
            " is the best\n"
          ]
        }
      ]
    },
    {
      "cell_type": "markdown",
      "source": [
        "Insertar una tabulación en una cadena"
      ],
      "metadata": {
        "id": "GVtYVqhTubvN"
      }
    },
    {
      "cell_type": "code",
      "source": [
        "print(\"Michael Jackson \\t is the best\")"
      ],
      "metadata": {
        "id": "VJdMmWLDumRP",
        "outputId": "ce59bc5b-64b2-4d7c-c8b2-2d58f1eb17be",
        "colab": {
          "base_uri": "https://localhost:8080/"
        }
      },
      "execution_count": null,
      "outputs": [
        {
          "output_type": "stream",
          "name": "stdout",
          "text": [
            "Michael Jackson \t is the best\n"
          ]
        }
      ]
    },
    {
      "cell_type": "markdown",
      "source": [
        "Agregar una slide dentro de una cadena"
      ],
      "metadata": {
        "id": "MMu_6FaiuyTs"
      }
    },
    {
      "cell_type": "code",
      "source": [
        "print(\"Michael Jackson \\\\ is the best\")"
      ],
      "metadata": {
        "id": "d0i3Z3y6u70o",
        "outputId": "c1dd6e5e-9400-4818-e380-2f38ff4a6c65",
        "colab": {
          "base_uri": "https://localhost:8080/"
        }
      },
      "execution_count": null,
      "outputs": [
        {
          "output_type": "stream",
          "name": "stdout",
          "text": [
            "Michael Jackson \\ is the best\n"
          ]
        }
      ]
    },
    {
      "cell_type": "code",
      "source": [
        "print(r\"Michael Jackson \\ is the best\") #También se puede agregando una r al principio de la cadena"
      ],
      "metadata": {
        "id": "enySbiUavJEp",
        "outputId": "de81e2e2-65c6-4d20-e47a-06b7eb9555b2",
        "colab": {
          "base_uri": "https://localhost:8080/"
        }
      },
      "execution_count": null,
      "outputs": [
        {
          "output_type": "stream",
          "name": "stdout",
          "text": [
            "Michael Jackson \\ is the best\n"
          ]
        }
      ]
    },
    {
      "cell_type": "markdown",
      "source": [
        "UPPER & LOWER Case: Convertir a Mayusculas y Minusculas una cadena"
      ],
      "metadata": {
        "id": "la_aekTOvtTA"
      }
    },
    {
      "cell_type": "code",
      "source": [
        "A = \"Thriller is the sixth studio album\""
      ],
      "metadata": {
        "id": "rfnMCjk5wA04"
      },
      "execution_count": 25,
      "outputs": []
    },
    {
      "cell_type": "code",
      "source": [
        "B = A.upper()\n",
        "print(B)"
      ],
      "metadata": {
        "id": "oqfuOj5zwM0w",
        "outputId": "eaf83bcd-0a6d-454f-9c6a-ca9c979a6d2b",
        "colab": {
          "base_uri": "https://localhost:8080/"
        }
      },
      "execution_count": 26,
      "outputs": [
        {
          "output_type": "stream",
          "name": "stdout",
          "text": [
            "THRILLER IS THE SIXTH STUDIO ALBUM\n"
          ]
        }
      ]
    },
    {
      "cell_type": "markdown",
      "source": [
        "Method. Remplazar una sección de la cadena por alguna otra"
      ],
      "metadata": {
        "id": "q5KP_Y_iwsiF"
      }
    },
    {
      "cell_type": "code",
      "source": [
        "A = \"Michael Jackson is the best\"\n",
        "B = A.replace(\"Michael\", \"Janet\")\n",
        "print(B)"
      ],
      "metadata": {
        "id": "s7nSoTtgwxXg",
        "outputId": "f0c5d2ec-e999-4abe-9505-38d2070feca7",
        "colab": {
          "base_uri": "https://localhost:8080/"
        }
      },
      "execution_count": null,
      "outputs": [
        {
          "output_type": "stream",
          "name": "stdout",
          "text": [
            "Janet Jackson is the best\n"
          ]
        }
      ]
    },
    {
      "cell_type": "markdown",
      "source": [
        "String. Stride. Este metodo te ayuda a buscar una cadena dentro de otra y te regresa la posicion donde la encontró (la posición del primer caracter)"
      ],
      "metadata": {
        "id": "yoHL0iHhyFnh"
      }
    },
    {
      "cell_type": "code",
      "source": [
        "name.find(\"Daniel\") #Si la cadena no se encuentra dentro de la otra cadena, entonces nos arrojará un valor negativo -1"
      ],
      "metadata": {
        "id": "tR3DRi27yOWy",
        "outputId": "5eb751b9-ae31-455b-fb97-9fe7afedc8c4",
        "colab": {
          "base_uri": "https://localhost:8080/"
        }
      },
      "execution_count": null,
      "outputs": [
        {
          "output_type": "execute_result",
          "data": {
            "text/plain": [
              "-1"
            ]
          },
          "metadata": {},
          "execution_count": 48
        }
      ]
    },
    {
      "cell_type": "markdown",
      "source": [
        "Question 1"
      ],
      "metadata": {
        "id": "6PqOaYYUzLO0"
      }
    },
    {
      "cell_type": "code",
      "source": [
        "Numbers = \"0123456\"\n",
        "Numbers[::2]"
      ],
      "metadata": {
        "id": "EQ81jdrdzPEM",
        "outputId": "2ad0ec97-629a-4553-a176-c40dec23e1c9",
        "colab": {
          "base_uri": "https://localhost:8080/",
          "height": 37
        }
      },
      "execution_count": null,
      "outputs": [
        {
          "output_type": "execute_result",
          "data": {
            "text/plain": [
              "'0246'"
            ],
            "application/vnd.google.colaboratory.intrinsic+json": {
              "type": "string"
            }
          },
          "metadata": {},
          "execution_count": 50
        }
      ]
    },
    {
      "cell_type": "code",
      "source": [
        "\"0123456\".find('1')"
      ],
      "metadata": {
        "id": "oNPqsBUwzeU5",
        "outputId": "0c124480-212f-4575-cb50-8eca63d11fd9",
        "colab": {
          "base_uri": "https://localhost:8080/"
        }
      },
      "execution_count": null,
      "outputs": [
        {
          "output_type": "execute_result",
          "data": {
            "text/plain": [
              "1"
            ]
          },
          "metadata": {},
          "execution_count": 52
        }
      ]
    },
    {
      "cell_type": "code",
      "source": [
        "3 + 2 * 2"
      ],
      "metadata": {
        "id": "zxF2JwlM0IHA",
        "outputId": "eb9343a0-b239-4da0-a2e2-807c07395c30",
        "colab": {
          "base_uri": "https://localhost:8080/"
        }
      },
      "execution_count": null,
      "outputs": [
        {
          "output_type": "execute_result",
          "data": {
            "text/plain": [
              "7"
            ]
          },
          "metadata": {},
          "execution_count": 55
        }
      ]
    },
    {
      "cell_type": "code",
      "source": [
        "name = 'Lizz'\n",
        "print(name[0:2]) #Imprime solo Li porque el 2 no cuenta, entonces sería 0, 1 solamente"
      ],
      "metadata": {
        "id": "S1If6lJl0Ra4",
        "outputId": "6e6a8942-22bd-4b4b-d446-95893f602d58",
        "colab": {
          "base_uri": "https://localhost:8080/"
        }
      },
      "execution_count": null,
      "outputs": [
        {
          "output_type": "stream",
          "name": "stdout",
          "text": [
            "Li\n"
          ]
        }
      ]
    },
    {
      "cell_type": "code",
      "source": [
        "var = '01234567'\n",
        "print(var[::2])"
      ],
      "metadata": {
        "id": "QA4v9kl90jPl",
        "outputId": "29d3309a-2984-4908-b058-923f07c8b753",
        "colab": {
          "base_uri": "https://localhost:8080/"
        }
      },
      "execution_count": null,
      "outputs": [
        {
          "output_type": "stream",
          "name": "stdout",
          "text": [
            "0246\n"
          ]
        }
      ]
    },
    {
      "cell_type": "code",
      "source": [
        "'1'+'2'"
      ],
      "metadata": {
        "id": "deMPrzBd0z6L",
        "outputId": "2cab79b9-b30c-4e32-d360-bb6fd2a89176",
        "colab": {
          "base_uri": "https://localhost:8080/",
          "height": 37
        }
      },
      "execution_count": null,
      "outputs": [
        {
          "output_type": "execute_result",
          "data": {
            "text/plain": [
              "'12'"
            ],
            "application/vnd.google.colaboratory.intrinsic+json": {
              "type": "string"
            }
          },
          "metadata": {},
          "execution_count": 64
        }
      ]
    },
    {
      "cell_type": "code",
      "source": [
        "myvar = 'hello'\n",
        "myvar = myvar.upper()\n",
        "print(myvar)"
      ],
      "metadata": {
        "id": "TzCppHz-075Q",
        "outputId": "a39c17e5-2c57-4735-9922-fdb401ed2c1d",
        "colab": {
          "base_uri": "https://localhost:8080/"
        }
      },
      "execution_count": null,
      "outputs": [
        {
          "output_type": "stream",
          "name": "stdout",
          "text": [
            "HELLO\n"
          ]
        }
      ]
    },
    {
      "cell_type": "code",
      "source": [],
      "metadata": {
        "id": "HlbhwpCY1j3m"
      },
      "execution_count": null,
      "outputs": []
    }
  ]
}