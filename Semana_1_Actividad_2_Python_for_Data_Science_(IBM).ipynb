{
  "nbformat": 4,
  "nbformat_minor": 0,
  "metadata": {
    "colab": {
      "provenance": [],
      "authorship_tag": "ABX9TyPoK0O5fiPr9fUZK9ltbK0f",
      "include_colab_link": true
    },
    "kernelspec": {
      "name": "python3",
      "display_name": "Python 3"
    },
    "language_info": {
      "name": "python"
    }
  },
  "cells": [
    {
      "cell_type": "markdown",
      "metadata": {
        "id": "view-in-github",
        "colab_type": "text"
      },
      "source": [
        "<a href=\"https://colab.research.google.com/github/PosgradoMNA/actividades-de-aprendizaje-Charles-CB/blob/main/Semana_1_Actividad_2_Python_for_Data_Science_(IBM).ipynb\" target=\"_parent\"><img src=\"https://colab.research.google.com/assets/colab-badge.svg\" alt=\"Open In Colab\"/></a>"
      ]
    },
    {
      "cell_type": "markdown",
      "source": [
        "# **Module 1 Python Basics**"
      ],
      "metadata": {
        "id": "F1EjNKMRfxg5"
      }
    },
    {
      "cell_type": "markdown",
      "source": [
        "**Actividad 1 Hello World**"
      ],
      "metadata": {
        "id": "e60Qo-8HeViF"
      }
    },
    {
      "cell_type": "code",
      "source": [
        "print(\"Hello Python 101\")"
      ],
      "metadata": {
        "id": "RZCIkeJNeVH1",
        "outputId": "5f1e92ab-6c81-49ff-c71b-2fb49397eef1",
        "colab": {
          "base_uri": "https://localhost:8080/"
        }
      },
      "execution_count": null,
      "outputs": [
        {
          "output_type": "stream",
          "name": "stdout",
          "text": [
            "Hello Python 101\n"
          ]
        }
      ]
    },
    {
      "cell_type": "code",
      "source": [
        "print(\"Hello\\nWorld!\")"
      ],
      "metadata": {
        "id": "VWy568M-fsH_",
        "outputId": "5c0077eb-6030-432b-a228-b507ae1660cc",
        "colab": {
          "base_uri": "https://localhost:8080/"
        }
      },
      "execution_count": 1,
      "outputs": [
        {
          "output_type": "stream",
          "name": "stdout",
          "text": [
            "Hello\n",
            "World!\n"
          ]
        }
      ]
    },
    {
      "cell_type": "markdown",
      "source": [],
      "metadata": {
        "id": "_nhyE5o3g_88"
      }
    },
    {
      "cell_type": "code",
      "source": [],
      "metadata": {
        "id": "BfgCE2zng-Qx"
      },
      "execution_count": null,
      "outputs": []
    },
    {
      "cell_type": "markdown",
      "source": [
        "**Different Data Types**"
      ],
      "metadata": {
        "id": "Dj4zLne4i4RX"
      }
    },
    {
      "cell_type": "code",
      "execution_count": null,
      "metadata": {
        "id": "2SRcFJjugxU2",
        "outputId": "5b6af189-d3dd-443d-bba0-d2eb33b882fd",
        "colab": {
          "base_uri": "https://localhost:8080/"
        }
      },
      "outputs": [
        {
          "output_type": "execute_result",
          "data": {
            "text/plain": [
              "int"
            ]
          },
          "metadata": {},
          "execution_count": 3
        }
      ],
      "source": [
        "type(11)"
      ]
    },
    {
      "cell_type": "code",
      "source": [
        "type(21.21)"
      ],
      "metadata": {
        "id": "k0K6EC_HjF58",
        "outputId": "e1bb5e51-3a35-48eb-d6a9-4b5bade5ff81",
        "colab": {
          "base_uri": "https://localhost:8080/"
        }
      },
      "execution_count": null,
      "outputs": [
        {
          "output_type": "execute_result",
          "data": {
            "text/plain": [
              "float"
            ]
          },
          "metadata": {},
          "execution_count": 4
        }
      ]
    },
    {
      "cell_type": "code",
      "source": [
        "type(\"Hello Python\")"
      ],
      "metadata": {
        "id": "By6DLxCYjOHn",
        "outputId": "87b4616b-66a9-4cb0-fa67-eb8faf8bc437",
        "colab": {
          "base_uri": "https://localhost:8080/"
        }
      },
      "execution_count": null,
      "outputs": [
        {
          "output_type": "execute_result",
          "data": {
            "text/plain": [
              "str"
            ]
          },
          "metadata": {},
          "execution_count": 5
        }
      ]
    },
    {
      "cell_type": "markdown",
      "source": [
        "**Type Casting**"
      ],
      "metadata": {
        "id": "86MRJku0jY9q"
      }
    },
    {
      "cell_type": "code",
      "source": [
        "float(2)"
      ],
      "metadata": {
        "id": "vTwIqW88jcpC",
        "outputId": "a6c7ebbb-2c83-49ee-aaa8-091ba05c3683",
        "colab": {
          "base_uri": "https://localhost:8080/"
        }
      },
      "execution_count": null,
      "outputs": [
        {
          "output_type": "execute_result",
          "data": {
            "text/plain": [
              "2.0"
            ]
          },
          "metadata": {},
          "execution_count": 6
        }
      ]
    },
    {
      "cell_type": "code",
      "source": [
        "int(1.1)"
      ],
      "metadata": {
        "id": "91mEQEYcjqBI",
        "outputId": "877903e1-3de5-46bf-a589-713588d87006",
        "colab": {
          "base_uri": "https://localhost:8080/"
        }
      },
      "execution_count": null,
      "outputs": [
        {
          "output_type": "execute_result",
          "data": {
            "text/plain": [
              "1"
            ]
          },
          "metadata": {},
          "execution_count": 8
        }
      ]
    },
    {
      "cell_type": "code",
      "source": [
        "int(\"1\")"
      ],
      "metadata": {
        "id": "RHZT8AdfkA7U",
        "outputId": "dc3ddd86-4928-4389-ce68-02c58c416b6c",
        "colab": {
          "base_uri": "https://localhost:8080/"
        }
      },
      "execution_count": null,
      "outputs": [
        {
          "output_type": "execute_result",
          "data": {
            "text/plain": [
              "1"
            ]
          },
          "metadata": {},
          "execution_count": 9
        }
      ]
    },
    {
      "cell_type": "code",
      "source": [
        " int(\"A\") #Este debe mandar un error"
      ],
      "metadata": {
        "id": "l7gbMLtckEyR",
        "outputId": "7b3865de-72a9-4491-cdac-593b245615eb",
        "colab": {
          "base_uri": "https://localhost:8080/",
          "height": 164
        }
      },
      "execution_count": null,
      "outputs": [
        {
          "output_type": "error",
          "ename": "ValueError",
          "evalue": "ignored",
          "traceback": [
            "\u001b[0;31m---------------------------------------------------------------------------\u001b[0m",
            "\u001b[0;31mValueError\u001b[0m                                Traceback (most recent call last)",
            "\u001b[0;32m<ipython-input-11-51b62aeb0293>\u001b[0m in \u001b[0;36m<module>\u001b[0;34m\u001b[0m\n\u001b[0;32m----> 1\u001b[0;31m \u001b[0mint\u001b[0m\u001b[0;34m(\u001b[0m\u001b[0;34m\"A\"\u001b[0m\u001b[0;34m)\u001b[0m\u001b[0;34m\u001b[0m\u001b[0;34m\u001b[0m\u001b[0m\n\u001b[0m",
            "\u001b[0;31mValueError\u001b[0m: invalid literal for int() with base 10: 'A'"
          ]
        }
      ]
    },
    {
      "cell_type": "code",
      "source": [
        "str(1)"
      ],
      "metadata": {
        "id": "rjnR4dCVkJIp",
        "outputId": "39d0af1a-17b7-4946-fd9e-8c155647927d",
        "colab": {
          "base_uri": "https://localhost:8080/",
          "height": 37
        }
      },
      "execution_count": null,
      "outputs": [
        {
          "output_type": "execute_result",
          "data": {
            "text/plain": [
              "'1'"
            ],
            "application/vnd.google.colaboratory.intrinsic+json": {
              "type": "string"
            }
          },
          "metadata": {},
          "execution_count": 12
        }
      ]
    },
    {
      "cell_type": "code",
      "source": [
        "str(4.5)"
      ],
      "metadata": {
        "id": "A0ZQ9yIEkTIQ",
        "outputId": "25bea8f3-61a1-4820-92d6-f428489ad739",
        "colab": {
          "base_uri": "https://localhost:8080/",
          "height": 37
        }
      },
      "execution_count": null,
      "outputs": [
        {
          "output_type": "execute_result",
          "data": {
            "text/plain": [
              "'4.5'"
            ],
            "application/vnd.google.colaboratory.intrinsic+json": {
              "type": "string"
            }
          },
          "metadata": {},
          "execution_count": 13
        }
      ]
    },
    {
      "cell_type": "code",
      "source": [
        "type(True)"
      ],
      "metadata": {
        "id": "I6nnlnJHkYIm",
        "outputId": "b4591c9a-1297-489f-cf24-d7b0849f6da2",
        "colab": {
          "base_uri": "https://localhost:8080/"
        }
      },
      "execution_count": null,
      "outputs": [
        {
          "output_type": "execute_result",
          "data": {
            "text/plain": [
              "bool"
            ]
          },
          "metadata": {},
          "execution_count": 14
        }
      ]
    },
    {
      "cell_type": "code",
      "source": [
        " bool(1)\n",
        " "
      ],
      "metadata": {
        "id": "Hr4Xu0-ckffP",
        "outputId": "57067f11-548a-4b5a-93e5-e371e8ac7c5a",
        "colab": {
          "base_uri": "https://localhost:8080/"
        }
      },
      "execution_count": null,
      "outputs": [
        {
          "output_type": "execute_result",
          "data": {
            "text/plain": [
              "True"
            ]
          },
          "metadata": {},
          "execution_count": 16
        }
      ]
    },
    {
      "cell_type": "code",
      "source": [
        "bool(0)"
      ],
      "metadata": {
        "id": "DunD_pz2kred",
        "outputId": "80ae8fae-5819-4535-bedb-8aa7001be468",
        "colab": {
          "base_uri": "https://localhost:8080/"
        }
      },
      "execution_count": 2,
      "outputs": [
        {
          "output_type": "execute_result",
          "data": {
            "text/plain": [
              "False"
            ]
          },
          "metadata": {},
          "execution_count": 2
        }
      ]
    },
    {
      "cell_type": "markdown",
      "source": [
        "**Operaciones Matematicas**\n",
        "\n",
        "El orden estándar es el siguiente:\n",
        "Paréntesis.\n",
        "\n",
        "*   Parentesis\n",
        "*   Exponentes\n",
        "*   Multiplicación y División\n",
        "*   Suma y Resta"
      ],
      "metadata": {
        "id": "te7w1GaSiDFI"
      }
    },
    {
      "cell_type": "code",
      "source": [
        "#Suma\n",
        "43 + 60 + 16 + 41"
      ],
      "metadata": {
        "colab": {
          "base_uri": "https://localhost:8080/"
        },
        "id": "NNjWHJzYlDRk",
        "outputId": "786db1df-3574-4081-df56-a52ef97ce2eb"
      },
      "execution_count": 3,
      "outputs": [
        {
          "output_type": "execute_result",
          "data": {
            "text/plain": [
              "160"
            ]
          },
          "metadata": {},
          "execution_count": 3
        }
      ]
    },
    {
      "cell_type": "code",
      "source": [
        "#Resta\n",
        "50 - 60"
      ],
      "metadata": {
        "colab": {
          "base_uri": "https://localhost:8080/"
        },
        "id": "lQ2GOktSlI_H",
        "outputId": "3ff7fc5c-1c40-4c0e-e7ac-46d462f2ac3d"
      },
      "execution_count": 4,
      "outputs": [
        {
          "output_type": "execute_result",
          "data": {
            "text/plain": [
              "-10"
            ]
          },
          "metadata": {},
          "execution_count": 4
        }
      ]
    },
    {
      "cell_type": "code",
      "source": [
        "#Multiplicacion\n",
        "5*5"
      ],
      "metadata": {
        "colab": {
          "base_uri": "https://localhost:8080/"
        },
        "id": "P_kksPrzlNdC",
        "outputId": "1486d395-118c-4c85-894b-e5ba71b803c7"
      },
      "execution_count": 5,
      "outputs": [
        {
          "output_type": "execute_result",
          "data": {
            "text/plain": [
              "25"
            ]
          },
          "metadata": {},
          "execution_count": 5
        }
      ]
    },
    {
      "cell_type": "code",
      "source": [
        "#Division\n",
        "25/5"
      ],
      "metadata": {
        "colab": {
          "base_uri": "https://localhost:8080/"
        },
        "id": "_U68yoHSlR0V",
        "outputId": "88e5a899-add9-434f-cd79-a72a9a336481"
      },
      "execution_count": 6,
      "outputs": [
        {
          "output_type": "execute_result",
          "data": {
            "text/plain": [
              "5.0"
            ]
          },
          "metadata": {},
          "execution_count": 6
        }
      ]
    },
    {
      "cell_type": "code",
      "source": [
        "#Division decimal\n",
        "25/6"
      ],
      "metadata": {
        "colab": {
          "base_uri": "https://localhost:8080/"
        },
        "id": "mWZNYQN2lXUp",
        "outputId": "ede71cee-c13b-408f-cde4-835d118a343e"
      },
      "execution_count": 7,
      "outputs": [
        {
          "output_type": "execute_result",
          "data": {
            "text/plain": [
              "4.166666666666667"
            ]
          },
          "metadata": {},
          "execution_count": 7
        }
      ]
    },
    {
      "cell_type": "code",
      "source": [
        "#División redondeada\n",
        "25//6"
      ],
      "metadata": {
        "colab": {
          "base_uri": "https://localhost:8080/"
        },
        "id": "piqHSgYclecX",
        "outputId": "9214ce41-ef61-4aab-9e80-f20b53ae50e6"
      },
      "execution_count": 8,
      "outputs": [
        {
          "output_type": "execute_result",
          "data": {
            "text/plain": [
              "4"
            ]
          },
          "metadata": {},
          "execution_count": 8
        }
      ]
    },
    {
      "cell_type": "code",
      "source": [
        "#Orden de operaciónes\n",
        "2 * 60 + 30"
      ],
      "metadata": {
        "colab": {
          "base_uri": "https://localhost:8080/"
        },
        "id": "jOtWmTApl2O6",
        "outputId": "0b6fc5fd-aaaa-4ceb-80e2-87a9c7c3c097"
      },
      "execution_count": 9,
      "outputs": [
        {
          "output_type": "execute_result",
          "data": {
            "text/plain": [
              "150"
            ]
          },
          "metadata": {},
          "execution_count": 9
        }
      ]
    },
    {
      "cell_type": "code",
      "source": [
        "#Orden de operaciónes, primero se ejecuta la multiplicación, siempre sin importar el orden y despues la suma en este caso\n",
        "30 + 2 * 60"
      ],
      "metadata": {
        "colab": {
          "base_uri": "https://localhost:8080/"
        },
        "id": "aY58taAYmPc9",
        "outputId": "d692705f-d31e-47ce-8c8f-c09ab3277b89"
      },
      "execution_count": 11,
      "outputs": [
        {
          "output_type": "execute_result",
          "data": {
            "text/plain": [
              "150"
            ]
          },
          "metadata": {},
          "execution_count": 11
        }
      ]
    },
    {
      "cell_type": "code",
      "source": [
        "#Los parentesis se ejecutan primero que todas las demas operaciones\n",
        "(30 + 2) * 60"
      ],
      "metadata": {
        "colab": {
          "base_uri": "https://localhost:8080/"
        },
        "id": "_BQYqnXamS_n",
        "outputId": "8f4ce846-29f7-483f-bf0a-bc1babfa4980"
      },
      "execution_count": 12,
      "outputs": [
        {
          "output_type": "execute_result",
          "data": {
            "text/plain": [
              "1920"
            ]
          },
          "metadata": {},
          "execution_count": 12
        }
      ]
    },
    {
      "cell_type": "markdown",
      "source": [
        "**Variables**\n",
        "\n",
        "Una variable nos sirve para guardar una cierta información."
      ],
      "metadata": {
        "id": "C5lsde6Ir-by"
      }
    },
    {
      "cell_type": "code",
      "source": [
        "x = 43 + 60 + 16 + 41\n",
        "x"
      ],
      "metadata": {
        "colab": {
          "base_uri": "https://localhost:8080/"
        },
        "id": "vhM15s43sB_c",
        "outputId": "8299d10a-08fa-4f6d-b0da-3156de2ab1e5"
      },
      "execution_count": 15,
      "outputs": [
        {
          "output_type": "execute_result",
          "data": {
            "text/plain": [
              "160"
            ]
          },
          "metadata": {},
          "execution_count": 15
        }
      ]
    },
    {
      "cell_type": "code",
      "source": [
        "y = x / 60\n",
        "y"
      ],
      "metadata": {
        "colab": {
          "base_uri": "https://localhost:8080/"
        },
        "id": "2Dy8oVZBtBuo",
        "outputId": "b014ba6a-4bd1-4dea-f307-00b575c0f4d6"
      },
      "execution_count": 16,
      "outputs": [
        {
          "output_type": "execute_result",
          "data": {
            "text/plain": [
              "2.6666666666666665"
            ]
          },
          "metadata": {},
          "execution_count": 16
        }
      ]
    },
    {
      "cell_type": "code",
      "source": [
        "x = x / 60\n",
        "x"
      ],
      "metadata": {
        "colab": {
          "base_uri": "https://localhost:8080/"
        },
        "id": "Ie06HZ8ytG6x",
        "outputId": "d10e620c-d7a7-4e79-92ba-b4c1c4d336e4"
      },
      "execution_count": 18,
      "outputs": [
        {
          "output_type": "execute_result",
          "data": {
            "text/plain": [
              "0.04444444444444444"
            ]
          },
          "metadata": {},
          "execution_count": 18
        }
      ]
    },
    {
      "cell_type": "code",
      "source": [
        "Total_min = 43 + 42 + 57\n",
        "Total_min"
      ],
      "metadata": {
        "colab": {
          "base_uri": "https://localhost:8080/"
        },
        "id": "W7-IFykutJke",
        "outputId": "bb1b4a07-4ba3-4b96-aa05-8608937fb99c"
      },
      "execution_count": 19,
      "outputs": [
        {
          "output_type": "execute_result",
          "data": {
            "text/plain": [
              "142"
            ]
          },
          "metadata": {},
          "execution_count": 19
        }
      ]
    },
    {
      "cell_type": "code",
      "source": [
        "Total_hrs = Total_min / 60\n",
        "Total_hrs"
      ],
      "metadata": {
        "colab": {
          "base_uri": "https://localhost:8080/"
        },
        "id": "s0qQX-zUtVcv",
        "outputId": "b68912c1-a6fc-40c6-a722-7ff8b920d2d9"
      },
      "execution_count": 21,
      "outputs": [
        {
          "output_type": "execute_result",
          "data": {
            "text/plain": [
              "2.3666666666666667"
            ]
          },
          "metadata": {},
          "execution_count": 21
        }
      ]
    },
    {
      "cell_type": "markdown",
      "source": [
        "**String Operations**"
      ],
      "metadata": {
        "id": "GIFJtTLgtzAK"
      }
    },
    {
      "cell_type": "code",
      "execution_count": 23,
      "metadata": {
        "id": "KCtI4riIgrN1"
      },
      "outputs": [],
      "source": [
        "name = \"Michael Jackson \""
      ]
    },
    {
      "cell_type": "markdown",
      "source": [
        "Sacamos las letras de la cadena, las que van del 0 al 4"
      ],
      "metadata": {
        "id": "i6WkNAUhjuxV"
      }
    },
    {
      "cell_type": "code",
      "source": [
        "name[0:4]"
      ],
      "metadata": {
        "id": "QJjc5y-siRXb",
        "outputId": "f827223c-ba25-49a6-9544-b5e6adfcd0e2",
        "colab": {
          "base_uri": "https://localhost:8080/",
          "height": 37
        }
      },
      "execution_count": null,
      "outputs": [
        {
          "output_type": "execute_result",
          "data": {
            "text/plain": [
              "'Mich'"
            ],
            "application/vnd.google.colaboratory.intrinsic+json": {
              "type": "string"
            }
          },
          "metadata": {},
          "execution_count": 6
        }
      ]
    },
    {
      "cell_type": "markdown",
      "source": [
        "Slicing: Se le llama a cuando sacas mas de un dato. Sacamos las letras que van del 8 al 12."
      ],
      "metadata": {
        "id": "JN1t3CEyj6sk"
      }
    },
    {
      "cell_type": "code",
      "source": [
        "name[8:12]"
      ],
      "metadata": {
        "id": "QOxvu93yi1dN",
        "outputId": "904ef439-caf3-473b-97ec-0518e177e889",
        "colab": {
          "base_uri": "https://localhost:8080/",
          "height": 37
        }
      },
      "execution_count": null,
      "outputs": [
        {
          "output_type": "execute_result",
          "data": {
            "text/plain": [
              "'Jack'"
            ],
            "application/vnd.google.colaboratory.intrinsic+json": {
              "type": "string"
            }
          },
          "metadata": {},
          "execution_count": 8
        }
      ]
    },
    {
      "cell_type": "markdown",
      "source": [
        "Stride: Es cuando sacamos las letras cada dos posiciones, uno si uno no"
      ],
      "metadata": {
        "id": "dJky2RB2qB8F"
      }
    },
    {
      "cell_type": "code",
      "source": [
        "name[::2]"
      ],
      "metadata": {
        "id": "mzFp4i4AqLGa",
        "outputId": "e929bcf0-f1b6-4fc1-fe6f-2e823f7de0df",
        "colab": {
          "base_uri": "https://localhost:8080/",
          "height": 37
        }
      },
      "execution_count": null,
      "outputs": [
        {
          "output_type": "execute_result",
          "data": {
            "text/plain": [
              "'McalJcsn'"
            ],
            "application/vnd.google.colaboratory.intrinsic+json": {
              "type": "string"
            }
          },
          "metadata": {},
          "execution_count": 9
        }
      ]
    },
    {
      "cell_type": "markdown",
      "source": [
        "Slicing & Stride: También podemos sacar cada dos valores hasta cierta posicion de la cadena en este caso hasta el cuatro."
      ],
      "metadata": {
        "id": "qgRv-tznu_0y"
      }
    },
    {
      "cell_type": "code",
      "source": [
        "name[0:5:2]"
      ],
      "metadata": {
        "colab": {
          "base_uri": "https://localhost:8080/",
          "height": 37
        },
        "id": "zTuUAM0qu_LU",
        "outputId": "2aa2994f-dfc6-48a0-98aa-001e46eceb6d"
      },
      "execution_count": 24,
      "outputs": [
        {
          "output_type": "execute_result",
          "data": {
            "text/plain": [
              "'Mca'"
            ],
            "application/vnd.google.colaboratory.intrinsic+json": {
              "type": "string"
            }
          },
          "metadata": {},
          "execution_count": 24
        }
      ]
    },
    {
      "cell_type": "markdown",
      "source": [
        "Sacamos el total de caracteres que tiene la cadena"
      ],
      "metadata": {
        "id": "pr_beffUqalI"
      }
    },
    {
      "cell_type": "code",
      "source": [
        "len(\"Michael Jackson \")"
      ],
      "metadata": {
        "id": "GqgE6jYAqVcg",
        "outputId": "72fcbcc2-7152-48ce-ce7f-f098f82acf83",
        "colab": {
          "base_uri": "https://localhost:8080/"
        }
      },
      "execution_count": null,
      "outputs": [
        {
          "output_type": "execute_result",
          "data": {
            "text/plain": [
              "16"
            ]
          },
          "metadata": {},
          "execution_count": 22
        }
      ]
    },
    {
      "cell_type": "markdown",
      "source": [
        "Agregamos o concatenamos cadenas de texto"
      ],
      "metadata": {
        "id": "AY_78R1XtvKY"
      }
    },
    {
      "cell_type": "code",
      "source": [
        "statement = name + \" is the best\""
      ],
      "metadata": {
        "id": "YDvwG8Y8qmU0"
      },
      "execution_count": null,
      "outputs": []
    },
    {
      "cell_type": "code",
      "source": [
        "print(statement)"
      ],
      "metadata": {
        "id": "ZREF6xcRsAn6",
        "outputId": "f364544b-f463-416b-941c-fdcb3cfa466d",
        "colab": {
          "base_uri": "https://localhost:8080/"
        }
      },
      "execution_count": null,
      "outputs": [
        {
          "output_type": "stream",
          "name": "stdout",
          "text": [
            "Michael Jackson is the best\n"
          ]
        }
      ]
    },
    {
      "cell_type": "markdown",
      "source": [
        "**Tuples:** Se pueden multiplicar las cadenas de texto por # número de veces."
      ],
      "metadata": {
        "id": "pWPleKK3sXvM"
      }
    },
    {
      "cell_type": "code",
      "source": [
        "print(name * 3)"
      ],
      "metadata": {
        "id": "xrHyCQMMsEMQ",
        "outputId": "c87fe5fc-46df-47a6-e1e1-0cfb0e7650f7",
        "colab": {
          "base_uri": "https://localhost:8080/"
        }
      },
      "execution_count": null,
      "outputs": [
        {
          "output_type": "stream",
          "name": "stdout",
          "text": [
            "Michael Jackson Michael Jackson Michael Jackson \n"
          ]
        }
      ]
    },
    {
      "cell_type": "code",
      "source": [
        "\"Carlos Daniel \" * 2"
      ],
      "metadata": {
        "id": "vEKpP3K1sseT",
        "outputId": "1b3d2d19-dfd4-4a20-bbe3-bd632caedc15",
        "colab": {
          "base_uri": "https://localhost:8080/",
          "height": 37
        }
      },
      "execution_count": null,
      "outputs": [
        {
          "output_type": "execute_result",
          "data": {
            "text/plain": [
              "'Carlos Daniel Carlos Daniel '"
            ],
            "application/vnd.google.colaboratory.intrinsic+json": {
              "type": "string"
            }
          },
          "metadata": {},
          "execution_count": 28
        }
      ]
    },
    {
      "cell_type": "markdown",
      "source": [
        "Salto de linea dentro de una cadena"
      ],
      "metadata": {
        "id": "781R3riBuAI2"
      }
    },
    {
      "cell_type": "code",
      "source": [
        "print(\"Michael Jackson \\n is the best\")"
      ],
      "metadata": {
        "id": "lHetvXQFuI1O",
        "outputId": "5b829430-7c8d-4049-fd03-1d444c50fdd1",
        "colab": {
          "base_uri": "https://localhost:8080/"
        }
      },
      "execution_count": null,
      "outputs": [
        {
          "output_type": "stream",
          "name": "stdout",
          "text": [
            "Michael Jackson \n",
            " is the best\n"
          ]
        }
      ]
    },
    {
      "cell_type": "markdown",
      "source": [
        "Insertar una tabulación en una cadena"
      ],
      "metadata": {
        "id": "GVtYVqhTubvN"
      }
    },
    {
      "cell_type": "code",
      "source": [
        "print(\"Michael Jackson \\t is the best\")"
      ],
      "metadata": {
        "id": "VJdMmWLDumRP",
        "outputId": "ce59bc5b-64b2-4d7c-c8b2-2d58f1eb17be",
        "colab": {
          "base_uri": "https://localhost:8080/"
        }
      },
      "execution_count": null,
      "outputs": [
        {
          "output_type": "stream",
          "name": "stdout",
          "text": [
            "Michael Jackson \t is the best\n"
          ]
        }
      ]
    },
    {
      "cell_type": "markdown",
      "source": [
        "Agregar una slide dentro de una cadena"
      ],
      "metadata": {
        "id": "MMu_6FaiuyTs"
      }
    },
    {
      "cell_type": "code",
      "source": [
        "print(\"Michael Jackson \\\\ is the best\")"
      ],
      "metadata": {
        "id": "d0i3Z3y6u70o",
        "outputId": "c1dd6e5e-9400-4818-e380-2f38ff4a6c65",
        "colab": {
          "base_uri": "https://localhost:8080/"
        }
      },
      "execution_count": null,
      "outputs": [
        {
          "output_type": "stream",
          "name": "stdout",
          "text": [
            "Michael Jackson \\ is the best\n"
          ]
        }
      ]
    },
    {
      "cell_type": "code",
      "source": [
        "print(r\"Michael Jackson \\ is the best\") #También se puede agregando una r al principio de la cadena"
      ],
      "metadata": {
        "id": "enySbiUavJEp",
        "outputId": "de81e2e2-65c6-4d20-e47a-06b7eb9555b2",
        "colab": {
          "base_uri": "https://localhost:8080/"
        }
      },
      "execution_count": null,
      "outputs": [
        {
          "output_type": "stream",
          "name": "stdout",
          "text": [
            "Michael Jackson \\ is the best\n"
          ]
        }
      ]
    },
    {
      "cell_type": "markdown",
      "source": [
        "UPPER & LOWER Case: Convertir a Mayusculas y Minusculas una cadena"
      ],
      "metadata": {
        "id": "la_aekTOvtTA"
      }
    },
    {
      "cell_type": "code",
      "source": [
        "A = \"Thriller is the sixth studio album\""
      ],
      "metadata": {
        "id": "rfnMCjk5wA04"
      },
      "execution_count": 25,
      "outputs": []
    },
    {
      "cell_type": "code",
      "source": [
        "B = A.upper()\n",
        "print(B)"
      ],
      "metadata": {
        "id": "oqfuOj5zwM0w",
        "outputId": "eaf83bcd-0a6d-454f-9c6a-ca9c979a6d2b",
        "colab": {
          "base_uri": "https://localhost:8080/"
        }
      },
      "execution_count": 26,
      "outputs": [
        {
          "output_type": "stream",
          "name": "stdout",
          "text": [
            "THRILLER IS THE SIXTH STUDIO ALBUM\n"
          ]
        }
      ]
    },
    {
      "cell_type": "markdown",
      "source": [
        "Method. Remplazar una sección de la cadena por alguna otra"
      ],
      "metadata": {
        "id": "q5KP_Y_iwsiF"
      }
    },
    {
      "cell_type": "code",
      "source": [
        "A = \"Michael Jackson is the best\"\n",
        "B = A.replace(\"Michael\", \"Janet\")\n",
        "print(B)"
      ],
      "metadata": {
        "id": "s7nSoTtgwxXg",
        "outputId": "f0c5d2ec-e999-4abe-9505-38d2070feca7",
        "colab": {
          "base_uri": "https://localhost:8080/"
        }
      },
      "execution_count": null,
      "outputs": [
        {
          "output_type": "stream",
          "name": "stdout",
          "text": [
            "Janet Jackson is the best\n"
          ]
        }
      ]
    },
    {
      "cell_type": "markdown",
      "source": [
        "String. Stride. Este metodo te ayuda a buscar una cadena dentro de otra y te regresa la posicion donde la encontró (la posición del primer caracter)"
      ],
      "metadata": {
        "id": "yoHL0iHhyFnh"
      }
    },
    {
      "cell_type": "code",
      "source": [
        "name.find(\"Daniel\") #Si la cadena no se encuentra dentro de la otra cadena, entonces nos arrojará un valor negativo -1"
      ],
      "metadata": {
        "id": "tR3DRi27yOWy",
        "outputId": "5eb751b9-ae31-455b-fb97-9fe7afedc8c4",
        "colab": {
          "base_uri": "https://localhost:8080/"
        }
      },
      "execution_count": null,
      "outputs": [
        {
          "output_type": "execute_result",
          "data": {
            "text/plain": [
              "-1"
            ]
          },
          "metadata": {},
          "execution_count": 48
        }
      ]
    },
    {
      "cell_type": "markdown",
      "source": [
        "Question 1"
      ],
      "metadata": {
        "id": "6PqOaYYUzLO0"
      }
    },
    {
      "cell_type": "code",
      "source": [
        "Numbers = \"0123456\"\n",
        "Numbers[::2]"
      ],
      "metadata": {
        "id": "EQ81jdrdzPEM",
        "outputId": "2ad0ec97-629a-4553-a176-c40dec23e1c9",
        "colab": {
          "base_uri": "https://localhost:8080/",
          "height": 37
        }
      },
      "execution_count": null,
      "outputs": [
        {
          "output_type": "execute_result",
          "data": {
            "text/plain": [
              "'0246'"
            ],
            "application/vnd.google.colaboratory.intrinsic+json": {
              "type": "string"
            }
          },
          "metadata": {},
          "execution_count": 50
        }
      ]
    },
    {
      "cell_type": "code",
      "source": [
        "\"0123456\".find('1')"
      ],
      "metadata": {
        "id": "oNPqsBUwzeU5",
        "outputId": "0c124480-212f-4575-cb50-8eca63d11fd9",
        "colab": {
          "base_uri": "https://localhost:8080/"
        }
      },
      "execution_count": null,
      "outputs": [
        {
          "output_type": "execute_result",
          "data": {
            "text/plain": [
              "1"
            ]
          },
          "metadata": {},
          "execution_count": 52
        }
      ]
    },
    {
      "cell_type": "code",
      "source": [
        "3 + 2 * 2"
      ],
      "metadata": {
        "id": "zxF2JwlM0IHA",
        "outputId": "eb9343a0-b239-4da0-a2e2-807c07395c30",
        "colab": {
          "base_uri": "https://localhost:8080/"
        }
      },
      "execution_count": null,
      "outputs": [
        {
          "output_type": "execute_result",
          "data": {
            "text/plain": [
              "7"
            ]
          },
          "metadata": {},
          "execution_count": 55
        }
      ]
    },
    {
      "cell_type": "code",
      "source": [
        "name = 'Lizz'\n",
        "print(name[0:2]) #Imprime solo Li porque el 2 no cuenta, entonces sería 0, 1 solamente"
      ],
      "metadata": {
        "id": "S1If6lJl0Ra4",
        "outputId": "6e6a8942-22bd-4b4b-d446-95893f602d58",
        "colab": {
          "base_uri": "https://localhost:8080/"
        }
      },
      "execution_count": null,
      "outputs": [
        {
          "output_type": "stream",
          "name": "stdout",
          "text": [
            "Li\n"
          ]
        }
      ]
    },
    {
      "cell_type": "code",
      "source": [
        "var = '01234567'\n",
        "print(var[::2])"
      ],
      "metadata": {
        "id": "QA4v9kl90jPl",
        "outputId": "29d3309a-2984-4908-b058-923f07c8b753",
        "colab": {
          "base_uri": "https://localhost:8080/"
        }
      },
      "execution_count": null,
      "outputs": [
        {
          "output_type": "stream",
          "name": "stdout",
          "text": [
            "0246\n"
          ]
        }
      ]
    },
    {
      "cell_type": "code",
      "source": [
        "'1'+'2'"
      ],
      "metadata": {
        "id": "deMPrzBd0z6L",
        "outputId": "2cab79b9-b30c-4e32-d360-bb6fd2a89176",
        "colab": {
          "base_uri": "https://localhost:8080/",
          "height": 37
        }
      },
      "execution_count": null,
      "outputs": [
        {
          "output_type": "execute_result",
          "data": {
            "text/plain": [
              "'12'"
            ],
            "application/vnd.google.colaboratory.intrinsic+json": {
              "type": "string"
            }
          },
          "metadata": {},
          "execution_count": 64
        }
      ]
    },
    {
      "cell_type": "code",
      "source": [
        "myvar = 'hello'\n",
        "myvar = myvar.upper()\n",
        "print(myvar)"
      ],
      "metadata": {
        "id": "TzCppHz-075Q",
        "outputId": "a39c17e5-2c57-4735-9922-fdb401ed2c1d",
        "colab": {
          "base_uri": "https://localhost:8080/"
        }
      },
      "execution_count": null,
      "outputs": [
        {
          "output_type": "stream",
          "name": "stdout",
          "text": [
            "HELLO\n"
          ]
        }
      ]
    },
    {
      "cell_type": "markdown",
      "source": [
        "# **Module 2 Python Data Structures**"
      ],
      "metadata": {
        "id": "nbOgl89IwpgL"
      }
    },
    {
      "cell_type": "markdown",
      "source": [
        "**LIST & TUPLES**\n",
        "\n",
        "Los Tuples son secuencias ordenadas y se encuentran separadas por commas dentro de un parentesis. Se puede decir que es un tipo de variable en Python y puede almacenar diferentes tipos de datos como lo son string, int & float. Esto es parecido al Cluster que utilizamos en Labview."
      ],
      "metadata": {
        "id": "U9eoIEeiw8E1"
      }
    },
    {
      "cell_type": "markdown",
      "source": [
        "**Tuples**"
      ],
      "metadata": {
        "id": "o_oD93BeyDry"
      }
    },
    {
      "cell_type": "code",
      "source": [
        "Ratings = (10, 9, 6, 5, 10, 8, 9, 6, 2)\n",
        "type(Ratings)"
      ],
      "metadata": {
        "colab": {
          "base_uri": "https://localhost:8080/"
        },
        "id": "i7ISPfab5HXg",
        "outputId": "33e8b901-aff7-4c99-bcbf-80be01288327"
      },
      "execution_count": null,
      "outputs": [
        {
          "output_type": "execute_result",
          "data": {
            "text/plain": [
              "tuple"
            ]
          },
          "metadata": {},
          "execution_count": 2
        }
      ]
    },
    {
      "cell_type": "code",
      "source": [
        "tuple1 = (\"disco\", 10, 1.2)\n",
        "print(tuple1)"
      ],
      "metadata": {
        "colab": {
          "base_uri": "https://localhost:8080/"
        },
        "id": "LfS0dQFE781x",
        "outputId": "ef20e394-c0c8-4143-812b-38763dd7d1ad"
      },
      "execution_count": null,
      "outputs": [
        {
          "output_type": "stream",
          "name": "stdout",
          "text": [
            "('disco', 10, 1.2)\n"
          ]
        }
      ]
    },
    {
      "cell_type": "code",
      "source": [
        "type(tuple1)"
      ],
      "metadata": {
        "colab": {
          "base_uri": "https://localhost:8080/"
        },
        "id": "c9C-95mK8xwo",
        "outputId": "4042eb12-f25e-4cdf-ce92-c52c31011723"
      },
      "execution_count": null,
      "outputs": [
        {
          "output_type": "execute_result",
          "data": {
            "text/plain": [
              "tuple"
            ]
          },
          "metadata": {},
          "execution_count": 7
        }
      ]
    },
    {
      "cell_type": "markdown",
      "source": [
        "Las variables que contiene el Tuple también pueden ser accesadas o madarlas llamar a través de posiciones, justo como se muestra en el siguiente ejemplo."
      ],
      "metadata": {
        "id": "YGMzClCs9EKE"
      }
    },
    {
      "cell_type": "code",
      "source": [
        "print(tuple1[0]) #Mandamos imprimir la variable que se encuentra en la posición 1 del tuple"
      ],
      "metadata": {
        "colab": {
          "base_uri": "https://localhost:8080/"
        },
        "id": "5IlrW_qr9Mmb",
        "outputId": "0bbc0dbc-0905-4f32-8e75-690fdd7eace7"
      },
      "execution_count": null,
      "outputs": [
        {
          "output_type": "stream",
          "name": "stdout",
          "text": [
            "disco\n"
          ]
        }
      ]
    },
    {
      "cell_type": "code",
      "source": [
        "tuple1[0]: \"disco\" #De esta forma accesamos al elemento \"disco\" que se encuentra dentro del tuple en la posición 0"
      ],
      "metadata": {
        "id": "KqDox77m9TyL"
      },
      "execution_count": null,
      "outputs": []
    },
    {
      "cell_type": "markdown",
      "source": [
        "En Python también podemos utilizar indices negativos, por ejemplo para el tuple1 iniciarian nuestros indices negativos de la siguiente forma: -3, -2, -1"
      ],
      "metadata": {
        "id": "pH0Leska_CIG"
      }
    },
    {
      "cell_type": "code",
      "source": [
        "tuple1[-3] #Aquí estamos mandando llamar el primer valor que se encuentra en el idice 0 de lado de los positivos."
      ],
      "metadata": {
        "colab": {
          "base_uri": "https://localhost:8080/",
          "height": 37
        },
        "id": "zCaKItJ0_Sfh",
        "outputId": "8833eb4b-c2f6-4473-af45-bb075dbf018f"
      },
      "execution_count": null,
      "outputs": [
        {
          "output_type": "execute_result",
          "data": {
            "text/plain": [
              "'disco'"
            ],
            "application/vnd.google.colaboratory.intrinsic+json": {
              "type": "string"
            }
          },
          "metadata": {},
          "execution_count": 19
        }
      ]
    },
    {
      "cell_type": "markdown",
      "source": [
        "Concatenar o conbinar tupples, justo como lo haciamos con los strings cuando los concatenabamos usando un signo mas."
      ],
      "metadata": {
        "id": "bBVWwONe_mOj"
      }
    },
    {
      "cell_type": "code",
      "source": [
        "tuple2 = tuple1 + (\"Hard Rock\", 10)\n",
        "print(tuple2)"
      ],
      "metadata": {
        "colab": {
          "base_uri": "https://localhost:8080/"
        },
        "id": "wIJ18Gpf_68j",
        "outputId": "9702073b-3fdd-4f79-d252-7f615ad8092c"
      },
      "execution_count": null,
      "outputs": [
        {
          "output_type": "stream",
          "name": "stdout",
          "text": [
            "('disco', 10, 1.2, 'Hard Rock', 10)\n"
          ]
        }
      ]
    },
    {
      "cell_type": "markdown",
      "source": [
        "**Slicing tuples:** Justo como en las listas también podemos aplicar slicing a los Tuples."
      ],
      "metadata": {
        "id": "YZwiW3VwARJ9"
      }
    },
    {
      "cell_type": "markdown",
      "source": [
        "Podemos también rebanar, seccionar los tuples justo como lo haciamos con los strings, observe los siguiente ejemplos."
      ],
      "metadata": {
        "id": "e0TAn_3rAZki"
      }
    },
    {
      "cell_type": "code",
      "source": [
        "tuple2[0:3]"
      ],
      "metadata": {
        "colab": {
          "base_uri": "https://localhost:8080/"
        },
        "id": "Z-Zas3vlAYBc",
        "outputId": "6a841af6-4787-4358-833e-395c6f4be386"
      },
      "execution_count": null,
      "outputs": [
        {
          "output_type": "execute_result",
          "data": {
            "text/plain": [
              "('disco', 10, 1.2)"
            ]
          },
          "metadata": {},
          "execution_count": 23
        }
      ]
    },
    {
      "cell_type": "code",
      "source": [
        "tuple2[3:5] #El ultimo indice es mucho mas grande que el total de elementos del tuple dado el hecho que el ultimo no cuenta por ende debemos incrementarlo en uno mas."
      ],
      "metadata": {
        "colab": {
          "base_uri": "https://localhost:8080/"
        },
        "id": "KOhTI7mdA4Nb",
        "outputId": "1d9bd157-27b7-41dd-9d31-222b5c8e4012"
      },
      "execution_count": null,
      "outputs": [
        {
          "output_type": "execute_result",
          "data": {
            "text/plain": [
              "('Hard Rock', 10)"
            ]
          },
          "metadata": {},
          "execution_count": 27
        }
      ]
    },
    {
      "cell_type": "code",
      "source": [
        "len(tuple2) #También podemos utilizar el len command para saber el tamaño del tupple"
      ],
      "metadata": {
        "colab": {
          "base_uri": "https://localhost:8080/"
        },
        "id": "V6Jbxy2aBP5u",
        "outputId": "8c01b9dc-6466-465c-faab-048bf518865a"
      },
      "execution_count": null,
      "outputs": [
        {
          "output_type": "execute_result",
          "data": {
            "text/plain": [
              "5"
            ]
          },
          "metadata": {},
          "execution_count": 29
        }
      ]
    },
    {
      "cell_type": "markdown",
      "source": [
        "**Tuples Immutable:** \n",
        "\n",
        "Los tupples son inmutables por ende no pueden cambiar, observa el siguiente ejemplo. "
      ],
      "metadata": {
        "id": "NR0X4lC1CDd4"
      }
    },
    {
      "cell_type": "code",
      "source": [
        "Ratings = (10, 9, 6, 5, 10, 8, 9, 6, 2)\n",
        "Ratings1 = Ratings #No podemos hacer esto de que dos variables apunten a un solo tupple dado el caso de que los tuples son objetos inmutables "
      ],
      "metadata": {
        "id": "P1U2Lg6gCMyz"
      },
      "execution_count": null,
      "outputs": []
    },
    {
      "cell_type": "code",
      "source": [
        "#Esto si sería correcto ya que estamos teniendo dos tupples diferentes\n",
        "Ratings = (10, 9, 6, 5, 10, 8, 9, 6, 2) #Este sería nuestro tupple 1\n",
        "Rating1 = (10,9,4,5) #Este sería nuestro tupple 2"
      ],
      "metadata": {
        "id": "oLSBSPALCTVv"
      },
      "execution_count": null,
      "outputs": []
    },
    {
      "cell_type": "markdown",
      "source": [
        "Como podemos ordenar un tupple?"
      ],
      "metadata": {
        "id": "eWEWp4GgDtJc"
      }
    },
    {
      "cell_type": "code",
      "source": [
        "RatingsSorted = sorted(Ratings)\n",
        "RatingsSorted"
      ],
      "metadata": {
        "colab": {
          "base_uri": "https://localhost:8080/"
        },
        "id": "wcdjG2ajDf_g",
        "outputId": "f244ada4-e87a-47a3-a600-1ad894d4cdb8"
      },
      "execution_count": null,
      "outputs": [
        {
          "output_type": "execute_result",
          "data": {
            "text/plain": [
              "[2, 5, 6, 6, 8, 9, 9, 10, 10]"
            ]
          },
          "metadata": {},
          "execution_count": 40
        }
      ]
    },
    {
      "cell_type": "markdown",
      "source": [
        "**Tuples Nesting**\n",
        "\n",
        "Tuples dentro de Tuples es posible. Este es un tipo de variable mas compleja a lo que se le conoce como Nesting o anidado"
      ],
      "metadata": {
        "id": "mASFrebeEUpy"
      }
    },
    {
      "cell_type": "code",
      "source": [
        "NT = (1, 2, (\"pop\", \"rock\"), (3, 4), (\"disco\", (1, 2)))\n",
        "NT"
      ],
      "metadata": {
        "colab": {
          "base_uri": "https://localhost:8080/"
        },
        "id": "TtAYSG2aEDUU",
        "outputId": "cb91b29e-fb76-48c8-9141-48604779c6ae"
      },
      "execution_count": null,
      "outputs": [
        {
          "output_type": "execute_result",
          "data": {
            "text/plain": [
              "(1, 2, ('pop', 'rock'), (3, 4), ('disco', (1, 2)))"
            ]
          },
          "metadata": {},
          "execution_count": 43
        }
      ]
    },
    {
      "cell_type": "code",
      "source": [
        "NT[4][1][0] #Los indexados funcionan como un arbol primer vemos los ramales principales y despues los secundarios y terciarios. Entre mas ramas haya hay que poner mas corchetes"
      ],
      "metadata": {
        "colab": {
          "base_uri": "https://localhost:8080/"
        },
        "id": "dNs5DWuJFXs0",
        "outputId": "0db8e87b-3bcc-445b-cc0c-608bbc4269a6"
      },
      "execution_count": null,
      "outputs": [
        {
          "output_type": "execute_result",
          "data": {
            "text/plain": [
              "1"
            ]
          },
          "metadata": {},
          "execution_count": 55
        }
      ]
    },
    {
      "cell_type": "markdown",
      "source": [
        "**Lists**\n",
        "\n",
        "Este tipo de datos también es muy popular en Python. Las listas se encierran entre corchetes no entre parentesis como los tupples o nested datas. A diferencia de los tuples, las listas si son mutables."
      ],
      "metadata": {
        "id": "gOwDIClRGeNo"
      }
    },
    {
      "cell_type": "code",
      "source": [
        " L = [\"Michael Jackson\", 10.1, 1982] #Al parecer en las listas también se pueden guardar diferentes tipos de datos \n",
        "L"
      ],
      "metadata": {
        "colab": {
          "base_uri": "https://localhost:8080/"
        },
        "id": "HzP1QjMSG_nN",
        "outputId": "e075a622-3cf3-4d02-bcc6-92afa5d276a7"
      },
      "execution_count": null,
      "outputs": [
        {
          "output_type": "execute_result",
          "data": {
            "text/plain": [
              "['Michael Jackson', 10.1, 1982]"
            ]
          },
          "metadata": {},
          "execution_count": 57
        }
      ]
    },
    {
      "cell_type": "code",
      "source": [
        "NestList = [\"Michael Jackson\", 10.1, 1982, [1, 2], (\"A\",1)]\n",
        "NestList[3][0]"
      ],
      "metadata": {
        "colab": {
          "base_uri": "https://localhost:8080/"
        },
        "id": "A4VtkV_RHsb3",
        "outputId": "bada9d35-f166-48b7-f820-908964ef3cbe"
      },
      "execution_count": null,
      "outputs": [
        {
          "output_type": "execute_result",
          "data": {
            "text/plain": [
              "1"
            ]
          },
          "metadata": {},
          "execution_count": 66
        }
      ]
    },
    {
      "cell_type": "markdown",
      "source": [
        "Como acceder a un elemento de una lista"
      ],
      "metadata": {
        "id": "c0gcSxK_JN_o"
      }
    },
    {
      "cell_type": "code",
      "source": [
        "L[0]: 'Michael Jackson'"
      ],
      "metadata": {
        "colab": {
          "base_uri": "https://localhost:8080/"
        },
        "id": "3APTBFpYJNWh",
        "outputId": "ad276234-f6ad-45cc-92bb-233401ee346d"
      },
      "execution_count": null,
      "outputs": [
        {
          "output_type": "stream",
          "name": "stdout",
          "text": [
            "10.1\n"
          ]
        }
      ]
    },
    {
      "cell_type": "markdown",
      "source": [
        "También podemos utilizar indices negativos, como lo veniamos haciendo con los tupples. "
      ],
      "metadata": {
        "id": "3sBGV3qZKFTz"
      }
    },
    {
      "cell_type": "code",
      "source": [
        "L[-3]"
      ],
      "metadata": {
        "colab": {
          "base_uri": "https://localhost:8080/",
          "height": 37
        },
        "id": "ECsmGBzsKD3C",
        "outputId": "6af9a147-4857-4ee5-a064-e5a68db60718"
      },
      "execution_count": null,
      "outputs": [
        {
          "output_type": "execute_result",
          "data": {
            "text/plain": [
              "'Michael Jackson'"
            ],
            "application/vnd.google.colaboratory.intrinsic+json": {
              "type": "string"
            }
          },
          "metadata": {},
          "execution_count": 75
        }
      ]
    },
    {
      "cell_type": "code",
      "source": [
        "L[-2]"
      ],
      "metadata": {
        "colab": {
          "base_uri": "https://localhost:8080/"
        },
        "id": "9eX_JcRvKdPt",
        "outputId": "2307d288-f370-441f-823c-ee7d3d5d2041"
      },
      "execution_count": null,
      "outputs": [
        {
          "output_type": "execute_result",
          "data": {
            "text/plain": [
              "10.1"
            ]
          },
          "metadata": {},
          "execution_count": 76
        }
      ]
    },
    {
      "cell_type": "markdown",
      "source": [
        "**Lists Slicing**\n",
        "\n",
        "También podemos aplicar slicing en las listas. Si es que queremos mas de un solo valor. Vesase el ejemplo debajo."
      ],
      "metadata": {
        "id": "FaihK8DXKl0O"
      }
    },
    {
      "cell_type": "code",
      "source": [
        "L[0:3]"
      ],
      "metadata": {
        "colab": {
          "base_uri": "https://localhost:8080/"
        },
        "id": "PzxQdWuMKr4i",
        "outputId": "ccdbe9bd-d2dd-4f6e-c714-f21f167e9908"
      },
      "execution_count": null,
      "outputs": [
        {
          "output_type": "execute_result",
          "data": {
            "text/plain": [
              "['Michael Jackson', 10.1, 1982]"
            ]
          },
          "metadata": {},
          "execution_count": 79
        }
      ]
    },
    {
      "cell_type": "markdown",
      "source": [
        "También podemos concatenar las listas, justo como lo hacíamos con los tuples"
      ],
      "metadata": {
        "id": "iZ7hCpwHLJyc"
      }
    },
    {
      "cell_type": "code",
      "source": [
        "L1 = L + [\"pop\", 10]\n",
        "L1"
      ],
      "metadata": {
        "colab": {
          "base_uri": "https://localhost:8080/"
        },
        "id": "MYoC0X0hLPKJ",
        "outputId": "40c29cdb-6fe7-4cbc-fae1-7c1df84e0324"
      },
      "execution_count": null,
      "outputs": [
        {
          "output_type": "execute_result",
          "data": {
            "text/plain": [
              "['Michael Jackson', 10.1, 1982, 'pop', 10]"
            ]
          },
          "metadata": {},
          "execution_count": 80
        }
      ]
    },
    {
      "cell_type": "markdown",
      "source": [
        "Las listas si son mutables por ende si podemos cambiarlas. En el sig ejemplo vamos agregar mas elementos a una lista en vez de crear una nueva."
      ],
      "metadata": {
        "id": "soXX-tEtLn7v"
      }
    },
    {
      "cell_type": "code",
      "source": [
        "L.extend([\"rock\", 100])\n",
        "L"
      ],
      "metadata": {
        "colab": {
          "base_uri": "https://localhost:8080/"
        },
        "id": "0NcptJn6LwJ9",
        "outputId": "96cc6f72-74c7-4839-ce76-688c619c18b6"
      },
      "execution_count": null,
      "outputs": [
        {
          "output_type": "execute_result",
          "data": {
            "text/plain": [
              "['Michael Jackson',\n",
              " 10.1,\n",
              " 1982,\n",
              " 'pop',\n",
              " 10,\n",
              " 'pop',\n",
              " 10,\n",
              " 'rock',\n",
              " 100,\n",
              " ['Regeton', 20],\n",
              " 'rock',\n",
              " 100]"
            ]
          },
          "metadata": {},
          "execution_count": 86
        }
      ]
    },
    {
      "cell_type": "code",
      "source": [
        "L.append([\"Regeton\", 20])\n",
        "L"
      ],
      "metadata": {
        "colab": {
          "base_uri": "https://localhost:8080/"
        },
        "id": "X-a6JTUgL5YR",
        "outputId": "b2e546ee-cd6c-480b-9039-f4056a164c1a"
      },
      "execution_count": null,
      "outputs": [
        {
          "output_type": "execute_result",
          "data": {
            "text/plain": [
              "['Michael Jackson',\n",
              " 10.1,\n",
              " 1982,\n",
              " 'pop',\n",
              " 10,\n",
              " 'pop',\n",
              " 10,\n",
              " 'rock',\n",
              " 100,\n",
              " ['Regeton', 20]]"
            ]
          },
          "metadata": {},
          "execution_count": 85
        }
      ]
    },
    {
      "cell_type": "markdown",
      "source": [
        "Remplazar un elemento de una lista\n"
      ],
      "metadata": {
        "id": "mziiaNaBN_8L"
      }
    },
    {
      "cell_type": "code",
      "source": [
        "A = [\"Disco\", 10, 1.2]"
      ],
      "metadata": {
        "id": "ef7vOYkdOCCw"
      },
      "execution_count": null,
      "outputs": []
    },
    {
      "cell_type": "code",
      "source": [
        "A[0]"
      ],
      "metadata": {
        "colab": {
          "base_uri": "https://localhost:8080/",
          "height": 37
        },
        "id": "yZ9XwegEON2u",
        "outputId": "0e387577-dc6d-4116-f062-e6a242ced805"
      },
      "execution_count": null,
      "outputs": [
        {
          "output_type": "execute_result",
          "data": {
            "text/plain": [
              "'Disco'"
            ],
            "application/vnd.google.colaboratory.intrinsic+json": {
              "type": "string"
            }
          },
          "metadata": {},
          "execution_count": 100
        }
      ]
    },
    {
      "cell_type": "code",
      "source": [
        "A[0] = \"Hard Rock\"\n",
        "A"
      ],
      "metadata": {
        "colab": {
          "base_uri": "https://localhost:8080/"
        },
        "id": "_WNyQ5FnOR3j",
        "outputId": "dc8be7da-d918-43be-ab59-7c896b6beb19"
      },
      "execution_count": null,
      "outputs": [
        {
          "output_type": "execute_result",
          "data": {
            "text/plain": [
              "['Hard Rock', 10, 1.2]"
            ]
          },
          "metadata": {},
          "execution_count": 101
        }
      ]
    },
    {
      "cell_type": "markdown",
      "source": [
        "Eliminar un elemento de una lista."
      ],
      "metadata": {
        "id": "y-bcA-_FOgLM"
      }
    },
    {
      "cell_type": "code",
      "source": [
        "del(A[0])\n",
        "A"
      ],
      "metadata": {
        "colab": {
          "base_uri": "https://localhost:8080/"
        },
        "id": "zSg4AqzsOdHn",
        "outputId": "8710a216-7aa3-4dda-bff1-be6df443292d"
      },
      "execution_count": null,
      "outputs": [
        {
          "output_type": "execute_result",
          "data": {
            "text/plain": [
              "[1.2]"
            ]
          },
          "metadata": {},
          "execution_count": 103
        }
      ]
    },
    {
      "cell_type": "markdown",
      "source": [
        "**Convertir un string a una lista.**\n",
        "\n",
        "A través del uso del metodo .split() podemos convertir una cadena en una lista."
      ],
      "metadata": {
        "id": "XHzjf5hwPCPY"
      }
    },
    {
      "cell_type": "code",
      "source": [
        "\"Hard Rock\".split()\n"
      ],
      "metadata": {
        "colab": {
          "base_uri": "https://localhost:8080/"
        },
        "id": "AXx6pzljPBbM",
        "outputId": "799c91b8-9516-4712-b61c-ddf531f0cf48"
      },
      "execution_count": null,
      "outputs": [
        {
          "output_type": "execute_result",
          "data": {
            "text/plain": [
              "['Hard', 'Rock']"
            ]
          },
          "metadata": {},
          "execution_count": 107
        }
      ]
    },
    {
      "cell_type": "markdown",
      "source": [
        "Usar la funcíon split para covertir un string a una lista, usando una delimitación por una comma para este ejemplo. (separar caracteres delimitados por algo, example una comma.)"
      ],
      "metadata": {
        "id": "YcU4MnrcPiJS"
      }
    },
    {
      "cell_type": "code",
      "source": [
        "\"A, B, C, D\".split(\",\")"
      ],
      "metadata": {
        "colab": {
          "base_uri": "https://localhost:8080/"
        },
        "id": "l1E6KJ5OPhJu",
        "outputId": "50d27f66-f8e8-41fb-a995-023309a83d94"
      },
      "execution_count": null,
      "outputs": [
        {
          "output_type": "execute_result",
          "data": {
            "text/plain": [
              "['A', 'B', 'C', 'D']"
            ]
          },
          "metadata": {},
          "execution_count": 109
        }
      ]
    },
    {
      "cell_type": "markdown",
      "source": [
        "Dado el hecho de que las listas si son mutable, en pocas palabras podemos decir que eso se llama Aliasing. Si apuntamos dos variables hacia el mismo objeto y desde cualquiera de esas variables realizamos un cambio. Este se verá reflejado en todas las variables que lo apunten."
      ],
      "metadata": {
        "id": "eKGri2bfQSwp"
      }
    },
    {
      "cell_type": "code",
      "source": [
        "Lista = [\"Hard Rock\", 10, 1.2] # Aqui creamos la lista"
      ],
      "metadata": {
        "id": "ef1ItPmhP6Sa"
      },
      "execution_count": null,
      "outputs": []
    },
    {
      "cell_type": "code",
      "source": [
        "Lista1 = Lista #Igualamos ambas listas, las asignamos a un mismo objeto\n",
        "Lista1"
      ],
      "metadata": {
        "colab": {
          "base_uri": "https://localhost:8080/"
        },
        "id": "vc5vrwdWQ5nt",
        "outputId": "7766f9d0-3ac5-49e9-b379-e65b48f25ebc"
      },
      "execution_count": null,
      "outputs": [
        {
          "output_type": "execute_result",
          "data": {
            "text/plain": [
              "['Hard Rock', 10, 1.2]"
            ]
          },
          "metadata": {},
          "execution_count": 119
        }
      ]
    },
    {
      "cell_type": "code",
      "source": [
        "Lista[0] = \"Banana\" #Cambiamos un valor de la lista desde ota variable. El cambio se verá reflejado en ambas.\n",
        "Lista1"
      ],
      "metadata": {
        "colab": {
          "base_uri": "https://localhost:8080/"
        },
        "id": "4mcFQPnMRBT2",
        "outputId": "4e4f93df-7433-4b84-87a6-5fc1e2a0fd5c"
      },
      "execution_count": null,
      "outputs": [
        {
          "output_type": "execute_result",
          "data": {
            "text/plain": [
              "['Banana', 10, 1.2]"
            ]
          },
          "metadata": {},
          "execution_count": 120
        }
      ]
    },
    {
      "cell_type": "markdown",
      "source": [
        "**List Aliasing**\n",
        "\n",
        "Dado el hecho que las listas si son inmutables, dos nombres (variables) pueden estar apuntando hacia un mismo objeto, y los cambios que hagas desde uno se verán reflejados en el otro. Así mismo del lado contrario."
      ],
      "metadata": {
        "id": "yNlvEbuW0MnL"
      }
    },
    {
      "cell_type": "code",
      "source": [
        "ListaA = [\"Hard Rock\", 10, 1.2]\n",
        "ListaB = ListaA\n",
        "ListaB"
      ],
      "metadata": {
        "colab": {
          "base_uri": "https://localhost:8080/"
        },
        "id": "sdPM3Zuq0mcw",
        "outputId": "9252814b-2c1e-4e5a-f6dc-a5ddbca5fb3d"
      },
      "execution_count": 30,
      "outputs": [
        {
          "output_type": "execute_result",
          "data": {
            "text/plain": [
              "['Hard Rock', 10, 1.2]"
            ]
          },
          "metadata": {},
          "execution_count": 30
        }
      ]
    },
    {
      "cell_type": "markdown",
      "source": [
        "Como se observa en el siguiente ejemplo ambas listas contienen lo mismo (aliasing)"
      ],
      "metadata": {
        "id": "YYjMTzJf096G"
      }
    },
    {
      "cell_type": "code",
      "source": [
        "ListaB[0]"
      ],
      "metadata": {
        "colab": {
          "base_uri": "https://localhost:8080/",
          "height": 37
        },
        "id": "YK0z0A5001k0",
        "outputId": "2d45a934-0dac-46fe-ceb0-ffd80247587e"
      },
      "execution_count": 33,
      "outputs": [
        {
          "output_type": "execute_result",
          "data": {
            "text/plain": [
              "'Hard Rock'"
            ],
            "application/vnd.google.colaboratory.intrinsic+json": {
              "type": "string"
            }
          },
          "metadata": {},
          "execution_count": 33
        }
      ]
    },
    {
      "cell_type": "code",
      "source": [
        "ListaA[0]"
      ],
      "metadata": {
        "colab": {
          "base_uri": "https://localhost:8080/",
          "height": 37
        },
        "id": "tWaVDxha05bN",
        "outputId": "59fd2982-8cb6-4fab-99a1-45b46620e676"
      },
      "execution_count": 34,
      "outputs": [
        {
          "output_type": "execute_result",
          "data": {
            "text/plain": [
              "'Hard Rock'"
            ],
            "application/vnd.google.colaboratory.intrinsic+json": {
              "type": "string"
            }
          },
          "metadata": {},
          "execution_count": 34
        }
      ]
    },
    {
      "cell_type": "code",
      "source": [
        "#Aquí editamos desde A el dato en el indice 0, y visualizamos en B que el cambio se ve reflejado.\n",
        "ListaA[0] = \"Banana\"\n",
        "ListaB "
      ],
      "metadata": {
        "colab": {
          "base_uri": "https://localhost:8080/"
        },
        "id": "GE2qovZP08W4",
        "outputId": "67ed2d5a-9bda-48eb-cbef-809a29f1689c"
      },
      "execution_count": 35,
      "outputs": [
        {
          "output_type": "execute_result",
          "data": {
            "text/plain": [
              "['Banana', 10, 1.2]"
            ]
          },
          "metadata": {},
          "execution_count": 35
        }
      ]
    },
    {
      "cell_type": "markdown",
      "source": [
        "**List Clone**\n",
        "\n",
        "Las listas se pueden clonar.\n"
      ],
      "metadata": {
        "id": "PrJkk67fRl81"
      }
    },
    {
      "cell_type": "code",
      "source": [
        "Lista3 = [\"Hard Rock\", 10, 1.2]\n",
        "Lista3"
      ],
      "metadata": {
        "colab": {
          "base_uri": "https://localhost:8080/"
        },
        "id": "HOayF6IGRpPK",
        "outputId": "f06049c1-72ef-49ea-a1c0-668fe940f437"
      },
      "execution_count": null,
      "outputs": [
        {
          "output_type": "execute_result",
          "data": {
            "text/plain": [
              "['Hard Rock', 10, 1.2]"
            ]
          },
          "metadata": {},
          "execution_count": 122
        }
      ]
    },
    {
      "cell_type": "code",
      "source": [
        "Lista4 = Lista3[:] #Aqui estamos clonando la lista\n",
        "Lista4"
      ],
      "metadata": {
        "colab": {
          "base_uri": "https://localhost:8080/"
        },
        "id": "v-DYotMfR1HY",
        "outputId": "eaad55e6-70ba-44da-9e72-4235864be0ac"
      },
      "execution_count": null,
      "outputs": [
        {
          "output_type": "execute_result",
          "data": {
            "text/plain": [
              "['Hard Rock', 10, 1.2]"
            ]
          },
          "metadata": {},
          "execution_count": 124
        }
      ]
    },
    {
      "cell_type": "markdown",
      "source": [
        "Question 1"
      ],
      "metadata": {
        "id": "yKY6f0dWSNcu"
      }
    },
    {
      "cell_type": "code",
      "source": [
        "A=(0,1,2,3)\n",
        "A[-1]"
      ],
      "metadata": {
        "colab": {
          "base_uri": "https://localhost:8080/"
        },
        "id": "F0ppVb8pSPYV",
        "outputId": "90539957-ee9e-4710-c07b-994f78f05181"
      },
      "execution_count": null,
      "outputs": [
        {
          "output_type": "execute_result",
          "data": {
            "text/plain": [
              "3"
            ]
          },
          "metadata": {},
          "execution_count": 131
        }
      ]
    },
    {
      "cell_type": "code",
      "source": [
        "B=[\"a\",\"b\",\"c\"]\n",
        "B[1:]"
      ],
      "metadata": {
        "colab": {
          "base_uri": "https://localhost:8080/"
        },
        "id": "GQUeXXuQS-fE",
        "outputId": "2ef7e3b9-09cc-490f-ad37-ce562676cd6c"
      },
      "execution_count": null,
      "outputs": [
        {
          "output_type": "execute_result",
          "data": {
            "text/plain": [
              "['b', 'c']"
            ]
          },
          "metadata": {},
          "execution_count": 132
        }
      ]
    },
    {
      "cell_type": "markdown",
      "source": [
        "**SETS IN PYTHON**\n",
        "\n",
        "Los sets son un tipo de colección de datos por ende se pueden meter datos de diferentes tipos, int, float, string. A diferencia de las listas y tupples un set no tiene un indexado, solamente tienen una sola posición, y se declaran usando corchetes.\n",
        "\n"
      ],
      "metadata": {
        "id": "L946bVV62Pa9"
      }
    },
    {
      "cell_type": "markdown",
      "source": [
        "**Creating a Set**"
      ],
      "metadata": {
        "id": "xQGEe7EB29R0"
      }
    },
    {
      "cell_type": "code",
      "execution_count": null,
      "metadata": {
        "id": "5vq3rtNrP4Sm",
        "outputId": "02e526dc-903d-4b3b-aa44-5249f0873d79",
        "colab": {
          "base_uri": "https://localhost:8080/"
        }
      },
      "outputs": [
        {
          "output_type": "execute_result",
          "data": {
            "text/plain": [
              "{'Disco', 'Hard Rock', 'Pop', 'R&B', 'Rock', 'Soul'}"
            ]
          },
          "metadata": {},
          "execution_count": 29
        }
      ],
      "source": [
        "Set1 = {\"Pop\", \"Rock\", \"Soul\", \"Hard Rock\", \"Rock\", \"R&B\", \"Rock\", \"Disco\"} #Cuando se crea la lista los elementos duplicados no estarán presentes, ejemplo la palabra rock\n",
        "Set1"
      ]
    },
    {
      "cell_type": "markdown",
      "source": [
        "**Set operations**"
      ],
      "metadata": {
        "id": "SGIpwhtD3Uw4"
      }
    },
    {
      "cell_type": "markdown",
      "source": [
        "Como convertir una lista en un set"
      ],
      "metadata": {
        "id": "FLO5zR2GTMZz"
      }
    },
    {
      "cell_type": "code",
      "source": [
        "album_list = [\"Michael Jackson\", \"Thriller\", \"Thriller\", 1982]"
      ],
      "metadata": {
        "id": "kqBk8JkLS9XY"
      },
      "execution_count": null,
      "outputs": []
    },
    {
      "cell_type": "code",
      "source": [
        "album_set = set(album_list) #Aqui convertimos nuestra lista en un set, por ende los elementos duplicados se omitiran/eliminarán\n",
        "album_set"
      ],
      "metadata": {
        "id": "MKNus6vnTlon",
        "outputId": "43425134-9ad7-4a70-e4c7-7f7364d6082a",
        "colab": {
          "base_uri": "https://localhost:8080/"
        }
      },
      "execution_count": null,
      "outputs": [
        {
          "output_type": "execute_result",
          "data": {
            "text/plain": [
              "{1982, 'Michael Jackson', 'Thriller'}"
            ]
          },
          "metadata": {},
          "execution_count": 31
        }
      ]
    },
    {
      "cell_type": "markdown",
      "source": [
        "Como agregar o eliminar un elemento a un set"
      ],
      "metadata": {
        "id": "wHUsmwooUkS_"
      }
    },
    {
      "cell_type": "code",
      "source": [
        "SetA = {\"Thriller\", \"Back in Black\", \"AC/DC\"} #Creamos el set"
      ],
      "metadata": {
        "id": "2lCl9dufU2G6"
      },
      "execution_count": null,
      "outputs": []
    },
    {
      "cell_type": "code",
      "source": [
        "SetA.add(\"Limp Bizkit\") #Agregamos un elemento a la lista. Si lo intentaramos agregar nuevamente nada pasaría ya que no poemos tener elementos repetidos en un set\n",
        "SetA"
      ],
      "metadata": {
        "id": "OtUEy9YSVPwq",
        "outputId": "d454a701-6434-4a2f-bdb0-0664fe17c236",
        "colab": {
          "base_uri": "https://localhost:8080/"
        }
      },
      "execution_count": null,
      "outputs": [
        {
          "output_type": "execute_result",
          "data": {
            "text/plain": [
              "{'AC/DC', 'Back in Black', 'Limp Bizkit', 'Thriller'}"
            ]
          },
          "metadata": {},
          "execution_count": 33
        }
      ]
    },
    {
      "cell_type": "code",
      "source": [
        "SetA.remove(\"Limp Bizkit\") #De esta forma vamos a eliminar el elemento del set\n",
        "SetA"
      ],
      "metadata": {
        "id": "V6Z3-NPBVdqW",
        "outputId": "cefdaadc-1542-4c50-ee90-0edfcc93d2ff",
        "colab": {
          "base_uri": "https://localhost:8080/"
        }
      },
      "execution_count": null,
      "outputs": [
        {
          "output_type": "execute_result",
          "data": {
            "text/plain": [
              "{'AC/DC', 'Back in Black', 'Thriller'}"
            ]
          },
          "metadata": {},
          "execution_count": 34
        }
      ]
    },
    {
      "cell_type": "markdown",
      "source": [
        "Como verificar si un elemento se encuentra en el set"
      ],
      "metadata": {
        "id": "6_MZoZZDWQsK"
      }
    },
    {
      "cell_type": "code",
      "source": [
        "\"Thriller\" in SetA #De esta forma verificamos si un elmento se encuentra dentro de nuestro set"
      ],
      "metadata": {
        "id": "PgU8MghpWEuv",
        "outputId": "d095c7be-7e94-4e9b-a0d0-5b5ab5f21cca",
        "colab": {
          "base_uri": "https://localhost:8080/"
        }
      },
      "execution_count": null,
      "outputs": [
        {
          "output_type": "execute_result",
          "data": {
            "text/plain": [
              "True"
            ]
          },
          "metadata": {},
          "execution_count": 35
        }
      ]
    },
    {
      "cell_type": "code",
      "source": [
        "\"Limp Bizkit\" in SetA #De esta forma verificamos si un elemento se encuentra dentro de nuestro set"
      ],
      "metadata": {
        "id": "U-yUMST6WpAk",
        "outputId": "a8393450-d0e3-4a96-861e-b2a3ff86c3ed",
        "colab": {
          "base_uri": "https://localhost:8080/"
        }
      },
      "execution_count": null,
      "outputs": [
        {
          "output_type": "execute_result",
          "data": {
            "text/plain": [
              "False"
            ]
          },
          "metadata": {},
          "execution_count": 36
        }
      ]
    },
    {
      "cell_type": "markdown",
      "source": [
        "Como combinar dos sets. Esto es posible de hacer en Python"
      ],
      "metadata": {
        "id": "39HGgwLSXR5T"
      }
    },
    {
      "cell_type": "code",
      "source": [
        "Album_set_1 = {\"Thriller\", \"Back in Black\", \"AC/DC\"}\n",
        "Album_set_1"
      ],
      "metadata": {
        "id": "YNpQ58hPWut5",
        "outputId": "0cfa2564-1f7d-4fe6-e8f2-7f1876f964f5",
        "colab": {
          "base_uri": "https://localhost:8080/"
        }
      },
      "execution_count": null,
      "outputs": [
        {
          "output_type": "execute_result",
          "data": {
            "text/plain": [
              "{'AC/DC', 'Back in Black', 'Thriller'}"
            ]
          },
          "metadata": {},
          "execution_count": 39
        }
      ]
    },
    {
      "cell_type": "code",
      "source": [
        "Album_set_2 = {\"Thriller\", \"Back in Black\", \"The Dark Side of the Moon\"}\n",
        "Album_set_2"
      ],
      "metadata": {
        "id": "YmyOxKjUX0Qa",
        "outputId": "f30f98e3-efd0-4001-af1f-c7ae669c88be",
        "colab": {
          "base_uri": "https://localhost:8080/"
        }
      },
      "execution_count": null,
      "outputs": [
        {
          "output_type": "execute_result",
          "data": {
            "text/plain": [
              "{'Back in Black', 'The Dark Side of the Moon', 'Thriller'}"
            ]
          },
          "metadata": {},
          "execution_count": 44
        }
      ]
    },
    {
      "cell_type": "markdown",
      "source": [
        "**Set. Mathematical Operations**\n",
        "\n"
      ],
      "metadata": {
        "id": "wNXhrKO73jN5"
      }
    },
    {
      "cell_type": "code",
      "source": [
        "Album_set_1 & Album_set_2 #De esta forma estaríamos combinando ambos de nuestros sets. Este nuevo set contendrá todos los elementos que se encuentren en amos sets"
      ],
      "metadata": {
        "id": "3sck6jGxYGeg",
        "outputId": "138346a0-03e0-43eb-c5f6-c9ca7e867904",
        "colab": {
          "base_uri": "https://localhost:8080/"
        }
      },
      "execution_count": null,
      "outputs": [
        {
          "output_type": "execute_result",
          "data": {
            "text/plain": [
              "{'Back in Black', 'The Dark Side of the Moon', 'Thriller'}"
            ]
          },
          "metadata": {},
          "execution_count": 51
        }
      ]
    },
    {
      "cell_type": "markdown",
      "source": [
        "Como combinar dos sets, y que pasa una vez que estos se combinan.\n",
        "Cuando combinamos dos sets, solamente permaneceran los elementos que sean compartidos en ambos sets."
      ],
      "metadata": {
        "id": "rEOUZmJxc1B6"
      }
    },
    {
      "cell_type": "code",
      "source": [
        "SetUno = {\"Perro\", \"Aguila\", \"Pato\"}\n",
        "SetDos = {\"Perro\", \"Aguila\", \"Pato\", \"Gallo\"}"
      ],
      "metadata": {
        "id": "vp90P4lYc0an"
      },
      "execution_count": null,
      "outputs": []
    },
    {
      "cell_type": "code",
      "source": [
        "SetTres = SetUno & SetDos\n",
        "SetTres"
      ],
      "metadata": {
        "id": "pJyOd_kPd9d7",
        "outputId": "23f227f8-056b-4440-83ec-a1fbe75ff9e9",
        "colab": {
          "base_uri": "https://localhost:8080/"
        }
      },
      "execution_count": null,
      "outputs": [
        {
          "output_type": "execute_result",
          "data": {
            "text/plain": [
              "{'Aguila', 'Pato', 'Perro'}"
            ]
          },
          "metadata": {},
          "execution_count": 54
        }
      ]
    },
    {
      "cell_type": "code",
      "source": [
        "SetUno.union(SetDos) # De esta forma encontramos la union de ambos sets por ende tendremos todos los elementos de ambos. Sin embargo los elementos repetidos seguirán siendo omitidos"
      ],
      "metadata": {
        "id": "aNEr6MhifNOo",
        "outputId": "d2c851c8-0534-41ca-bf8e-92b55f1832dd",
        "colab": {
          "base_uri": "https://localhost:8080/"
        }
      },
      "execution_count": null,
      "outputs": [
        {
          "output_type": "execute_result",
          "data": {
            "text/plain": [
              "{'Aguila', 'Gallo', 'Pato', 'Perro'}"
            ]
          },
          "metadata": {},
          "execution_count": 60
        }
      ]
    },
    {
      "cell_type": "markdown",
      "source": [
        "Como checar si un set es un subset"
      ],
      "metadata": {
        "id": "z0W_qeKVgEwD"
      }
    },
    {
      "cell_type": "code",
      "source": [
        "SetTres.issubset(SetUno) #Aqui validamos si SetUno es un subset de SetTres"
      ],
      "metadata": {
        "id": "AduPDLeZf677",
        "outputId": "1280281a-a1d2-4d01-bfdb-74c61bfebb0b",
        "colab": {
          "base_uri": "https://localhost:8080/"
        }
      },
      "execution_count": null,
      "outputs": [
        {
          "output_type": "execute_result",
          "data": {
            "text/plain": [
              "True"
            ]
          },
          "metadata": {},
          "execution_count": 62
        }
      ]
    },
    {
      "cell_type": "code",
      "source": [
        "S={'A','B','C'}\n",
        "U={'A','Z','C'}"
      ],
      "metadata": {
        "id": "O08hU-t2gf08"
      },
      "execution_count": null,
      "outputs": []
    },
    {
      "cell_type": "code",
      "source": [
        "S & U"
      ],
      "metadata": {
        "id": "Iev5P3KHhlnT",
        "outputId": "07736576-7a56-4b5d-abb7-0505ce153261",
        "colab": {
          "base_uri": "https://localhost:8080/"
        }
      },
      "execution_count": null,
      "outputs": [
        {
          "output_type": "execute_result",
          "data": {
            "text/plain": [
              "{'A', 'C'}"
            ]
          },
          "metadata": {},
          "execution_count": 66
        }
      ]
    },
    {
      "cell_type": "markdown",
      "source": [
        "Encontrar la union de los sets"
      ],
      "metadata": {
        "id": "lyHEyyyOiFMl"
      }
    },
    {
      "cell_type": "code",
      "source": [
        "S.union(U)"
      ],
      "metadata": {
        "id": "oYb6BofpgpQ4",
        "outputId": "096035ac-078a-404a-b81e-9867580a757b",
        "colab": {
          "base_uri": "https://localhost:8080/"
        }
      },
      "execution_count": null,
      "outputs": [
        {
          "output_type": "execute_result",
          "data": {
            "text/plain": [
              "{'A', 'B', 'C', 'Z'}"
            ]
          },
          "metadata": {},
          "execution_count": 68
        }
      ]
    },
    {
      "cell_type": "markdown",
      "source": [
        "**DICCIONARIOS**\n",
        "\n",
        "\n",
        "Los diccionarios en Python, son como una especie de lista, estos también guardan diferentes valores en diferentes posiciones con un index, a diferencia de ese index que se tienen en las listas, los diccionarios tienen algo equivalente a lo que se le llama \"Key\" cada una de ellas tiene un valor asignado y asi se puede accesar al valor, a través de la key."
      ],
      "metadata": {
        "id": "Kh4zq2NTwmc8"
      }
    },
    {
      "cell_type": "code",
      "source": [
        "DIC = {\"Animal1\": 'Perro', \"Animal2\": 'gato', \"Animal3\":'Perico', \"Animal4\":'Ballena'} #Declaramos el diciconario las \"key\" serían Animal1, Animal2..."
      ],
      "metadata": {
        "id": "Rh0pB2okxDQL"
      },
      "execution_count": null,
      "outputs": []
    },
    {
      "cell_type": "code",
      "source": [
        "DIC[\"Animal3\"] #Sacamos el valor que tiene la llave \"Animal3\""
      ],
      "metadata": {
        "id": "L9z_vAaQxo8l",
        "outputId": "09b1d4bf-f0fa-4e86-d1da-11bbf70ff21d",
        "colab": {
          "base_uri": "https://localhost:8080/",
          "height": 37
        }
      },
      "execution_count": null,
      "outputs": [
        {
          "output_type": "execute_result",
          "data": {
            "text/plain": [
              "'Perico'"
            ],
            "application/vnd.google.colaboratory.intrinsic+json": {
              "type": "string"
            }
          },
          "metadata": {},
          "execution_count": 7
        }
      ]
    },
    {
      "cell_type": "markdown",
      "source": [
        "**Como agregar un nuevo valor al diccionario**"
      ],
      "metadata": {
        "id": "h-posZyjym-N"
      }
    },
    {
      "cell_type": "code",
      "source": [
        "DIC[\"Animal5\"] = 'Aguila'\n",
        "DIC[\"Animal5\"]"
      ],
      "metadata": {
        "id": "ixSBT1mAydFt",
        "outputId": "47c4c744-bd2e-44a9-cab1-833dc22cbb3b",
        "colab": {
          "base_uri": "https://localhost:8080/",
          "height": 37
        }
      },
      "execution_count": null,
      "outputs": [
        {
          "output_type": "execute_result",
          "data": {
            "text/plain": [
              "'Aguila'"
            ],
            "application/vnd.google.colaboratory.intrinsic+json": {
              "type": "string"
            }
          },
          "metadata": {},
          "execution_count": 16
        }
      ]
    },
    {
      "cell_type": "markdown",
      "source": [
        "**Como eliminar un valor del diccionario**"
      ],
      "metadata": {
        "id": "6VB5VvSfzWjF"
      }
    },
    {
      "cell_type": "code",
      "source": [
        "del(DIC[\"Animal5\"]) #Aqui eliminamos el valor que tiene la llave \"Animal5\""
      ],
      "metadata": {
        "id": "lUf2EjmFzVTW"
      },
      "execution_count": null,
      "outputs": []
    },
    {
      "cell_type": "code",
      "source": [
        "DIC[\"Animal5\"] #Aqui obtendremos un error dado que ese valor ya fue eliminado en la linea anterior"
      ],
      "metadata": {
        "id": "NsQCVSXez-e7",
        "outputId": "bb234e1e-326f-42bf-e861-757c1ff54c9b",
        "colab": {
          "base_uri": "https://localhost:8080/",
          "height": 164
        }
      },
      "execution_count": null,
      "outputs": [
        {
          "output_type": "error",
          "ename": "KeyError",
          "evalue": "ignored",
          "traceback": [
            "\u001b[0;31m---------------------------------------------------------------------------\u001b[0m",
            "\u001b[0;31mKeyError\u001b[0m                                  Traceback (most recent call last)",
            "\u001b[0;32m<ipython-input-19-accc4e4d09f1>\u001b[0m in \u001b[0;36m<module>\u001b[0;34m\u001b[0m\n\u001b[0;32m----> 1\u001b[0;31m \u001b[0mDIC\u001b[0m\u001b[0;34m[\u001b[0m\u001b[0;34m\"Animal5\"\u001b[0m\u001b[0;34m]\u001b[0m \u001b[0;31m#Aqui obtendremos un error dado que ese valor ya fue eliminado en la linea anterior\u001b[0m\u001b[0;34m\u001b[0m\u001b[0;34m\u001b[0m\u001b[0m\n\u001b[0m",
            "\u001b[0;31mKeyError\u001b[0m: 'Animal5'"
          ]
        }
      ]
    },
    {
      "cell_type": "markdown",
      "source": [
        "**Como buscar un elemento en un diccionario**"
      ],
      "metadata": {
        "id": "eNQ1i-1J0RAg"
      }
    },
    {
      "cell_type": "code",
      "source": [
        "\"Animal2\" in DIC #Aqui buscamos la llave Animal 2, para ver si esta dentro del diccionario"
      ],
      "metadata": {
        "id": "ZPnrwhkJ0LJP",
        "outputId": "5adcab03-4741-4e31-c2f9-51e9669a5dfb",
        "colab": {
          "base_uri": "https://localhost:8080/"
        }
      },
      "execution_count": null,
      "outputs": [
        {
          "output_type": "execute_result",
          "data": {
            "text/plain": [
              "True"
            ]
          },
          "metadata": {},
          "execution_count": 21
        }
      ]
    },
    {
      "cell_type": "code",
      "source": [
        "\"Animal5\" in DIC #Aquí obtendremos False ya que ese valor ya fue borrado"
      ],
      "metadata": {
        "id": "KWszrvDJ0q-Y",
        "outputId": "adc528c4-01ec-4851-88b7-234a7f506883",
        "colab": {
          "base_uri": "https://localhost:8080/"
        }
      },
      "execution_count": null,
      "outputs": [
        {
          "output_type": "execute_result",
          "data": {
            "text/plain": [
              "False"
            ]
          },
          "metadata": {},
          "execution_count": 23
        }
      ]
    },
    {
      "cell_type": "markdown",
      "source": [
        "**Como ver todas las llaves que tiene el dicionario**"
      ],
      "metadata": {
        "id": "XAwf3sJf1F-J"
      }
    },
    {
      "cell_type": "code",
      "source": [
        "DIC.keys()"
      ],
      "metadata": {
        "id": "_nJKqI_j1Njp",
        "outputId": "c4f5a07a-ef8d-45b0-d4a2-42cbce950fed",
        "colab": {
          "base_uri": "https://localhost:8080/"
        }
      },
      "execution_count": null,
      "outputs": [
        {
          "output_type": "execute_result",
          "data": {
            "text/plain": [
              "dict_keys(['Animal1', 'Animal2', 'Animal3', 'Animal4'])"
            ]
          },
          "metadata": {},
          "execution_count": 25
        }
      ]
    },
    {
      "cell_type": "markdown",
      "source": [
        "**Como ver todos los valores que tiene el diccionario**"
      ],
      "metadata": {
        "id": "Xbp18Vk61zIi"
      }
    },
    {
      "cell_type": "code",
      "source": [
        "DIC.values()"
      ],
      "metadata": {
        "id": "MR1SKvjW13ZD",
        "outputId": "9ba718fc-a80d-4401-81e3-a753264b4717",
        "colab": {
          "base_uri": "https://localhost:8080/"
        }
      },
      "execution_count": null,
      "outputs": [
        {
          "output_type": "execute_result",
          "data": {
            "text/plain": [
              "dict_values(['Perro', 'gato', 'Perico', 'Ballena'])"
            ]
          },
          "metadata": {},
          "execution_count": 31
        }
      ]
    },
    {
      "cell_type": "markdown",
      "source": [
        "**Quiz**"
      ],
      "metadata": {
        "id": "FSzDwJs63ZCX"
      }
    },
    {
      "cell_type": "code",
      "source": [
        "Lista = [\"a\", \"b\", \"c\"]\n",
        "Lista"
      ],
      "metadata": {
        "id": "npKPKWhm3X_M",
        "outputId": "1071d027-bf5d-47b5-aa03-32fd8d9807e0",
        "colab": {
          "base_uri": "https://localhost:8080/"
        }
      },
      "execution_count": null,
      "outputs": [
        {
          "output_type": "execute_result",
          "data": {
            "text/plain": [
              "['a', 'b', 'c']"
            ]
          },
          "metadata": {},
          "execution_count": 38
        }
      ]
    },
    {
      "cell_type": "code",
      "source": [
        "Lista.append([\"c\",\"d\"])\n",
        "Lista"
      ],
      "metadata": {
        "id": "Zijr2NeR3pyi",
        "outputId": "8b7114e4-d4b7-4e17-8dce-d8c81390267c",
        "colab": {
          "base_uri": "https://localhost:8080/"
        }
      },
      "execution_count": null,
      "outputs": [
        {
          "output_type": "execute_result",
          "data": {
            "text/plain": [
              "['a', 'b', 'c', ['c', 'd']]"
            ]
          },
          "metadata": {},
          "execution_count": 39
        }
      ]
    }
  ]
}